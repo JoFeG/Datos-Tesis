{
 "cells": [
  {
   "cell_type": "code",
   "execution_count": 1,
   "id": "9a4d1615-0975-4779-90f8-c0e30ece61c6",
   "metadata": {
    "tags": []
   },
   "outputs": [],
   "source": [
    "using GeoJSON, GLMakie, GeoMakie, Makie"
   ]
  },
  {
   "cell_type": "code",
   "execution_count": 2,
   "id": "2e6236c4-0fbc-476f-aa9f-17a9f1e4e3d0",
   "metadata": {
    "tags": []
   },
   "outputs": [
    {
     "name": "stdout",
     "output_type": "stream",
     "text": [
      "areas = 103\n",
      "areas_disueltas = 103\n",
      "centros = 644\n"
     ]
    }
   ],
   "source": [
    "path = \"./data/areas_geojson/areas_psmb.geojson\"\n",
    "areas = GeoJSON.read(read(path))\n",
    "println(\"areas = \", length(areas))\n",
    "\n",
    "path = \"./data/areas_geojson/areas_psmb_disueltas.geojson\"\n",
    "areas_disueltas = GeoJSON.read(read(path))\n",
    "println(\"areas_disueltas = \", length(areas_disueltas))\n",
    "\n",
    "path = \"./data/areas_geojson/centros_psmb.geojson\"\n",
    "centros = GeoJSON.read(read(path))\n",
    "println(\"centros = \", length(centros))"
   ]
  },
  {
   "cell_type": "code",
   "execution_count": 3,
   "id": "f2a9025c-ddba-49f4-9756-3912956ba7ee",
   "metadata": {
    "tags": []
   },
   "outputs": [
    {
     "name": "stdout",
     "output_type": "stream",
     "text": [
      "[10002.0, 10204.0, 10207.0, 10218.0, 10219.0, 10221.0, 10222.0, 10224.0, 10227.0, 10228.0]\n",
      "[1.0, 2.0, 3.0, 4.0, 5.0, 6.0, 7.0, 8.0, 9.0, 10.0]\n"
     ]
    }
   ],
   "source": [
    "range = 1:10\n",
    "println(areas.codigoarea[range])\n",
    "println(areas_disueltas.nuevo_id[range])"
   ]
  },
  {
   "cell_type": "code",
   "execution_count": 4,
   "id": "8f43e77d-4f31-41ef-bc9e-046c402e7b8b",
   "metadata": {
    "tags": []
   },
   "outputs": [
    {
     "data": {
      "text/plain": [
       "1"
      ]
     },
     "execution_count": 4,
     "metadata": {},
     "output_type": "execute_result"
    }
   ],
   "source": [
    "k = 1\n",
    "n = length(areas)\n",
    "flag = ones(Bool,n)\n",
    "ids = ones(Int,n)\n",
    "for i = 1:n\n",
    "    for j = i+1:n\n",
    "        if flag[j] && (areas_disueltas.geometry[i][:] == areas_disueltas.geometry[j][:])\n",
    "            ids[j] = k\n",
    "            flag[j] = false\n",
    "        end\n",
    "    end\n",
    "    if flag[i]\n",
    "        ids[i] = k\n",
    "        k = k + 1\n",
    "    end\n",
    "end\n",
    "\n",
    "maximum(ids)"
   ]
  },
  {
   "cell_type": "code",
   "execution_count": 5,
   "id": "277368b5-9ec4-473a-af21-00ba18de26b9",
   "metadata": {
    "tags": []
   },
   "outputs": [
    {
     "data": {
      "text/plain": [
       "true"
      ]
     },
     "execution_count": 5,
     "metadata": {},
     "output_type": "execute_result"
    }
   ],
   "source": [
    "areas_disueltas.geometry[1][:] == areas_disueltas.geometry[3][:]"
   ]
  },
  {
   "cell_type": "markdown",
   "id": "074c697f-2f67-4fb5-bbc8-a3b46ab043e3",
   "metadata": {},
   "source": [
    "---"
   ]
  },
  {
   "cell_type": "code",
   "execution_count": 6,
   "id": "786a1cae-c569-483f-8834-38b3f3dc1856",
   "metadata": {
    "tags": []
   },
   "outputs": [],
   "source": [
    "using LazySets"
   ]
  },
  {
   "cell_type": "code",
   "execution_count": 7,
   "id": "bdd8c7eb-2011-487b-b27a-268e30e264b0",
   "metadata": {
    "tags": []
   },
   "outputs": [
    {
     "data": {
      "text/plain": [
       "false"
      ]
     },
     "execution_count": 7,
     "metadata": {},
     "output_type": "execute_result"
    }
   ],
   "source": [
    "k = 1\n",
    "n = length(areas)\n",
    "\n",
    "Hulls = []\n",
    "for k = 1:n\n",
    "    POL = [[areas.geometry[k][1][1][i][1],areas.geometry[k][1][1][i][2]] for i in 1:length(areas.geometry[k][1][1])]\n",
    "    Hulls = cat(Hulls,[convex_hull(POL)],dims=1)\n",
    "end\n",
    "\n",
    "i=1\n",
    "j=66\n",
    "!(isempty( VPolygon(Hulls[i]) ∩ VPolygon(Hulls[j])))"
   ]
  },
  {
   "cell_type": "code",
   "execution_count": 8,
   "id": "4f992de8-261c-4015-bf68-e88dfa6eb534",
   "metadata": {
    "collapsed": true,
    "jupyter": {
     "outputs_hidden": true
    },
    "tags": []
   },
   "outputs": [
    {
     "data": {
      "text/plain": [
       "103-element Vector{Int64}:\n",
       "  1\n",
       "  2\n",
       "  3\n",
       "  4\n",
       "  5\n",
       "  6\n",
       "  7\n",
       "  8\n",
       "  9\n",
       "  5\n",
       " 10\n",
       " 11\n",
       " 12\n",
       "  ⋮\n",
       "  8\n",
       "  6\n",
       " 67\n",
       " 68\n",
       " 69\n",
       " 70\n",
       " 71\n",
       " 72\n",
       " 73\n",
       " 34\n",
       " 74\n",
       " 75"
      ]
     },
     "execution_count": 8,
     "metadata": {},
     "output_type": "execute_result"
    }
   ],
   "source": [
    "k=1\n",
    "flag = ones(Bool,n)\n",
    "ids = ones(Int,n)\n",
    "for i = 1:n\n",
    "    for j = i+1:n\n",
    "        if flag[j] && !(isempty( VPolygon(Hulls[i]) ∩ VPolygon(Hulls[j])))\n",
    "            ids[j] = k\n",
    "            flag[j] = false\n",
    "        end\n",
    "    end\n",
    "    if flag[i]\n",
    "        ids[i] = k\n",
    "        k = k + 1\n",
    "    end\n",
    "end\n",
    "\n",
    "ids"
   ]
  },
  {
   "cell_type": "markdown",
   "id": "cf7303a0-0b68-49b3-9d94-c6af2a9c8fdb",
   "metadata": {},
   "source": [
    "---\n",
    "\n",
    "## Intersecctions, substractions, etc. using ...  \n",
    "LazySets ???\n",
    "\n",
    "**ver https://github.com/JuliaGeo/LibGEOS.jl o similar**"
   ]
  },
  {
   "cell_type": "code",
   "execution_count": 2,
   "id": "fa137c50-9846-4ab2-899d-82e6aeee0cef",
   "metadata": {
    "tags": []
   },
   "outputs": [],
   "source": [
    "using LazySets, GLMakie, Makie"
   ]
  },
  {
   "cell_type": "code",
   "execution_count": 84,
   "id": "db478a2f-1bff-47c3-ad7a-4333913d9d81",
   "metadata": {
    "tags": []
   },
   "outputs": [
    {
     "data": {
      "image/png": "[encoded data removed]"
     },
     "execution_count": 84,
     "metadata": {},
     "output_type": "execute_result"
    }
   ],
   "source": [
    "pol_1 = [(1.,1),(1.,2),(2.,2),(2.,1)]\n",
    "pol_2 = [(1.5,1.5),(1.2,2.5),(1.5,3.5),(1.8,2.5)]\n",
    "fig = Figure()\n",
    "ax = Axis(fig[1, 1])\n",
    "\n",
    "poly!(pol_1)\n",
    "poly!(pol_2)\n",
    "\n",
    "xlims!(-.5,3.5)\n",
    "ylims!(0,4)\n",
    "ax.aspect = 1\n",
    "\n",
    "fig\n"
   ]
  },
  {
   "cell_type": "code",
   "execution_count": 97,
   "id": "aeb52f71-8e39-4ef8-b828-3851848f896d",
   "metadata": {
    "tags": []
   },
   "outputs": [
    {
     "data": {
      "text/plain": [
       "UnionSet{Float64, VPolygon{Float64, Vector{Float64}}, VPolygon{Float64, Vector{Float64}}}(VPolygon{Float64, Vector{Float64}}([[1.0, 1.0], [2.0, 1.0], [2.0, 2.0], [1.0, 2.0]]), VPolygon{Float64, Vector{Float64}}([[1.5, 1.5], [1.8, 2.5], [1.5, 3.5], [1.2, 2.5]]))"
      ]
     },
     "execution_count": 97,
     "metadata": {},
     "output_type": "execute_result"
    }
   ],
   "source": [
    "function b2p(POL)\n",
    "    return [(POL[i][1],POL[i][2]) for i = 1:length(POL)]\n",
    "end\n",
    "function p2b(POL)\n",
    "    return [[POL[i][1],POL[i][2]] for i = 1:length(POL)]\n",
    "end\n",
    "\n",
    "SET = VPolygon(p2b(pol_1)) ∪ VPolygon(p2b(pol_2))\n"
   ]
  },
  {
   "cell_type": "code",
   "execution_count": 99,
   "id": "2f3eed37-3524-4bc3-9e5f-8cc7f2adbef4",
   "metadata": {
    "tags": []
   },
   "outputs": [
    {
     "ename": "LoadError",
     "evalue": "PlotMethodError: no \u001b[36mplot\u001b[39m method for arguments \u001b[36m(::UnionSet{Float64, VPolygon{Float64, Vector{Float64}}, VPolygon{Float64, Vector{Float64}}})\u001b[39m. To support these arguments, define\n  \u001b[36mplot!(::Combined{Any, S} where S<:Tuple{UnionSet{Float64, VPolygon{Float64, Vector{Float64}}, VPolygon{Float64, Vector{Float64}}}})\u001b[39m\nAvailable methods are:\n",
     "output_type": "error",
     "traceback": [
      "PlotMethodError: no \u001b[36mplot\u001b[39m method for arguments \u001b[36m(::UnionSet{Float64, VPolygon{Float64, Vector{Float64}}, VPolygon{Float64, Vector{Float64}}})\u001b[39m. To support these arguments, define\n  \u001b[36mplot!(::Combined{Any, S} where S<:Tuple{UnionSet{Float64, VPolygon{Float64, Vector{Float64}}, VPolygon{Float64, Vector{Float64}}}})\u001b[39m\nAvailable methods are:\n",
      "",
      "Stacktrace:",
      "  [1] _plot!(p::Combined{Any, Tuple{UnionSet{Float64, VPolygon{Float64, Vector{Float64}}, VPolygon{Float64, Vector{Float64}}}}})",
      "    @ Makie C:\\Users\\Usuario\\.julia\\packages\\Makie\\DekzU\\src\\interfaces.jl:355",
      "  [2] plot!(p::Combined{Any, Tuple{UnionSet{Float64, VPolygon{Float64, Vector{Float64}}, VPolygon{Float64, Vector{Float64}}}}})",
      "    @ Makie C:\\Users\\Usuario\\.julia\\packages\\Makie\\DekzU\\src\\interfaces.jl:350",
      "  [3] plot!(scene::Scene, P::Type{Combined{Any, Tuple{UnionSet{Float64, VPolygon{Float64, Vector{Float64}}, VPolygon{Float64, Vector{Float64}}}}}}, attributes::Attributes, input::Tuple{Observable{UnionSet{Float64, VPolygon{Float64, Vector{Float64}}, VPolygon{Float64, Vector{Float64}}}}}, args::Observable{Tuple{UnionSet{Float64, VPolygon{Float64, Vector{Float64}}, VPolygon{Float64, Vector{Float64}}}}})",
      "    @ Makie C:\\Users\\Usuario\\.julia\\packages\\Makie\\DekzU\\src\\interfaces.jl:432",
      "  [4] plot!(scene::Scene, P::Type{Any}, attributes::Attributes, args::UnionSet{Float64, VPolygon{Float64, Vector{Float64}}, VPolygon{Float64, Vector{Float64}}}; kw_attributes::Base.Pairs{Symbol, Union{}, Tuple{}, NamedTuple{(), Tuple{}}})",
      "    @ Makie C:\\Users\\Usuario\\.julia\\packages\\Makie\\DekzU\\src\\interfaces.jl:344",
      "  [5] plot!(scene::Scene, P::Type{Any}, attributes::Attributes, args::UnionSet{Float64, VPolygon{Float64, Vector{Float64}}, VPolygon{Float64, Vector{Float64}}})",
      "    @ Makie C:\\Users\\Usuario\\.julia\\packages\\Makie\\DekzU\\src\\interfaces.jl:311",
      "  [6] plot!(la::Axis, P::Type{Any}, attributes::Attributes, args::UnionSet{Float64, VPolygon{Float64, Vector{Float64}}, VPolygon{Float64, Vector{Float64}}}; kw_attributes::Base.Pairs{Symbol, Union{}, Tuple{}, NamedTuple{(), Tuple{}}})",
      "    @ Makie C:\\Users\\Usuario\\.julia\\packages\\Makie\\DekzU\\src\\makielayout\\blocks\\axis.jl:792",
      "  [7] plot!(la::Axis, P::Type{Any}, attributes::Attributes, args::UnionSet{Float64, VPolygon{Float64, Vector{Float64}}, VPolygon{Float64, Vector{Float64}}})",
      "    @ Makie C:\\Users\\Usuario\\.julia\\packages\\Makie\\DekzU\\src\\makielayout\\blocks\\axis.jl:779",
      "  [8] plot!(P::Type{Any}, ax::Axis, args::UnionSet{Float64, VPolygon{Float64, Vector{Float64}}, VPolygon{Float64, Vector{Float64}}}; kw_attributes::Base.Pairs{Symbol, Union{}, Tuple{}, NamedTuple{(), Tuple{}}})",
      "    @ Makie C:\\Users\\Usuario\\.julia\\packages\\Makie\\DekzU\\src\\makielayout\\blocks\\axis.jl:809",
      "  [9] plot!(P::Type{Any}, ax::Axis, args::UnionSet{Float64, VPolygon{Float64, Vector{Float64}}, VPolygon{Float64, Vector{Float64}}})",
      "    @ Makie C:\\Users\\Usuario\\.julia\\packages\\Makie\\DekzU\\src\\makielayout\\blocks\\axis.jl:807",
      " [10] plot!(P::Type{Any}, args::UnionSet{Float64, VPolygon{Float64, Vector{Float64}}, VPolygon{Float64, Vector{Float64}}}; kw_attributes::Base.Pairs{Symbol, Union{}, Tuple{}, NamedTuple{(), Tuple{}}})",
      "    @ Makie C:\\Users\\Usuario\\.julia\\packages\\Makie\\DekzU\\src\\figureplotting.jl:69",
      " [11] plot!",
      "    @ C:\\Users\\Usuario\\.julia\\packages\\Makie\\DekzU\\src\\figureplotting.jl:64 [inlined]",
      " [12] #plot!#14",
      "    @ C:\\Users\\Usuario\\.julia\\packages\\MakieCore\\6sckc\\src\\recipes.jl:38 [inlined]",
      " [13] plot!(args::UnionSet{Float64, VPolygon{Float64, Vector{Float64}}, VPolygon{Float64, Vector{Float64}}})",
      "    @ MakieCore C:\\Users\\Usuario\\.julia\\packages\\MakieCore\\6sckc\\src\\recipes.jl:37",
      " [14] top-level scope",
      "    @ In[99]:5"
     ]
    }
   ],
   "source": [
    "fig = Figure()\n",
    "ax = Axis(fig[1, 1])\n",
    "\n",
    "\n",
    "poly!(SET)\n",
    "\n",
    "xlims!(-.5,3.5)\n",
    "ylims!(0,4)\n",
    "ax.aspect = 1\n",
    "\n",
    "fig"
   ]
  },
  {
   "cell_type": "markdown",
   "id": "29894f8d-4508-485e-8eab-06ebedba369d",
   "metadata": {},
   "source": [
    "---\n",
    "### GeoInterface, LibGEOS"
   ]
  },
  {
   "cell_type": "code",
   "execution_count": 1,
   "id": "5352a91d-0a8c-4a8a-b818-7cace2c8b1cf",
   "metadata": {
    "tags": []
   },
   "outputs": [],
   "source": [
    "using GeoInterface, LibGEOS, GLMakie, Makie"
   ]
  },
  {
   "cell_type": "code",
   "execution_count": 5,
   "id": "4a4c9ac3-b9ed-464f-ae1a-d60c4c573489",
   "metadata": {
    "tags": []
   },
   "outputs": [
    {
     "data": {
      "image/png": "[encoded data removed]"
     },
     "execution_count": 5,
     "metadata": {},
     "output_type": "execute_result"
    }
   ],
   "source": [
    "pol_1 = [(1.,1),(1.,2),(2.,2),(2.,1)]\n",
    "pol_2 = [(1.5,1.5),(1.2,2.5),(1.5,3.5),(1.8,2.5)]\n",
    "fig = Figure()\n",
    "ax = Axis(fig[1, 1])\n",
    "\n",
    "poly!(pol_1)\n",
    "poly!(pol_2)\n",
    "\n",
    "xlims!(-.5,3.5)\n",
    "ylims!(0,4)\n",
    "ax.aspect = 1\n",
    "\n",
    "fig\n"
   ]
  },
  {
   "cell_type": "code",
   "execution_count": 13,
   "id": "ad2d3883-ae94-42b7-afc6-14e4236c6a20",
   "metadata": {
    "tags": []
   },
   "outputs": [
    {
     "ename": "LoadError",
     "evalue": "MethodError: no method matching createPolygon(::Vector{Vector{Float64}})\n\u001b[0mClosest candidates are:\n\u001b[0m  createPolygon(\u001b[91m::Union{Ptr{Nothing}, LinearRing}\u001b[39m) at C:\\Users\\Usuario\\.julia\\packages\\LibGEOS\\oez93\\src\\geos_functions.jl:469\n\u001b[0m  createPolygon(\u001b[91m::Union{Ptr{Nothing}, LinearRing}\u001b[39m, \u001b[91m::AbstractVector\u001b[39m) at C:\\Users\\Usuario\\.julia\\packages\\LibGEOS\\oez93\\src\\geos_functions.jl:457\n\u001b[0m  createPolygon(\u001b[91m::Union{Ptr{Nothing}, LinearRing}\u001b[39m, \u001b[91m::AbstractVector\u001b[39m, \u001b[91m::LibGEOS.GEOSContext\u001b[39m) at C:\\Users\\Usuario\\.julia\\packages\\LibGEOS\\oez93\\src\\geos_functions.jl:457\n\u001b[0m  ...",
     "output_type": "error",
     "traceback": [
      "MethodError: no method matching createPolygon(::Vector{Vector{Float64}})\n\u001b[0mClosest candidates are:\n\u001b[0m  createPolygon(\u001b[91m::Union{Ptr{Nothing}, LinearRing}\u001b[39m) at C:\\Users\\Usuario\\.julia\\packages\\LibGEOS\\oez93\\src\\geos_functions.jl:469\n\u001b[0m  createPolygon(\u001b[91m::Union{Ptr{Nothing}, LinearRing}\u001b[39m, \u001b[91m::AbstractVector\u001b[39m) at C:\\Users\\Usuario\\.julia\\packages\\LibGEOS\\oez93\\src\\geos_functions.jl:457\n\u001b[0m  createPolygon(\u001b[91m::Union{Ptr{Nothing}, LinearRing}\u001b[39m, \u001b[91m::AbstractVector\u001b[39m, \u001b[91m::LibGEOS.GEOSContext\u001b[39m) at C:\\Users\\Usuario\\.julia\\packages\\LibGEOS\\oez93\\src\\geos_functions.jl:457\n\u001b[0m  ...",
      "",
      "Stacktrace:",
      " [1] top-level scope",
      "   @ In[13]:3"
     ]
    }
   ],
   "source": [
    "pp = p2b(pol_1)\n",
    "\n",
    "LibGEOS.createPolygon(pp)"
   ]
  },
  {
   "cell_type": "code",
   "execution_count": 15,
   "id": "8c8ed71b-fda6-4a76-8850-50ab1fb8dd54",
   "metadata": {
    "tags": []
   },
   "outputs": [
    {
     "data": {
      "text/latex": [
       "No documentation found.\n",
       "\n",
       "\\texttt{LibGEOS.createPolygon} is a \\texttt{Function}.\n",
       "\n",
       "\\begin{verbatim}\n",
       "# 4 methods for generic function \"createPolygon\":\n",
       "[1] createPolygon(shell::Union{Ptr{Nothing}, LinearRing}) in LibGEOS at C:\\Users\\Usuario\\.julia\\packages\\LibGEOS\\oez93\\src\\geos_functions.jl:469\n",
       "[2] createPolygon(shell::Union{Ptr{Nothing}, LinearRing}, holes::AbstractVector) in LibGEOS at C:\\Users\\Usuario\\.julia\\packages\\LibGEOS\\oez93\\src\\geos_functions.jl:457\n",
       "[3] createPolygon(shell::Union{Ptr{Nothing}, LinearRing}, holes::AbstractVector, context::LibGEOS.GEOSContext) in LibGEOS at C:\\Users\\Usuario\\.julia\\packages\\LibGEOS\\oez93\\src\\geos_functions.jl:457\n",
       "[4] createPolygon(shell::Union{Ptr{Nothing}, LinearRing}, context::LibGEOS.GEOSContext) in LibGEOS at C:\\Users\\Usuario\\.julia\\packages\\LibGEOS\\oez93\\src\\geos_functions.jl:469\n",
       "\\end{verbatim}\n"
      ],
      "text/markdown": [
       "No documentation found.\n",
       "\n",
       "`LibGEOS.createPolygon` is a `Function`.\n",
       "\n",
       "```\n",
       "# 4 methods for generic function \"createPolygon\":\n",
       "[1] createPolygon(shell::Union{Ptr{Nothing}, LinearRing}) in LibGEOS at C:\\Users\\Usuario\\.julia\\packages\\LibGEOS\\oez93\\src\\geos_functions.jl:469\n",
       "[2] createPolygon(shell::Union{Ptr{Nothing}, LinearRing}, holes::AbstractVector) in LibGEOS at C:\\Users\\Usuario\\.julia\\packages\\LibGEOS\\oez93\\src\\geos_functions.jl:457\n",
       "[3] createPolygon(shell::Union{Ptr{Nothing}, LinearRing}, holes::AbstractVector, context::LibGEOS.GEOSContext) in LibGEOS at C:\\Users\\Usuario\\.julia\\packages\\LibGEOS\\oez93\\src\\geos_functions.jl:457\n",
       "[4] createPolygon(shell::Union{Ptr{Nothing}, LinearRing}, context::LibGEOS.GEOSContext) in LibGEOS at C:\\Users\\Usuario\\.julia\\packages\\LibGEOS\\oez93\\src\\geos_functions.jl:469\n",
       "```\n"
      ],
      "text/plain": [
       "  No documentation found.\n",
       "\n",
       "  \u001b[36mLibGEOS.createPolygon\u001b[39m is a \u001b[36mFunction\u001b[39m.\n",
       "\n",
       "\u001b[36m  # 4 methods for generic function \"createPolygon\":\u001b[39m\n",
       "\u001b[36m  [1] createPolygon(shell::Union{Ptr{Nothing}, LinearRing}) in LibGEOS at C:\\Users\\Usuario\\.julia\\packages\\LibGEOS\\oez93\\src\\geos_functions.jl:469\u001b[39m\n",
       "\u001b[36m  [2] createPolygon(shell::Union{Ptr{Nothing}, LinearRing}, holes::AbstractVector) in LibGEOS at C:\\Users\\Usuario\\.julia\\packages\\LibGEOS\\oez93\\src\\geos_functions.jl:457\u001b[39m\n",
       "\u001b[36m  [3] createPolygon(shell::Union{Ptr{Nothing}, LinearRing}, holes::AbstractVector, context::LibGEOS.GEOSContext) in LibGEOS at C:\\Users\\Usuario\\.julia\\packages\\LibGEOS\\oez93\\src\\geos_functions.jl:457\u001b[39m\n",
       "\u001b[36m  [4] createPolygon(shell::Union{Ptr{Nothing}, LinearRing}, context::LibGEOS.GEOSContext) in LibGEOS at C:\\Users\\Usuario\\.julia\\packages\\LibGEOS\\oez93\\src\\geos_functions.jl:469\u001b[39m"
      ]
     },
     "execution_count": 15,
     "metadata": {},
     "output_type": "execute_result"
    }
   ],
   "source": [
    "?LibGEOS.createPolygon"
   ]
  }
 ],
 "metadata": {
  "kernelspec": {
   "display_name": "Julia 1.6.1",
   "language": "julia",
   "name": "julia-1.6"
  },
  "language_info": {
   "file_extension": ".jl",
   "mimetype": "application/julia",
   "name": "julia",
   "version": "1.8.4"
  }
 },
 "nbformat": 4,
 "nbformat_minor": 5
}
