{
 "cells": [
  {
   "cell_type": "code",
   "execution_count": 1,
   "id": "9a4d1615-0975-4779-90f8-c0e30ece61c6",
   "metadata": {
    "tags": []
   },
   "outputs": [],
   "source": [
    "using GeoJSON, GLMakie, GeoMakie, Makie"
   ]
  },
  {
   "cell_type": "code",
   "execution_count": 7,
   "id": "2e6236c4-0fbc-476f-aa9f-17a9f1e4e3d0",
   "metadata": {
    "tags": []
   },
   "outputs": [
    {
     "name": "stdout",
     "output_type": "stream",
     "text": [
      "areas = 103\n",
      "areas_disueltas = 103\n",
      "centros = 644\n"
     ]
    }
   ],
   "source": [
    "path = \"./data/areas_geojson/areas_psmb.geojson\"\n",
    "areas = GeoJSON.read(read(path))\n",
    "println(\"areas = \", length(areas))\n",
    "\n",
    "path = \"./data/areas_geojson/areas_psmb_disueltas.geojson\"\n",
    "areas_disueltas = GeoJSON.read(read(path))\n",
    "println(\"areas_disueltas = \", length(areas_disueltas))\n",
    "\n",
    "path = \"./data/areas_geojson/centros_psmb.geojson\"\n",
    "centros = GeoJSON.read(read(path))\n",
    "println(\"centros = \", length(centros))"
   ]
  },
  {
   "cell_type": "code",
   "execution_count": 15,
   "id": "f2a9025c-ddba-49f4-9756-3912956ba7ee",
   "metadata": {
    "tags": []
   },
   "outputs": [
    {
     "name": "stdout",
     "output_type": "stream",
     "text": [
      "[10002.0, 10204.0, 10207.0, 10218.0, 10219.0, 10221.0, 10222.0, 10224.0, 10227.0, 10228.0]\n",
      "[1.0, 2.0, 3.0, 4.0, 5.0, 6.0, 7.0, 8.0, 9.0, 10.0]\n"
     ]
    }
   ],
   "source": [
    "range = 1:10\n",
    "println(areas.codigoarea[range])\n",
    "println(areas_disueltas.nuevo_id[range])"
   ]
  },
  {
   "cell_type": "code",
   "execution_count": 38,
   "id": "8f43e77d-4f31-41ef-bc9e-046c402e7b8b",
   "metadata": {
    "tags": []
   },
   "outputs": [
    {
     "data": {
      "text/plain": [
       "103-element Vector{Int64}:\n",
       " 1\n",
       " 1\n",
       " 1\n",
       " 1\n",
       " 1\n",
       " 1\n",
       " 1\n",
       " 1\n",
       " 1\n",
       " 1\n",
       " 1\n",
       " 1\n",
       " 1\n",
       " ⋮\n",
       " 1\n",
       " 1\n",
       " 1\n",
       " 1\n",
       " 1\n",
       " 1\n",
       " 1\n",
       " 1\n",
       " 1\n",
       " 1\n",
       " 1\n",
       " 1"
      ]
     },
     "execution_count": 38,
     "metadata": {},
     "output_type": "execute_result"
    }
   ],
   "source": [
    "k = 1\n",
    "n = length(areas)\n",
    "flag = ones(Bool,n)\n",
    "ids = ones(Int,n)\n",
    "for i = 1:n\n",
    "    for j = i+1:n\n",
    "        if flag[j] && (areas_disueltas.geometry[i][:] == areas_disueltas.geometry[j][:])\n",
    "            ids[j] = i\n",
    "            flag[j] = false\n",
    "        end\n",
    "    end\n",
    "end\n",
    "\n",
    "ids"
   ]
  },
  {
   "cell_type": "code",
   "execution_count": 40,
   "id": "277368b5-9ec4-473a-af21-00ba18de26b9",
   "metadata": {
    "tags": []
   },
   "outputs": [
    {
     "data": {
      "text/plain": [
       "true"
      ]
     },
     "execution_count": 40,
     "metadata": {},
     "output_type": "execute_result"
    }
   ],
   "source": [
    "areas_disueltas.geometry[1][:] == areas_disueltas.geometry[3][:]"
   ]
  }
 ],
 "metadata": {
  "kernelspec": {
   "display_name": "Julia 1.8.4",
   "language": "julia",
   "name": "julia-1.8"
  },
  "language_info": {
   "file_extension": ".jl",
   "mimetype": "application/julia",
   "name": "julia",
   "version": "1.8.4"
  }
 },
 "nbformat": 4,
 "nbformat_minor": 5
}
