{
 "cells": [
  {
   "cell_type": "code",
   "execution_count": 1,
   "id": "46b1e1c9-0a6c-4a3b-aa68-5a570ca464a3",
   "metadata": {
    "tags": []
   },
   "outputs": [],
   "source": [
    "using Random\n",
    "using Combinatorics\n",
    "using Plots"
   ]
  },
  {
   "cell_type": "code",
   "execution_count": 2,
   "id": "c0d60d6d-c859-49b2-94ee-6095ad569859",
   "metadata": {
    "tags": []
   },
   "outputs": [
    {
     "data": {
      "text/plain": [
       "rank2matrix (generic function with 1 method)"
      ]
     },
     "execution_count": 2,
     "metadata": {},
     "output_type": "execute_result"
    }
   ],
   "source": [
    "function rank2matrix(rank)\n",
    "    N = length(rank)\n",
    "    n = Int((1 + sqrt(1 + 8N)) / 2)\n",
    "    S = zeros(Int,n,n)        \n",
    "\n",
    "    k = 1\n",
    "    for i = 1:n\n",
    "        for j = i+1:n\n",
    "            S[i,j] = rank[k]\n",
    "            S[j,i] = rank[k]\n",
    "            k = k + 1\n",
    "        end\n",
    "    end\n",
    "    return S\n",
    "end"
   ]
  },
  {
   "cell_type": "code",
   "execution_count": 3,
   "id": "957ff047-d7c8-4cc9-b536-4ce72069a428",
   "metadata": {
    "tags": []
   },
   "outputs": [
    {
     "name": "stdout",
     "output_type": "stream",
     "text": [
      "n = 5\n",
      "m = 3\n",
      "N = 10\n",
      "L = [2, 1, 1, 3, 2]\n"
     ]
    }
   ],
   "source": [
    "n = 5\n",
    "m = 3\n",
    "X = [i for i=1:n]\n",
    "L = shuffle!(cat(collect(1:m), rand(1:m, n-m), dims=1))\n",
    "N = Int(n*(n-1)/2)\n",
    "\n",
    "println(\"n = $n\\nm = $m\\nN = $N\")\n",
    "println(\"L = $L\")"
   ]
  },
  {
   "cell_type": "code",
   "execution_count": 4,
   "id": "a19dac1c-3014-4c13-9c0c-a7ad6e5aa874",
   "metadata": {
    "tags": []
   },
   "outputs": [
    {
     "name": "stdout",
     "output_type": "stream",
     "text": [
      "pairs ranking = [3, 5, 10, 9, 4, 6, 1, 2, 7, 8]\n",
      " S=\n"
     ]
    },
    {
     "data": {
      "text/plain": [
       "5×5 Matrix{Int64}:\n",
       "  0  3  5  10  9\n",
       "  3  0  4   6  1\n",
       "  5  4  0   2  7\n",
       " 10  6  2   0  8\n",
       "  9  1  7   8  0"
      ]
     },
     "metadata": {},
     "output_type": "display_data"
    },
    {
     "data": {
      "text/plain": [
       "0.625"
      ]
     },
     "execution_count": 4,
     "metadata": {},
     "output_type": "execute_result"
    }
   ],
   "source": [
    "rank = shuffle(1:N)\n",
    "println(\"pairs ranking = $rank\\n S=\")\n",
    "S = rank2matrix(rank)\n",
    "display(S)\n",
    "\n",
    "Q = [[i,j,p,q] for i=1:n for j=i+1:n for p=1:n for q=p+1:n if S[i,j] < S[p,q]]\n",
    "R = [[i,j,p,q] for i=1:n for j=i+1:n for p=1:n for q=p+1:n if L[p] == L[q] && L[i] != L[j]]\n",
    "\n",
    "r = [sum(L.==k) for k in 1:m]\n",
    "shareL = sum(r .* (r .- 1) /2)\n",
    "maxQR = (N - shareL) * shareL\n",
    "\n",
    "length(intersect(Q,R))/maxQR"
   ]
  },
  {
   "cell_type": "code",
   "execution_count": null,
   "id": "a80e678e-5065-43f3-8775-0b6dc8936146",
   "metadata": {
    "tags": []
   },
   "outputs": [
    {
     "name": "stdout",
     "output_type": "stream",
     "text": [
      ".  .  .  .  .  .  .  "
     ]
    }
   ],
   "source": [
    "r = [sum(L.==k) for k in 1:m]\n",
    "shareL = sum(r .* (r .- 1) /2)\n",
    "maxQR = (N - shareL) * shareL\n",
    "\n",
    "Γs = zeros(factorial(N))\n",
    "for k = 1:factorial(N)\n",
    "    rank = nthperm(1:N, k)\n",
    "    S = rank2matrix(rank)\n",
    "    \n",
    "    Q = [[i,j,p,q] for i=1:n for j=i+1:n for p=1:n for q=p+1:n if S[i,j] < S[p,q]]\n",
    "    R = [[i,j,p,q] for i=1:n for j=i+1:n for p=1:n for q=p+1:n if L[p] == L[q] && L[i] != L[j]]\n",
    "    \n",
    "    Γs[k] = length(intersect(Q,R))/maxQR\n",
    "    if mod(k,100000)==0\n",
    "        print(\".  \")\n",
    "    end \n",
    "end"
   ]
  },
  {
   "cell_type": "code",
   "execution_count": null,
   "id": "bc37fd6d-81bb-4886-8311-fbdd502be310",
   "metadata": {
    "tags": []
   },
   "outputs": [],
   "source": [
    "u = sort(unique(Γs))\n",
    "println(u)\n",
    "u[2:end] - u[1:end-1]"
   ]
  },
  {
   "cell_type": "code",
   "execution_count": 5,
   "id": "d710e526-6a87-4bbf-9bf5-f64dc05ca967",
   "metadata": {
    "tags": []
   },
   "outputs": [
    {
     "name": "stdout",
     "output_type": "stream",
     "text": [
      "n = 15\n",
      "m = 4\n",
      "N = 105\n",
      "L = [1, 1, 2, 2, 1, 2, 4, 1, 3, 4, 4, 2, 2, 3, 4]\n"
     ]
    },
    {
     "data": {
      "text/plain": [
       "15×15 Matrix{Int64}:\n",
       "   0   1  105  104   2  103  102   3  101  100  99  98  97  96  95\n",
       "   1   0   94   93   4   92   91   5   90   89  88  87  86  85  84\n",
       " 105  94    0    6  83    7   82  81   80   79  78   8   9  77  76\n",
       " 104  93    6    0  75   10   74  73   72   71  70  11  12  69  68\n",
       "   2   4   83   75   0   67   66  13   65   64  63  62  61  60  59\n",
       " 103  92    7   10  67    0   58  57   56   55  54  14  15  53  52\n",
       " 102  91   82   74  66   58    0  51   50   16  17  49  48  47  18\n",
       "   3   5   81   73  13   57   51   0   46   45  44  43  42  41  40\n",
       " 101  90   80   72  65   56   50  46    0   39  38  37  36  19  35\n",
       " 100  89   79   71  64   55   16  45   39    0  20  34  33  32  21\n",
       "  99  88   78   70  63   54   17  44   38   20   0  31  30  29  22\n",
       "  98  87    8   11  62   14   49  43   37   34  31   0  23  28  27\n",
       "  97  86    9   12  61   15   48  42   36   33  30  23   0  26  25\n",
       "  96  85   77   69  60   53   47  41   19   32  29  28  26   0  24\n",
       "  95  84   76   68  59   52   18  40   35   21  22  27  25  24   0"
      ]
     },
     "metadata": {},
     "output_type": "display_data"
    },
    {
     "data": {
      "text/plain": [
       "0.0"
      ]
     },
     "execution_count": 5,
     "metadata": {},
     "output_type": "execute_result"
    }
   ],
   "source": [
    "# Ejemplo: siempre se puede alcanzar el minimo para algun S\n",
    "n = 15\n",
    "m = 4\n",
    "X = [i for i=1:n]\n",
    "L = shuffle!(cat(collect(1:m), rand(1:m, n-m), dims=1))\n",
    "N = Int(n*(n-1)/2)\n",
    "\n",
    "r = [sum(L.==k) for k in 1:m]\n",
    "shareL = sum(r .* (r .- 1) /2)\n",
    "maxQR = (N - shareL) * shareL\n",
    "\n",
    "println(\"n = $n\\nm = $m\\nN = $N\")\n",
    "println(\"L = $L\")\n",
    "\n",
    "\n",
    "S = zeros(Int,n,n)       \n",
    "k = 1\n",
    "kk = N\n",
    "for i=1:n\n",
    "    for j=i+1:n\n",
    "        if L[i] == L[j]\n",
    "            S[i,j] = k\n",
    "            S[j,i] = k\n",
    "            k = k + 1\n",
    "        else\n",
    "            S[i,j] = kk\n",
    "            S[j,i] = kk\n",
    "            kk = kk - 1\n",
    "        end\n",
    "    end\n",
    "end\n",
    "display(S)\n",
    "\n",
    "Q = [[i,j,p,q] for i=1:n for j=i+1:n for p=1:n for q=p+1:n if S[i,j] < S[p,q]]\n",
    "R = [[i,j,p,q] for i=1:n for j=i+1:n for p=1:n for q=p+1:n if L[p] == L[q] && L[i] != L[j]]\n",
    "\n",
    "\n",
    "length(intersect(Q,R))/maxQR"
   ]
  },
  {
   "cell_type": "code",
   "execution_count": 6,
   "id": "6184f422-2359-4c09-a0dd-fd37bb34f4e4",
   "metadata": {
    "tags": []
   },
   "outputs": [
    {
     "name": "stdout",
     "output_type": "stream",
     "text": [
      "n = 15\n",
      "m = 4\n",
      "N = 105\n",
      "L = [3, 1, 3, 3, 2, 1, 4, 1, 1, 1, 2, 2, 2, 4, 4]\n"
     ]
    },
    {
     "data": {
      "text/plain": [
       "15×15 Matrix{Int64}:\n",
       "  0   54  36  91   32  84  67   23   95  35   98   59  87  42   34\n",
       " 54    0   7  82   16  92  61    9   76  10  103   77  12  31   30\n",
       " 36    7   0  79   39   8  70   53   49  66   21   57  43  52   37\n",
       " 91   82  79   0   63  18  97   64   71   5   65   68  93  73   96\n",
       " 32   16  39  63    0  90  11    3  101  83   51  102  78  29   38\n",
       " 84   92   8  18   90   0  28   25    6  17   55   44  48  14   74\n",
       " 67   61  70  97   11  28   0   60   56  80   24   19  58  75   89\n",
       " 23    9  53  64    3  25  60    0   99  50   46  104  47   2   45\n",
       " 95   76  49  71  101   6  56   99    0  20   27   26  69   1   85\n",
       " 35   10  66   5   83  17  80   50   20   0   81   88  94  13   72\n",
       " 98  103  21  65   51  55  24   46   27  81    0  100  86  15   62\n",
       " 59   77  57  68  102  44  19  104   26  88  100    0  40  41  105\n",
       " 87   12  43  93   78  48  58   47   69  94   86   40   0   4   33\n",
       " 42   31  52  73   29  14  75    2    1  13   15   41   4   0   22\n",
       " 34   30  37  96   38  74  89   45   85  72   62  105  33  22    0"
      ]
     },
     "metadata": {},
     "output_type": "display_data"
    },
    {
     "name": "stdout",
     "output_type": "stream",
     "text": [
      "Γ = 0.547645125958379\n",
      "γ = -0.095290251916758\n"
     ]
    },
    {
     "data": {
      "text/plain": [
       "-0.09529025191675794"
      ]
     },
     "execution_count": 6,
     "metadata": {},
     "output_type": "execute_result"
    }
   ],
   "source": [
    "# Ejemplo: siempre se puede alcanzar el minimo para algun S\n",
    "n = 15\n",
    "m = 4\n",
    "X = [i for i=1:n]\n",
    "L = shuffle!(cat(collect(1:m), rand(1:m, n-m), dims=1))\n",
    "N = Int(n*(n-1)/2)\n",
    "\n",
    "r = [sum(L.==k) for k in 1:m]\n",
    "shareL = sum(r .* (r .- 1) /2)\n",
    "maxQR = (N - shareL) * shareL\n",
    "\n",
    "println(\"n = $n\\nm = $m\\nN = $N\")\n",
    "println(\"L = $L\")\n",
    "\n",
    "\n",
    "rank = shuffle(1:N)\n",
    "S = rank2matrix(rank)\n",
    "display(S)\n",
    "\n",
    "Q = [[i,j,p,q] for i=1:n for j=i+1:n for p=1:n for q=p+1:n if S[i,j] < S[p,q]]\n",
    "R = [[i,j,p,q] for i=1:n for j=i+1:n for p=1:n for q=p+1:n if L[p] == L[q] && L[i] != L[j]]\n",
    "\n",
    "\n",
    "Γ = length(intersect(Q,R))/maxQR\n",
    "γ = 1-2Γ\n",
    "\n",
    "println(\"Γ = $Γ\\nγ = $γ\")\n",
    "\n",
    "s_pluss = sum([1 for i=1:n for j=i+1:n for p=1:n for q=p+1:n if L[p] == L[q] && L[i] != L[j] && S[i,j] > S[p,q]])\n",
    "s_minus = sum([1 for i=1:n for j=i+1:n for p=1:n for q=p+1:n if L[p] == L[q] && L[i] != L[j] && S[i,j] < S[p,q]])\n",
    "(s_pluss - s_minus) / (s_pluss + s_minus)"
   ]
  },
  {
   "cell_type": "code",
   "execution_count": 9,
   "id": "cdcead77-466b-4390-9c52-d49f221bd952",
   "metadata": {
    "tags": []
   },
   "outputs": [
    {
     "data": {
      "text/plain": [
       "-0.09529025191675794"
      ]
     },
     "execution_count": 9,
     "metadata": {},
     "output_type": "execute_result"
    }
   ],
   "source": [
    "using LinearAlgebra\n",
    "function gammaindex(\n",
    "        assignments::Vector{<:Int},\n",
    "        dist::Matrix{<:Real}\n",
    "    )\n",
    "    issymmetric(dist) || throw(ArgumentError(\"Distance Matrix is not symmetric\"))\n",
    "    \n",
    "    n = length(assignments)\n",
    "    n == size(dist)[1] || throw(DimensionMismatch(\"Distance Matrix and assignments dimension mismatch\"))\n",
    "    \n",
    "    k = length(unique(assignments))\n",
    "    1:k == sort(unique(assignments)) || throw(ArgumentError(\"assignments vector is not of consecutive integer values\"))\n",
    "    \n",
    "    s_pluss = 0\n",
    "    s_minus = 0\n",
    "    for i = 1:n\n",
    "        for j = i+1:n\n",
    "            for p=1:n \n",
    "                for q=p+1:n\n",
    "                    if assignments[p] == assignments[q]  && assignments[i] != assignments[j]\n",
    "                        if dist[i,j] > dist[p,q]\n",
    "                            s_pluss = s_pluss + 1 \n",
    "                        elseif dist[i,j] < dist[p,q]\n",
    "                            s_minus = s_minus + 1\n",
    "                        end\n",
    "                    end\n",
    "                end\n",
    "            end\n",
    "        end\n",
    "    end\n",
    "    \n",
    "    ΓI = (s_pluss - s_minus) / (s_pluss + s_minus)\n",
    "    return ΓI     \n",
    "end\n",
    "\n",
    "gammaindex(L,S)"
   ]
  }
 ],
 "metadata": {
  "kernelspec": {
   "display_name": "Julia 1.8.4",
   "language": "julia",
   "name": "julia-1.8"
  },
  "language_info": {
   "file_extension": ".jl",
   "mimetype": "application/julia",
   "name": "julia",
   "version": "1.8.4"
  }
 },
 "nbformat": 4,
 "nbformat_minor": 5
}
