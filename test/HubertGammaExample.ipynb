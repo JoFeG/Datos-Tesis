{
 "cells": [
  {
   "cell_type": "code",
   "execution_count": 13,
   "id": "46b1e1c9-0a6c-4a3b-aa68-5a570ca464a3",
   "metadata": {
    "tags": []
   },
   "outputs": [],
   "source": [
    "using Random\n",
    "\n",
    "n = 10\n",
    "m = 3\n",
    "\n",
    "\n",
    "\n",
    "X = [i for i=1:n]\n",
    "L = shuffle!(cat(collect(1:m), rand(1:m, n-m), dims=1))\n",
    "\n",
    "#X[L.==3]\n",
    "\n",
    "N = n*(n-1)/2\n",
    "\n",
    "rank = shuffle(1:N)\n",
    "\n",
    "S = zeros(n,n)\n",
    "k = 1\n",
    "for i = 1:n\n",
    "    for j = i+1:n\n",
    "        S[i,j] = rank[k]\n",
    "        S[j,i] = rank[k]\n",
    "        k = k + 1\n",
    "    end\n",
    "end"
   ]
  },
  {
   "cell_type": "code",
   "execution_count": 27,
   "id": "a19dac1c-3014-4c13-9c0c-a7ad6e5aa874",
   "metadata": {
    "tags": []
   },
   "outputs": [
    {
     "data": {
      "text/plain": [
       "434.0"
      ]
     },
     "execution_count": 27,
     "metadata": {},
     "output_type": "execute_result"
    }
   ],
   "source": [
    "Q = [[[i,j],[p,q]] for i=1:n for j=i+1:n for p=1:n for q=p+1:n if S[i,j]<S[p,q]]\n",
    "R = [[[i,j],[p,q]] for i=1:n for j=i+1:n for p=1:n for q=p+1:n if L[p]==L[q] && L[i]!=[j]]\n",
    "#intersect(Q,R)\n",
    "\n",
    "r = [sum(L.==k) for k in 1:m]\n",
    "shareL = sum(r .* (r .- 1) /2)\n",
    "(N - shareL) * shareL\n",
    "\n"
   ]
  }
 ],
 "metadata": {
  "kernelspec": {
   "display_name": "Julia 1.8.4",
   "language": "julia",
   "name": "julia-1.8"
  },
  "language_info": {
   "file_extension": ".jl",
   "mimetype": "application/julia",
   "name": "julia",
   "version": "1.8.4"
  }
 },
 "nbformat": 4,
 "nbformat_minor": 5
}
