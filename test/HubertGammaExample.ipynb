{
 "cells": [
  {
   "cell_type": "code",
   "execution_count": 1,
   "id": "46b1e1c9-0a6c-4a3b-aa68-5a570ca464a3",
   "metadata": {
    "tags": []
   },
   "outputs": [],
   "source": [
    "using Random\n",
    "using Combinatorics\n",
    "using Plots"
   ]
  },
  {
   "cell_type": "code",
   "execution_count": 2,
   "id": "c0d60d6d-c859-49b2-94ee-6095ad569859",
   "metadata": {
    "tags": []
   },
   "outputs": [
    {
     "data": {
      "text/plain": [
       "rank2matrix (generic function with 1 method)"
      ]
     },
     "execution_count": 2,
     "metadata": {},
     "output_type": "execute_result"
    }
   ],
   "source": [
    "function rank2matrix(rank)\n",
    "    N = length(rank)\n",
    "    n = Int((1 + sqrt(1 + 8N)) / 2)\n",
    "    S = zeros(Int,n,n)        \n",
    "\n",
    "    k = 1\n",
    "    for i = 1:n\n",
    "        for j = i+1:n\n",
    "            S[i,j] = rank[k]\n",
    "            S[j,i] = rank[k]\n",
    "            k = k + 1\n",
    "        end\n",
    "    end\n",
    "    return S\n",
    "end"
   ]
  },
  {
   "cell_type": "code",
   "execution_count": 3,
   "id": "957ff047-d7c8-4cc9-b536-4ce72069a428",
   "metadata": {
    "tags": []
   },
   "outputs": [
    {
     "name": "stdout",
     "output_type": "stream",
     "text": [
      "n = 5\n",
      "m = 3\n",
      "N = 10\n",
      "L = [3, 3, 2, 1, 2]\n"
     ]
    }
   ],
   "source": [
    "n = 5\n",
    "m = 3\n",
    "X = [i for i=1:n]\n",
    "L = shuffle!(cat(collect(1:m), rand(1:m, n-m), dims=1))\n",
    "N = Int(n*(n-1)/2)\n",
    "\n",
    "println(\"n = $n\\nm = $m\\nN = $N\")\n",
    "println(\"L = $L\")"
   ]
  },
  {
   "cell_type": "code",
   "execution_count": 4,
   "id": "a19dac1c-3014-4c13-9c0c-a7ad6e5aa874",
   "metadata": {
    "tags": []
   },
   "outputs": [
    {
     "name": "stdout",
     "output_type": "stream",
     "text": [
      "pairs ranking = [8, 7, 6, 2, 10, 9, 3, 4, 1, 5]\n",
      " S=\n"
     ]
    },
    {
     "data": {
      "text/plain": [
       "5×5 Matrix{Int64}:\n",
       " 0   8   7  6  2\n",
       " 8   0  10  9  3\n",
       " 7  10   0  4  1\n",
       " 6   9   4  0  5\n",
       " 2   3   1  5  0"
      ]
     },
     "metadata": {},
     "output_type": "display_data"
    },
    {
     "data": {
      "text/plain": [
       "0.375"
      ]
     },
     "execution_count": 4,
     "metadata": {},
     "output_type": "execute_result"
    }
   ],
   "source": [
    "rank = shuffle(1:N)\n",
    "println(\"pairs ranking = $rank\\n S=\")\n",
    "S = rank2matrix(rank)\n",
    "display(S)\n",
    "\n",
    "Q = [[i,j,p,q] for i=1:n for j=i+1:n for p=1:n for q=p+1:n if S[i,j] < S[p,q]]\n",
    "R = [[i,j,p,q] for i=1:n for j=i+1:n for p=1:n for q=p+1:n if L[p] == L[q] && L[i] != L[j]]\n",
    "\n",
    "r = [sum(L.==k) for k in 1:m]\n",
    "shareL = sum(r .* (r .- 1) /2)\n",
    "maxQR = (N - shareL) * shareL\n",
    "\n",
    "length(intersect(Q,R))/maxQR"
   ]
  },
  {
   "cell_type": "code",
   "execution_count": 15,
   "id": "a80e678e-5065-43f3-8775-0b6dc8936146",
   "metadata": {
    "tags": []
   },
   "outputs": [
    {
     "name": "stdout",
     "output_type": "stream",
     "text": [
      ".  .  .  .  .  .  .  .  .  .  .  .  .  .  .  .  .  .  .  .  .  .  .  .  .  .  .  .  .  .  .  .  .  .  .  .  "
     ]
    }
   ],
   "source": [
    "r = [sum(L.==k) for k in 1:m]\n",
    "shareL = sum(r .* (r .- 1) /2)\n",
    "maxQR = (N - shareL) * shareL\n",
    "\n",
    "Γs = zeros(factorial(N))\n",
    "for k = 1:factorial(N)\n",
    "    rank = nthperm(1:N, k)\n",
    "    S = rank2matrix(rank)\n",
    "    \n",
    "    Q = [[i,j,p,q] for i=1:n for j=i+1:n for p=1:n for q=p+1:n if S[i,j] < S[p,q]]\n",
    "    R = [[i,j,p,q] for i=1:n for j=i+1:n for p=1:n for q=p+1:n if L[p] == L[q] && L[i] != L[j]]\n",
    "    \n",
    "    Γs[k] = length(intersect(Q,R))/maxQR\n",
    "    if mod(k,100000)==0\n",
    "        print(\".  \")\n",
    "    end \n",
    "end"
   ]
  },
  {
   "cell_type": "code",
   "execution_count": 24,
   "id": "bc37fd6d-81bb-4886-8311-fbdd502be310",
   "metadata": {
    "tags": []
   },
   "outputs": [
    {
     "name": "stdout",
     "output_type": "stream",
     "text": [
      "[0.0, 0.0625, 0.125, 0.1875, 0.25, 0.3125, 0.375, 0.4375, 0.5, 0.5625, 0.625, 0.6875, 0.75, 0.8125, 0.875, 0.9375, 1.0]\n"
     ]
    },
    {
     "data": {
      "text/plain": [
       "16-element Vector{Float64}:\n",
       " 0.0625\n",
       " 0.0625\n",
       " 0.0625\n",
       " 0.0625\n",
       " 0.0625\n",
       " 0.0625\n",
       " 0.0625\n",
       " 0.0625\n",
       " 0.0625\n",
       " 0.0625\n",
       " 0.0625\n",
       " 0.0625\n",
       " 0.0625\n",
       " 0.0625\n",
       " 0.0625\n",
       " 0.0625"
      ]
     },
     "execution_count": 24,
     "metadata": {},
     "output_type": "execute_result"
    }
   ],
   "source": [
    "u = sort(unique(Γs))\n",
    "println(u)\n",
    "u[2:end] - u[1:end-1]"
   ]
  },
  {
   "cell_type": "code",
   "execution_count": 9,
   "id": "d710e526-6a87-4bbf-9bf5-f64dc05ca967",
   "metadata": {
    "tags": []
   },
   "outputs": [
    {
     "name": "stdout",
     "output_type": "stream",
     "text": [
      "n = 15\n",
      "m = 4\n",
      "N = 105\n",
      "L = [2, 4, 2, 4, 4, 1, 1, 3, 3, 1, 2, 2, 4, 2, 1]\n"
     ]
    },
    {
     "data": {
      "text/plain": [
       "15×15 Matrix{Int64}:\n",
       "   0  105   1  104  103  102  101  100  99  98   2   3  97   4  96\n",
       " 105    0  95    5    6   94   93   92  91  90  89  88   7  87  86\n",
       "   1   95   0   85   84   83   82   81  80  79   8   9  78  10  77\n",
       " 104    5  85    0   11   76   75   74  73  72  71  70  12  69  68\n",
       " 103    6  84   11    0   67   66   65  64  63  62  61  13  60  59\n",
       " 102   94  83   76   67    0   14   58  57  15  56  55  54  53  16\n",
       " 101   93  82   75   66   14    0   52  51  17  50  49  48  47  18\n",
       " 100   92  81   74   65   58   52    0  19  46  45  44  43  42  41\n",
       "  99   91  80   73   64   57   51   19   0  40  39  38  37  36  35\n",
       "  98   90  79   72   63   15   17   46  40   0  34  33  32  31  20\n",
       "   2   89   8   71   62   56   50   45  39  34   0  21  30  22  29\n",
       "   3   88   9   70   61   55   49   44  38  33  21   0  28  23  27\n",
       "  97    7  78   12   13   54   48   43  37  32  30  28   0  26  25\n",
       "   4   87  10   69   60   53   47   42  36  31  22  23  26   0  24\n",
       "  96   86  77   68   59   16   18   41  35  20  29  27  25  24   0"
      ]
     },
     "metadata": {},
     "output_type": "display_data"
    },
    {
     "data": {
      "text/plain": [
       "0.0"
      ]
     },
     "execution_count": 9,
     "metadata": {},
     "output_type": "execute_result"
    }
   ],
   "source": [
    "# Ejemplo: siempre se puede alcanzar el minimo para algun S\n",
    "n = 15\n",
    "m = 4\n",
    "X = [i for i=1:n]\n",
    "L = shuffle!(cat(collect(1:m), rand(1:m, n-m), dims=1))\n",
    "N = Int(n*(n-1)/2)\n",
    "\n",
    "r = [sum(L.==k) for k in 1:m]\n",
    "shareL = sum(r .* (r .- 1) /2)\n",
    "maxQR = (N - shareL) * shareL\n",
    "\n",
    "println(\"n = $n\\nm = $m\\nN = $N\")\n",
    "println(\"L = $L\")\n",
    "\n",
    "\n",
    "S = zeros(Int,n,n)       \n",
    "k = 1\n",
    "kk = N\n",
    "for i=1:n\n",
    "    for j=i+1:n\n",
    "        if L[i] == L[j]\n",
    "            S[i,j] = k\n",
    "            S[j,i] = k\n",
    "            k = k + 1\n",
    "        else\n",
    "            S[i,j] = kk\n",
    "            S[j,i] = kk\n",
    "            kk = kk - 1\n",
    "        end\n",
    "    end\n",
    "end\n",
    "display(S)\n",
    "\n",
    "Q = [[i,j,p,q] for i=1:n for j=i+1:n for p=1:n for q=p+1:n if S[i,j] < S[p,q]]\n",
    "R = [[i,j,p,q] for i=1:n for j=i+1:n for p=1:n for q=p+1:n if L[p] == L[q] && L[i] != L[j]]\n",
    "\n",
    "\n",
    "length(intersect(Q,R))/maxQR"
   ]
  },
  {
   "cell_type": "code",
   "execution_count": 29,
   "id": "6184f422-2359-4c09-a0dd-fd37bb34f4e4",
   "metadata": {
    "tags": []
   },
   "outputs": [
    {
     "name": "stdout",
     "output_type": "stream",
     "text": [
      "n = 15\n",
      "m = 4\n",
      "N = 105\n",
      "L = [3, 3, 1, 3, 2, 3, 2, 3, 1, 3, 3, 2, 1, 4, 3]\n"
     ]
    },
    {
     "data": {
      "text/plain": [
       "15×15 Matrix{Int64}:\n",
       "   0   37  104   88   1  15  18  73  105  16  68   51   28   8  41\n",
       "  37    0   33   14  45  56  90  97   89  76  13   12  101  60  78\n",
       " 104   33    0    9  50  96  67  26   79  95  36   22  100  72  48\n",
       "  88   14    9    0  94  87  38  57   39  77  69  102  103  64  32\n",
       "   1   45   50   94   0  25  10  54   52  75  53   99   11  29   2\n",
       "  15   56   96   87  25   0  86  74   70  62  31   42   85  84  63\n",
       "  18   90   67   38  10  86   0   5   82   3  47   20   92  93  27\n",
       "  73   97   26   57  54  74   5   0   61  23  58   40   81  34  30\n",
       " 105   89   79   39  52  70  82  61    0  66  46   59   35  55   6\n",
       "  16   76   95   77  75  62   3  23   66   0  83   17   71  91   7\n",
       "  68   13   36   69  53  31  47  58   46  83   0   65   21  24  49\n",
       "  51   12   22  102  99  42  20  40   59  17  65    0   80   4  44\n",
       "  28  101  100  103  11  85  92  81   35  71  21   80    0  43  19\n",
       "   8   60   72   64  29  84  93  34   55  91  24    4   43   0  98\n",
       "  41   78   48   32   2  63  27  30    6   7  49   44   19  98   0"
      ]
     },
     "metadata": {},
     "output_type": "display_data"
    },
    {
     "name": "stdout",
     "output_type": "stream",
     "text": [
      "Γ = 0.5062137531068766\n",
      "γ = -0.012427506213753103\n"
     ]
    },
    {
     "data": {
      "text/plain": [
       "-0.012427506213753107"
      ]
     },
     "execution_count": 29,
     "metadata": {},
     "output_type": "execute_result"
    }
   ],
   "source": [
    "# Ejemplo: siempre se puede alcanzar el minimo para algun S\n",
    "n = 15\n",
    "m = 4\n",
    "X = [i for i=1:n]\n",
    "L = shuffle!(cat(collect(1:m), rand(1:m, n-m), dims=1))\n",
    "N = Int(n*(n-1)/2)\n",
    "\n",
    "r = [sum(L.==k) for k in 1:m]\n",
    "shareL = sum(r .* (r .- 1) /2)\n",
    "maxQR = (N - shareL) * shareL\n",
    "\n",
    "println(\"n = $n\\nm = $m\\nN = $N\")\n",
    "println(\"L = $L\")\n",
    "\n",
    "\n",
    "rank = shuffle(1:N)\n",
    "S = rank2matrix(rank)\n",
    "display(S)\n",
    "\n",
    "Q = [[i,j,p,q] for i=1:n for j=i+1:n for p=1:n for q=p+1:n if S[i,j] < S[p,q]]\n",
    "R = [[i,j,p,q] for i=1:n for j=i+1:n for p=1:n for q=p+1:n if L[p] == L[q] && L[i] != L[j]]\n",
    "\n",
    "\n",
    "Γ = length(intersect(Q,R))/maxQR\n",
    "γ = 1-2Γ\n",
    "\n",
    "println(\"Γ = $Γ\\nγ = $γ\")\n",
    "\n",
    "s_pluss = sum([1 for i=1:n for j=i+1:n for p=1:n for q=p+1:n if L[p] == L[q] && L[i] != L[j] && S[i,j] > S[p,q]])\n",
    "s_minus = sum([1 for i=1:n for j=i+1:n for p=1:n for q=p+1:n if L[p] == L[q] && L[i] != L[j] && S[i,j] < S[p,q]])\n",
    "(s_pluss - s_minus) / (s_pluss + s_minus)"
   ]
  }
 ],
 "metadata": {
  "kernelspec": {
   "display_name": "Julia 1.8.4",
   "language": "julia",
   "name": "julia-1.8"
  },
  "language_info": {
   "file_extension": ".jl",
   "mimetype": "application/julia",
   "name": "julia",
   "version": "1.8.4"
  }
 },
 "nbformat": 4,
 "nbformat_minor": 5
}
