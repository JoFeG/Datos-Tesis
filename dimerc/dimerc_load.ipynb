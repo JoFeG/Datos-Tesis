{
 "cells": [
  {
   "cell_type": "code",
   "execution_count": 2,
   "id": "a26c9940-c3be-4bcb-97c7-af86e1ed05b7",
   "metadata": {
    "tags": []
   },
   "outputs": [],
   "source": [
    "using JSON3\n",
    "using Dates\n",
    "using Plots"
   ]
  },
  {
   "cell_type": "code",
   "execution_count": 5,
   "id": "a9f596e3-2eaa-480f-81d9-46ec7fa4d3d7",
   "metadata": {
    "tags": []
   },
   "outputs": [],
   "source": [
    "path = \"./data/sales_2016-2021-level4.json\"\n",
    "str = read(path)\n",
    "json = JSON3.read(str);"
   ]
  },
  {
   "cell_type": "code",
   "execution_count": 18,
   "id": "bba4be37-590d-47ac-bff4-8492ddd99f7e",
   "metadata": {
    "tags": []
   },
   "outputs": [
    {
     "name": "stdout",
     "output_type": "stream",
     "text": [
      "Número de series = 631\n",
      "\n",
      " Ejemplo i=1\n",
      "name = 03010201\n"
     ]
    }
   ],
   "source": [
    "println(\"Número de series = \", length(json))\n",
    "i=1\n",
    "println(\"\\n Ejemplo i=\",i)\n",
    "println(\"name = \",json[i].name)\n"
   ]
  },
  {
   "cell_type": "code",
   "execution_count": 20,
   "id": "a87d20e3-8d00-4b15-bf3d-72b1124c69c7",
   "metadata": {
    "tags": []
   },
   "outputs": [
    {
     "data": {
      "text/plain": [
       "274-element JSON3.Array{JSON3.Object, Vector{UInt8}, SubArray{UInt64, 1, Vector{UInt64}, Tuple{UnitRange{Int64}}, true}}:\n",
       " {\n",
       "      \"x\": 2392,\n",
       "      \"y\": 9606,\n",
       "   \"date\": \"2016-01-04\"\n",
       "}\n",
       " {\n",
       "      \"x\": 2393,\n",
       "      \"y\": 6843,\n",
       "   \"date\": \"2016-01-11\"\n",
       "}\n",
       " {\n",
       "      \"x\": 2394,\n",
       "      \"y\": 7404,\n",
       "   \"date\": \"2016-01-18\"\n",
       "}\n",
       " {\n",
       "      \"x\": 2395,\n",
       "      \"y\": 7412,\n",
       "   \"date\": \"2016-01-25\"\n",
       "}\n",
       " {\n",
       "      \"x\": 2396,\n",
       "      \"y\": 8444,\n",
       "   \"date\": \"2016-02-01\"\n",
       "}\n",
       " {\n",
       "      \"x\": 2397,\n",
       "      \"y\": 5942,\n",
       "   \"date\": \"2016-02-08\"\n",
       "}\n",
       " {\n",
       "      \"x\": 2398,\n",
       "      \"y\": 6291,\n",
       "   \"date\": \"2016-02-15\"\n",
       "}\n",
       " {\n",
       "      \"x\": 2399,\n",
       "      \"y\": 4768,\n",
       "   \"date\": \"2016-02-22\"\n",
       "}\n",
       " {\n",
       "      \"x\": 2400,\n",
       "      \"y\": 7111,\n",
       "   \"date\": \"2016-02-29\"\n",
       "}\n",
       " {\n",
       "      \"x\": 2401,\n",
       "      \"y\": 10223,\n",
       "   \"date\": \"2016-03-07\"\n",
       "}\n",
       " {\n",
       "      \"x\": 2402,\n",
       "      \"y\": 9595,\n",
       "   \"date\": \"2016-03-14\"\n",
       "}\n",
       " {\n",
       "      \"x\": 2403,\n",
       "      \"y\": 6296,\n",
       "   \"date\": \"2016-03-21\"\n",
       "}\n",
       " {\n",
       "      \"x\": 2404,\n",
       "      \"y\": 9146,\n",
       "   \"date\": \"2016-03-28\"\n",
       "}\n",
       " ⋮\n",
       " {\n",
       "      \"x\": 2654,\n",
       "      \"y\": 5310,\n",
       "   \"date\": \"2021-01-18\"\n",
       "}\n",
       " {\n",
       "      \"x\": 2655,\n",
       "      \"y\": 3581,\n",
       "   \"date\": \"2021-01-25\"\n",
       "}\n",
       " {\n",
       "      \"x\": 2656,\n",
       "      \"y\": 3748,\n",
       "   \"date\": \"2021-02-01\"\n",
       "}\n",
       " {\n",
       "      \"x\": 2657,\n",
       "      \"y\": 3652,\n",
       "   \"date\": \"2021-02-08\"\n",
       "}\n",
       " {\n",
       "      \"x\": 2658,\n",
       "      \"y\": 2738,\n",
       "   \"date\": \"2021-02-15\"\n",
       "}\n",
       " {\n",
       "      \"x\": 2659,\n",
       "      \"y\": 3410,\n",
       "   \"date\": \"2021-02-22\"\n",
       "}\n",
       " {\n",
       "      \"x\": 2660,\n",
       "      \"y\": 5047,\n",
       "   \"date\": \"2021-03-01\"\n",
       "}\n",
       " {\n",
       "      \"x\": 2661,\n",
       "      \"y\": 4898,\n",
       "   \"date\": \"2021-03-08\"\n",
       "}\n",
       " {\n",
       "      \"x\": 2662,\n",
       "      \"y\": 4674,\n",
       "   \"date\": \"2021-03-15\"\n",
       "}\n",
       " {\n",
       "      \"x\": 2663,\n",
       "      \"y\": 3148,\n",
       "   \"date\": \"2021-03-22\"\n",
       "}\n",
       " {\n",
       "      \"x\": 2664,\n",
       "      \"y\": 2816,\n",
       "   \"date\": \"2021-03-29\"\n",
       "}\n",
       " {\n",
       "      \"x\": 2665,\n",
       "      \"y\": 1170,\n",
       "   \"date\": \"2021-04-05\"\n",
       "}"
      ]
     },
     "execution_count": 20,
     "metadata": {},
     "output_type": "execute_result"
    }
   ],
   "source": [
    "json[i].points"
   ]
  }
 ],
 "metadata": {
  "kernelspec": {
   "display_name": "Julia 1.8.4",
   "language": "julia",
   "name": "julia-1.8"
  },
  "language_info": {
   "file_extension": ".jl",
   "mimetype": "application/julia",
   "name": "julia",
   "version": "1.8.4"
  }
 },
 "nbformat": 4,
 "nbformat_minor": 5
}
