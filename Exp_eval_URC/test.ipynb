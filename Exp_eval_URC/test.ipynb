{
 "cells": [
  {
   "cell_type": "code",
   "execution_count": 2,
   "id": "1aee7ec8-0c09-4537-9e65-2d9039b538d2",
   "metadata": {
    "tags": []
   },
   "outputs": [],
   "source": [
    "using DelimitedFiles\n",
    "using DataFrames\n",
    "\n",
    "push!(LOAD_PATH,\"./src/\")\n",
    "using ExpEval"
   ]
  },
  {
   "cell_type": "code",
   "execution_count": 3,
   "id": "7e4f77f8-9620-4feb-993c-349dccd3984a",
   "metadata": {
    "tags": []
   },
   "outputs": [
    {
     "name": "stdout",
     "output_type": "stream",
     "text": [
      "(128, 12)\n",
      "\u001b[1m15×12 DataFrame\u001b[0m\n",
      "\u001b[1m Row \u001b[0m│\u001b[1m ID  \u001b[0m\u001b[1m Type      \u001b[0m\u001b[1m Name                  \u001b[0m\u001b[1m Train \u001b[0m\u001b[1m Test \u001b[0m\u001b[1m Class \u001b[0m\u001b[1m Length \u001b[0m\u001b[1m ED (w=0) \u001b[0m\u001b[1m DTW (learned_w)  \u001b[0m\u001b[1m DTW (w=100) \u001b[0m\u001b[1m Default rate \u001b[0m\u001b[1m Data donor/editor        \u001b[0m\n",
      "     │\u001b[90m Any \u001b[0m\u001b[90m Any       \u001b[0m\u001b[90m Any                   \u001b[0m\u001b[90m Any   \u001b[0m\u001b[90m Any  \u001b[0m\u001b[90m Any   \u001b[0m\u001b[90m Any    \u001b[0m\u001b[90m Any      \u001b[0m\u001b[90m Any              \u001b[0m\u001b[90m Any         \u001b[0m\u001b[90m Any          \u001b[0m\u001b[90m Any                      \u001b[0m\n",
      "─────┼────────────────────────────────────────────────────────────────────────────────────────────────────────────────────────────────────────────────────\n",
      "   1 │ 1    Image      Adiac                  390    391   37     176     0.3887    0.3913 (3)        0.3964       0.9591        A. Jalba\n",
      "   2 │ 2    Image      ArrowHead              36     175   3      251     0.2       0.2000 (0)        0.2971       0.6057        L. Ye & E. Keogh\n",
      "   3 │ 3    Spectro    Beef                   30     30    5      470     0.3333    0.3333 (0)        0.3667       0.8           K. Kemsley &  A. Bagnall\n",
      "   4 │ 4    Image      BeetleFly              20     20    2      512     0.25      0.3000 (7)        0.3          0.5           J. Hills & A. Bagnall\n",
      "   5 │ 5    Image      BirdChicken            20     20    2      512     0.45      0.3000 (6)        0.25         0.5           J. Hills & A. Bagnall\n",
      "   6 │ 6    Sensor     Car                    60     60    4      577     0.2667    0.2333 (1)        0.2667       0.6833        J. Gao\n",
      "   7 │ 7    Simulated  CBF                    30     900   3      128     0.1478    0.0044 (11)       0.0033       0.6644        N. Saito\n",
      "   8 │ 8    Sensor     ChlorineConcentration  467    3840  3      166     0.35      0.3500 (0)        0.3516       0.4674        L. Li & C. Faloutsos\n",
      "   9 │ 9    Sensor     CinCECGTorso           40     1380  4      1639    0.1029    0.0696 (1)        0.3493       0.7464        physionet.org\n",
      "  10 │ 10   Spectro    Coffee                 28     28    2      286     0.0       0.0000 (0)        0.0          0.4643        K, Kemsley & A. Bagnall\n",
      "  11 │ 11   Device     Computers              250    250   2      720     0.424     0.3800 (12)       0.3          0.5           J. Lines & A. Bagnall\n",
      "  12 │ 12   Motion     CricketX               390    390   12     300     0.4231    0.2282 (10)       0.2462       0.8974        A. Mueen & E. Keogh\n",
      "  13 │ 13   Motion     CricketY               390    390   12     300     0.4333    0.2410 (17)       0.2564       0.9051        A. Mueen & E. Keogh\n",
      "  14 │ 14   Motion     CricketZ               390    390   12     300     0.4128    0.2538 (5)        0.2462       0.8974        A. Mueen & E. Keogh\n",
      "  15 │ 15   Image      DiatomSizeReduction    16     306   4      345     0.0654    0.0654 (0)        0.0327       0.6928        ADIAC project"
     ]
    }
   ],
   "source": [
    "## For UCR archive information handeling\n",
    "url=\"https://www.cs.ucr.edu/~eamonn/time_series_data_2018/DataSummary.csv\"\n",
    "DataSumary, DataSumary_header = readdlm(download(url), ',', header = true)\n",
    "DataSumary_header[[1,4,5]] = [\"ID\", \"Train\", \"Test\"] # Original names \"\\ufeffID\", \"Train \", \"Test \"\n",
    "\n",
    "DataSumary_df = DataFrame(DataSumary, vec(DataSumary_header))\n",
    "println(size(DataSumary_df))\n",
    "print(DataSumary_df[1:15,:])"
   ]
  },
  {
   "cell_type": "code",
   "execution_count": 8,
   "id": "b81ec0a5-f19a-40c2-9206-0b527d3dfe2d",
   "metadata": {
    "tags": []
   },
   "outputs": [
    {
     "data": {
      "text/plain": [
       "relabelLabels (generic function with 1 method)"
      ]
     },
     "execution_count": 8,
     "metadata": {},
     "output_type": "execute_result"
    }
   ],
   "source": [
    "## THIS SHOULD BE IN UTILS\n",
    "\n",
    "function relabelLabels(labels_old)\n",
    "    # Take a vector of n labels from c clases (works for ints and strings) \n",
    "    # and maps it bijectivelly to 1,2,...,c\n",
    "    # Example: [b,b,a,c,b] -> [2,2,1,3,2]\n",
    "    \n",
    "    classes = sort(unique(labels_old))\n",
    "    labels = Array{Int, 1}(undef, length(labels_old))\n",
    "    \n",
    "    for i = 1:length(labels_old)\n",
    "        for j = 1:length(classes)\n",
    "            if labels_old[i] == classes[j]\n",
    "                labels[i] = j\n",
    "            end\n",
    "        end\n",
    "    end\n",
    "    return labels\n",
    "end"
   ]
  },
  {
   "cell_type": "code",
   "execution_count": 9,
   "id": "0488cbf6-1c81-44bb-a901-62b61542ccc8",
   "metadata": {
    "tags": []
   },
   "outputs": [
    {
     "name": "stdout",
     "output_type": "stream",
     "text": [
      "ID      : 101\n",
      "Name    : Fungi\n",
      "Length  : 201\n",
      "Train   : 18\n",
      "Test    : 186\n",
      "Classes : 18\n",
      "    Train Classes: [1, 2, 3, 4, 5, 6, 7, 8, 9, 10, 11, 12, 13, 14, 15, 16, 17, 18]\n",
      "    Test  Classes: [1, 2, 3, 4, 5, 6, 7, 8, 9, 10, 11, 12, 13, 14, 15, 16, 17, 18]\n",
      "---------------------------------------------------\n"
     ]
    },
    {
     "data": {
      "text/plain": [
       "18-element Vector{Int64}:\n",
       "  1\n",
       "  2\n",
       "  3\n",
       "  4\n",
       "  5\n",
       "  6\n",
       "  7\n",
       "  8\n",
       "  9\n",
       " 10\n",
       " 11\n",
       " 12\n",
       " 13\n",
       " 14\n",
       " 15\n",
       " 16\n",
       " 17\n",
       " 18"
      ]
     },
     "execution_count": 9,
     "metadata": {},
     "output_type": "execute_result"
    }
   ],
   "source": [
    "# Load test dataset \n",
    "ID = 101\n",
    "TEST, TEST_labels, TRAIN, TRAIN_labels = LoadDataBase(ID, DataSumary_df, true);\n",
    "\n",
    "labels = relabelLabels(TRAIN_labels)\n"
   ]
  }
 ],
 "metadata": {
  "kernelspec": {
   "display_name": "Julia 1.8.4",
   "language": "julia",
   "name": "julia-1.8"
  },
  "language_info": {
   "file_extension": ".jl",
   "mimetype": "application/julia",
   "name": "julia",
   "version": "1.8.4"
  }
 },
 "nbformat": 4,
 "nbformat_minor": 5
}
