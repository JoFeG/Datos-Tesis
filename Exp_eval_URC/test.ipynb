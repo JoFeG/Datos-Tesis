{
 "cells": [
  {
   "cell_type": "code",
   "execution_count": 10,
   "id": "1aee7ec8-0c09-4537-9e65-2d9039b538d2",
   "metadata": {
    "tags": []
   },
   "outputs": [],
   "source": [
    "using DelimitedFiles\n",
    "using DataFrames\n",
    "using DynamicAxisWarping\n",
    "using Plots\n",
    "\n",
    "push!(LOAD_PATH,\"./src/\")\n",
    "using ExpEval"
   ]
  },
  {
   "cell_type": "code",
   "execution_count": 11,
   "id": "7e4f77f8-9620-4feb-993c-349dccd3984a",
   "metadata": {
    "tags": []
   },
   "outputs": [
    {
     "name": "stdout",
     "output_type": "stream",
     "text": [
      "(128, 12)\n",
      "\u001b[1m15×12 DataFrame\u001b[0m\n",
      "\u001b[1m Row \u001b[0m│\u001b[1m ID  \u001b[0m\u001b[1m Type      \u001b[0m\u001b[1m Name                  \u001b[0m\u001b[1m Train \u001b[0m\u001b[1m Test \u001b[0m\u001b[1m Class \u001b[0m\u001b[1m Length \u001b[0m\u001b[1m ED (w=0) \u001b[0m\u001b[1m DTW (learned_w)  \u001b[0m\u001b[1m DTW (w=100) \u001b[0m\u001b[1m Default rate \u001b[0m\u001b[1m Data donor/editor        \u001b[0m\n",
      "     │\u001b[90m Any \u001b[0m\u001b[90m Any       \u001b[0m\u001b[90m Any                   \u001b[0m\u001b[90m Any   \u001b[0m\u001b[90m Any  \u001b[0m\u001b[90m Any   \u001b[0m\u001b[90m Any    \u001b[0m\u001b[90m Any      \u001b[0m\u001b[90m Any              \u001b[0m\u001b[90m Any         \u001b[0m\u001b[90m Any          \u001b[0m\u001b[90m Any                      \u001b[0m\n",
      "─────┼────────────────────────────────────────────────────────────────────────────────────────────────────────────────────────────────────────────────────\n",
      "   1 │ 1    Image      Adiac                  390    391   37     176     0.3887    0.3913 (3)        0.3964       0.9591        A. Jalba\n",
      "   2 │ 2    Image      ArrowHead              36     175   3      251     0.2       0.2000 (0)        0.2971       0.6057        L. Ye & E. Keogh\n",
      "   3 │ 3    Spectro    Beef                   30     30    5      470     0.3333    0.3333 (0)        0.3667       0.8           K. Kemsley &  A. Bagnall\n",
      "   4 │ 4    Image      BeetleFly              20     20    2      512     0.25      0.3000 (7)        0.3          0.5           J. Hills & A. Bagnall\n",
      "   5 │ 5    Image      BirdChicken            20     20    2      512     0.45      0.3000 (6)        0.25         0.5           J. Hills & A. Bagnall\n",
      "   6 │ 6    Sensor     Car                    60     60    4      577     0.2667    0.2333 (1)        0.2667       0.6833        J. Gao\n",
      "   7 │ 7    Simulated  CBF                    30     900   3      128     0.1478    0.0044 (11)       0.0033       0.6644        N. Saito\n",
      "   8 │ 8    Sensor     ChlorineConcentration  467    3840  3      166     0.35      0.3500 (0)        0.3516       0.4674        L. Li & C. Faloutsos\n",
      "   9 │ 9    Sensor     CinCECGTorso           40     1380  4      1639    0.1029    0.0696 (1)        0.3493       0.7464        physionet.org\n",
      "  10 │ 10   Spectro    Coffee                 28     28    2      286     0.0       0.0000 (0)        0.0          0.4643        K, Kemsley & A. Bagnall\n",
      "  11 │ 11   Device     Computers              250    250   2      720     0.424     0.3800 (12)       0.3          0.5           J. Lines & A. Bagnall\n",
      "  12 │ 12   Motion     CricketX               390    390   12     300     0.4231    0.2282 (10)       0.2462       0.8974        A. Mueen & E. Keogh\n",
      "  13 │ 13   Motion     CricketY               390    390   12     300     0.4333    0.2410 (17)       0.2564       0.9051        A. Mueen & E. Keogh\n",
      "  14 │ 14   Motion     CricketZ               390    390   12     300     0.4128    0.2538 (5)        0.2462       0.8974        A. Mueen & E. Keogh\n",
      "  15 │ 15   Image      DiatomSizeReduction    16     306   4      345     0.0654    0.0654 (0)        0.0327       0.6928        ADIAC project"
     ]
    }
   ],
   "source": [
    "## For UCR archive information handeling\n",
    "url=\"https://www.cs.ucr.edu/~eamonn/time_series_data_2018/DataSummary.csv\"\n",
    "DataSumary, DataSumary_header = readdlm(download(url), ',', header = true)\n",
    "DataSumary_header[[1,4,5]] = [\"ID\", \"Train\", \"Test\"] # Original names \"\\ufeffID\", \"Train \", \"Test \"\n",
    "\n",
    "DataSumary_df = DataFrame(DataSumary, vec(DataSumary_header))\n",
    "println(size(DataSumary_df))\n",
    "print(DataSumary_df[1:15,:])"
   ]
  },
  {
   "cell_type": "code",
   "execution_count": 12,
   "id": "b81ec0a5-f19a-40c2-9206-0b527d3dfe2d",
   "metadata": {
    "tags": []
   },
   "outputs": [
    {
     "data": {
      "text/plain": [
       "relabelLabels (generic function with 1 method)"
      ]
     },
     "execution_count": 12,
     "metadata": {},
     "output_type": "execute_result"
    }
   ],
   "source": [
    "## THIS SHOULD BE IN UTILS\n",
    "\n",
    "function relabelLabels(labels_old)\n",
    "    # Take a vector of n labels from c clases (works for ints and strings) \n",
    "    # and maps it bijectivelly to 1,2,...,c\n",
    "    # Example: [b,b,a,c,b] -> [2,2,1,3,2]\n",
    "    \n",
    "    classes = sort(unique(labels_old))\n",
    "    labels = Array{Int, 1}(undef, length(labels_old))\n",
    "    \n",
    "    for i = 1:length(labels_old)\n",
    "        for j = 1:length(classes)\n",
    "            if labels_old[i] == classes[j]\n",
    "                labels[i] = j\n",
    "            end\n",
    "        end\n",
    "    end\n",
    "    return labels\n",
    "end"
   ]
  },
  {
   "cell_type": "code",
   "execution_count": 13,
   "id": "0488cbf6-1c81-44bb-a901-62b61542ccc8",
   "metadata": {
    "tags": []
   },
   "outputs": [
    {
     "name": "stdout",
     "output_type": "stream",
     "text": [
      "ID      : 101\n",
      "Name    : Fungi\n",
      "Length  : 201\n",
      "Train   : 18\n",
      "Test    : 186\n",
      "Classes : 18\n",
      "    Train Classes: [1, 2, 3, 4, 5, 6, 7, 8, 9, 10, 11, 12, 13, 14, 15, 16, 17, 18]\n",
      "    Test  Classes: [1, 2, 3, 4, 5, 6, 7, 8, 9, 10, 11, 12, 13, 14, 15, 16, 17, 18]\n",
      "---------------------------------------------------\n"
     ]
    }
   ],
   "source": [
    "# Load test dataset \n",
    "ID = 101\n",
    "TEST, TEST_labels, TRAIN, TRAIN_labels = LoadDataBase(ID, DataSumary_df, true);\n",
    "\n",
    "#labels = relabelLabels()"
   ]
  },
  {
   "cell_type": "code",
   "execution_count": 14,
   "id": "a8a5009c-203e-454d-9e4e-396efca04367",
   "metadata": {
    "tags": []
   },
   "outputs": [
    {
     "data": {
      "text/plain": [
       "dtw_naive (generic function with 1 method)"
      ]
     },
     "execution_count": 14,
     "metadata": {},
     "output_type": "execute_result"
    }
   ],
   "source": [
    "function dtw_naive(x,y)\n",
    "    I = length(x)\n",
    "    J = length(y)\n",
    "    \n",
    "    δm = [(x[i] - y[j])^2 for i=1:I, j=1:J]\n",
    "    C = Inf*ones(I+1, J+1)\n",
    "    \n",
    "    C[1,1] = 0\n",
    "\n",
    "    φm = zeros(Int, I+1, J+1)\n",
    "    φm[2:I+1,1] .= 2\n",
    "    φm[1,2:J+1] .= 3\n",
    "    \n",
    "    \n",
    "    for i = 2:I+1\n",
    "        for j = 2:J+1\n",
    "            C[i,j] = δm[i-1,j-1] + min([\n",
    "                C[i-1, j-1]    \n",
    "                C[i-1, j]\n",
    "                C[i, j-1]                \n",
    "            ]...)\n",
    "            φm[i,j] = argmin([\n",
    "                    C[i-1, j-1]\n",
    "                    C[i-1, j]\n",
    "                    C[i, j-1]\n",
    "                    ])\n",
    "            \n",
    "            if i<=3 && j<=3\n",
    "                println(\"\\nnaive i=$i j=$j\")\n",
    "                display(C[1:4,1:4])\n",
    "                display(φm[1:4,1:4])\n",
    "            end\n",
    "        end\n",
    "    end\n",
    "    \n",
    "    i = I\n",
    "    j = J\n",
    "    πi = [i]\n",
    "    πj = [j]\n",
    "    while i>1 || j>1\n",
    "        if φm[i+1,j+1] == 1\n",
    "            i = i - 1\n",
    "            j = j - 1\n",
    "        elseif φm[i+1,j+1] == 2\n",
    "            i = i - 1\n",
    "        elseif φm[i+1,j+1] == 3\n",
    "            j = j - 1\n",
    "        else\n",
    "            break\n",
    "        end        \n",
    "        append!(πi, max(i,1))\n",
    "        append!(πj, max(j,1))\n",
    "    end\n",
    "    #display(δm)\n",
    "    #display(C)\n",
    "    #display(φm)\n",
    "    \n",
    "    return C[I+1,J+1], reverse!(πi), reverse!(πj)\n",
    "end"
   ]
  },
  {
   "cell_type": "code",
   "execution_count": 6,
   "id": "f4c5758d-8eb9-470b-8634-e9ce1be3c27e",
   "metadata": {
    "collapsed": true,
    "jupyter": {
     "outputs_hidden": true,
     "source_hidden": true
    },
    "tags": []
   },
   "outputs": [
    {
     "data": {
      "text/plain": [
       "dtw_arrow (generic function with 1 method)"
      ]
     },
     "execution_count": 6,
     "metadata": {},
     "output_type": "execute_result"
    }
   ],
   "source": [
    "# wrong version\n",
    "function dtw_arrow(x,y)\n",
    "    I = length(x)\n",
    "    J = length(y)\n",
    "    \n",
    "    δm = [(x[i] - y[j])^2 for i=1:I, j=1:J]\n",
    "    C = zeros(I+1, J+1)\n",
    "    \n",
    "    φm = zeros(Int, I+1, J+1)\n",
    "    φm[2:I+1,1] .= 2\n",
    "    φm[1,2:J+1] .= 3\n",
    "    \n",
    "    for i = 2:I+1\n",
    "        for j = 2:J+1\n",
    "            if i>2\n",
    "                ev = any(isnan.([x[i-1], x[i-2], y[j-1]])) ? Inf : 0\n",
    "            else\n",
    "                ev = any(isnan.([x[i-1], y[j-1]])) ? Inf : 0\n",
    "            end\n",
    "            if j>2\n",
    "                eh = any(isnan.([x[i-1], y[j-1], y[j-2]])) ? Inf : 0\n",
    "            else\n",
    "                eh = any(isnan.([x[i-1], y[j-1]])) ? Inf : 0\n",
    "            end\n",
    "                \n",
    "            C[i,j] = δm[i-1,j-1] + min([\n",
    "                C[i-1, j-1]    \n",
    "                C[i-1, j] + ev\n",
    "                C[i, j-1] + eh               \n",
    "            ]...)\n",
    "            φm[i,j] = argmin([\n",
    "                    C[i-1, j-1]\n",
    "                    C[i-1, j] + ev\n",
    "                    C[i, j-1] + eh\n",
    "                    ])\n",
    "        end\n",
    "    end    \n",
    "    \n",
    "    i = I\n",
    "    j = J\n",
    "    πi = [i]\n",
    "    πj = [j]\n",
    "    while i>1 || j>1\n",
    "        if φm[i+1,j+1] == 1\n",
    "            i = i - 1\n",
    "            j = j - 1\n",
    "        elseif φm[i+1,j+1] == 2\n",
    "            i = i - 1\n",
    "        elseif φm[i+1,j+1] == 3\n",
    "            j = j - 1\n",
    "        else\n",
    "            break\n",
    "        end        \n",
    "        append!(πi, max(i,1))\n",
    "        append!(πj, max(j,1))\n",
    "    end\n",
    "    #display(δm)\n",
    "    #display(C)\n",
    "    #display(φm)\n",
    "    \n",
    "    \n",
    "    Iav = length(filter(!isnan, x))\n",
    "    Jav = length(filter(!isnan, y))\n",
    "    γ = (I + J) / (Iav + Jav)\n",
    "    \n",
    "    return γ*C[I+1,J+1], reverse!(πi), reverse!(πj)\n",
    "end"
   ]
  },
  {
   "cell_type": "code",
   "execution_count": 19,
   "id": "96c62ac4-3562-4258-9bd2-f456321982e6",
   "metadata": {
    "tags": []
   },
   "outputs": [
    {
     "data": {
      "text/plain": [
       "dtw_arrow (generic function with 1 method)"
      ]
     },
     "execution_count": 19,
     "metadata": {},
     "output_type": "execute_result"
    }
   ],
   "source": [
    "function dtw_arrow(x,y)\n",
    "    I = length(x)\n",
    "    J = length(y)\n",
    "    \n",
    "    δm = [(x[i] - y[j])^2 for i=1:I, j=1:J]\n",
    "    C = zeros(I+1, J+1)\n",
    "    \n",
    "    φm = zeros(Int, I+1, J+1)\n",
    "    φm[2:I+1,1] .= 2\n",
    "    φm[1,2:J+1] .= 3\n",
    "    \n",
    "    for i = 2:I+1\n",
    "        for j = 2:J+1\n",
    "            if i>2\n",
    "                ev = any(isnan.([x[i-1], x[i-2], y[j-1]])) ? Inf : 0\n",
    "            else\n",
    "                ev = Inf\n",
    "            end\n",
    "            if j>2\n",
    "                eh = any(isnan.([x[i-1], y[j-1], y[j-2]])) ? Inf : 0\n",
    "            else\n",
    "                eh = Inf\n",
    "            end\n",
    "                \n",
    "            C[i,j] = δm[i-1,j-1] + min([\n",
    "                C[i-1, j-1]    \n",
    "                C[i-1, j] + ev\n",
    "                C[i, j-1] + eh               \n",
    "            ]...)\n",
    "            φm[i,j] = argmin([\n",
    "                    C[i-1, j-1]\n",
    "                    C[i-1, j] + ev\n",
    "                    C[i, j-1] + eh\n",
    "                    ])\n",
    "            \n",
    "            if i<=3 && j<=3\n",
    "                println(\"\\narrow i=$i j=$j\")\n",
    "                display(C[1:4,1:4])\n",
    "                display(φm[1:4,1:4])\n",
    "            end\n",
    "        end\n",
    "    end    \n",
    "    \n",
    "    i = I\n",
    "    j = J\n",
    "    πi = [i]\n",
    "    πj = [j]\n",
    "    while i>1 || j>1\n",
    "        if φm[i+1,j+1] == 1\n",
    "            i = i - 1\n",
    "            j = j - 1\n",
    "        elseif φm[i+1,j+1] == 2\n",
    "            i = i - 1\n",
    "        elseif φm[i+1,j+1] == 3\n",
    "            j = j - 1\n",
    "        else\n",
    "            break\n",
    "        end        \n",
    "        append!(πi, max(i,1))\n",
    "        append!(πj, max(j,1))\n",
    "        \n",
    "        if i<=3 || j<=3\n",
    "            println(\"arrowpath ij = $i $j\")\n",
    "\n",
    "        end\n",
    "    end\n",
    "    #display(δm)\n",
    "    #display(C)\n",
    "    #display(φm)\n",
    "    \n",
    "    \n",
    "    Iav = length(filter(!isnan, x))\n",
    "    Jav = length(filter(!isnan, y))\n",
    "    γ = (I + J) / (Iav + Jav)\n",
    "    \n",
    "    return γ*C[I+1,J+1], reverse!(πi), reverse!(πj)\n",
    "end"
   ]
  },
  {
   "cell_type": "code",
   "execution_count": 20,
   "id": "431bd068-86b1-4246-8a25-ffb126aba56c",
   "metadata": {
    "tags": []
   },
   "outputs": [
    {
     "name": "stdout",
     "output_type": "stream",
     "text": [
      "C_3 = 1\n",
      "C_5 = 1\n",
      "\n",
      "naive i=2 j=2\n"
     ]
    },
    {
     "data": {
      "text/plain": [
       "4×4 Matrix{Float64}:\n",
       "  0.0  Inf           Inf  Inf\n",
       " Inf    0.000117096  Inf  Inf\n",
       " Inf   Inf           Inf  Inf\n",
       " Inf   Inf           Inf  Inf"
      ]
     },
     "metadata": {},
     "output_type": "display_data"
    },
    {
     "data": {
      "text/plain": [
       "4×4 Matrix{Int64}:\n",
       " 0  3  3  3\n",
       " 2  1  0  0\n",
       " 2  0  0  0\n",
       " 2  0  0  0"
      ]
     },
     "metadata": {},
     "output_type": "display_data"
    },
    {
     "name": "stdout",
     "output_type": "stream",
     "text": [
      "\n",
      "naive i=2 j=3\n"
     ]
    },
    {
     "data": {
      "text/plain": [
       "4×4 Matrix{Float64}:\n",
       "  0.0  Inf           Inf         Inf\n",
       " Inf    0.000117096   0.0031162  Inf\n",
       " Inf   Inf           Inf         Inf\n",
       " Inf   Inf           Inf         Inf"
      ]
     },
     "metadata": {},
     "output_type": "display_data"
    },
    {
     "data": {
      "text/plain": [
       "4×4 Matrix{Int64}:\n",
       " 0  3  3  3\n",
       " 2  1  3  0\n",
       " 2  0  0  0\n",
       " 2  0  0  0"
      ]
     },
     "metadata": {},
     "output_type": "display_data"
    },
    {
     "name": "stdout",
     "output_type": "stream",
     "text": [
      "\n",
      "naive i=3 j=2\n"
     ]
    },
    {
     "data": {
      "text/plain": [
       "4×4 Matrix{Float64}:\n",
       "  0.0  Inf           Inf         Inf\n",
       " Inf    0.000117096   0.0031162   0.00976055\n",
       " Inf    0.00493067   Inf         Inf\n",
       " Inf   Inf           Inf         Inf"
      ]
     },
     "metadata": {},
     "output_type": "display_data"
    },
    {
     "data": {
      "text/plain": [
       "4×4 Matrix{Int64}:\n",
       " 0  3  3  3\n",
       " 2  1  3  3\n",
       " 2  2  0  0\n",
       " 2  0  0  0"
      ]
     },
     "metadata": {},
     "output_type": "display_data"
    },
    {
     "name": "stdout",
     "output_type": "stream",
     "text": [
      "\n",
      "naive i=3 j=3\n"
     ]
    },
    {
     "data": {
      "text/plain": [
       "4×4 Matrix{Float64}:\n",
       "  0.0  Inf           Inf         Inf\n",
       " Inf    0.000117096   0.0031162   0.00976055\n",
       " Inf    0.00493067    0.0129592  Inf\n",
       " Inf   Inf           Inf         Inf"
      ]
     },
     "metadata": {},
     "output_type": "display_data"
    },
    {
     "data": {
      "text/plain": [
       "4×4 Matrix{Int64}:\n",
       " 0  3  3  3\n",
       " 2  1  3  3\n",
       " 2  2  1  0\n",
       " 2  0  0  0"
      ]
     },
     "metadata": {},
     "output_type": "display_data"
    },
    {
     "name": "stdout",
     "output_type": "stream",
     "text": [
      "\n",
      "arrow i=2 j=2\n"
     ]
    },
    {
     "data": {
      "text/plain": [
       "4×4 Matrix{Float64}:\n",
       " 0.0  0.0          0.0  0.0\n",
       " 0.0  0.000117096  0.0  0.0\n",
       " 0.0  0.0          0.0  0.0\n",
       " 0.0  0.0          0.0  0.0"
      ]
     },
     "metadata": {},
     "output_type": "display_data"
    },
    {
     "data": {
      "text/plain": [
       "4×4 Matrix{Int64}:\n",
       " 0  3  3  3\n",
       " 2  1  0  0\n",
       " 2  0  0  0\n",
       " 2  0  0  0"
      ]
     },
     "metadata": {},
     "output_type": "display_data"
    },
    {
     "name": "stdout",
     "output_type": "stream",
     "text": [
      "\n",
      "arrow i=2 j=3\n"
     ]
    },
    {
     "data": {
      "text/plain": [
       "4×4 Matrix{Float64}:\n",
       " 0.0  0.0          0.0        0.0\n",
       " 0.0  0.000117096  0.0029991  0.0\n",
       " 0.0  0.0          0.0        0.0\n",
       " 0.0  0.0          0.0        0.0"
      ]
     },
     "metadata": {},
     "output_type": "display_data"
    },
    {
     "data": {
      "text/plain": [
       "4×4 Matrix{Int64}:\n",
       " 0  3  3  3\n",
       " 2  1  1  0\n",
       " 2  0  0  0\n",
       " 2  0  0  0"
      ]
     },
     "metadata": {},
     "output_type": "display_data"
    },
    {
     "name": "stdout",
     "output_type": "stream",
     "text": [
      "\n",
      "arrow i=3 j=2\n"
     ]
    },
    {
     "data": {
      "text/plain": [
       "4×4 Matrix{Float64}:\n",
       " 0.0  0.0          0.0        0.0\n",
       " 0.0  0.000117096  0.0029991  0.00664435\n",
       " 0.0  0.00481357   0.0        0.0\n",
       " 0.0  0.0          0.0        0.0"
      ]
     },
     "metadata": {},
     "output_type": "display_data"
    },
    {
     "data": {
      "text/plain": [
       "4×4 Matrix{Int64}:\n",
       " 0  3  3  3\n",
       " 2  1  1  1\n",
       " 2  1  0  0\n",
       " 2  0  0  0"
      ]
     },
     "metadata": {},
     "output_type": "display_data"
    },
    {
     "name": "stdout",
     "output_type": "stream",
     "text": [
      "\n",
      "arrow i=3 j=3\n"
     ]
    },
    {
     "data": {
      "text/plain": [
       "4×4 Matrix{Float64}:\n",
       " 0.0  0.0          0.0        0.0\n",
       " 0.0  0.000117096  0.0029991  0.00664435\n",
       " 0.0  0.00481357   0.0129592  0.0\n",
       " 0.0  0.0          0.0        0.0"
      ]
     },
     "metadata": {},
     "output_type": "display_data"
    },
    {
     "data": {
      "text/plain": [
       "4×4 Matrix{Int64}:\n",
       " 0  3  3  3\n",
       " 2  1  1  1\n",
       " 2  1  1  0\n",
       " 2  0  0  0"
      ]
     },
     "metadata": {},
     "output_type": "display_data"
    },
    {
     "name": "stdout",
     "output_type": "stream",
     "text": [
      "arrowpath ij = 3 32\n",
      "arrowpath ij = 2 32\n",
      "arrowpath ij = 1 32\n",
      "arrowpath ij = 0 31\n",
      "arrowpath ij = 0 30\n",
      "arrowpath ij = 0 29\n",
      "arrowpath ij = 0 28\n",
      "arrowpath ij = 0 27\n",
      "arrowpath ij = 0 26\n",
      "arrowpath ij = 0 25\n",
      "arrowpath ij = 0 24\n",
      "arrowpath ij = 0 23\n",
      "arrowpath ij = 0 22\n",
      "arrowpath ij = 0 21\n",
      "arrowpath ij = 0 20\n",
      "arrowpath ij = 0 19\n",
      "arrowpath ij = 0 18\n",
      "arrowpath ij = 0 17\n",
      "arrowpath ij = 0 16\n",
      "arrowpath ij = 0 15\n",
      "arrowpath ij = 0 14\n",
      "arrowpath ij = 0 13\n",
      "arrowpath ij = 0 12\n",
      "arrowpath ij = 0 11\n",
      "arrowpath ij = 0 10\n",
      "arrowpath ij = 0 9\n",
      "arrowpath ij = 0 8\n",
      "arrowpath ij = 0 7\n",
      "arrowpath ij = 0 6\n",
      "arrowpath ij = 0 5\n",
      "arrowpath ij = 0 4\n",
      "arrowpath ij = 0 3\n",
      "arrowpath ij = 0 2\n",
      "arrowpath ij = 0 1\n",
      "dtw1 = 57.68670766729033\n",
      "dtw2 = 57.68670766729033\n",
      "dtw3 = 57.23895101115708\n"
     ]
    },
    {
     "data": {
      "image/svg+xml": [
       "<?xml version=\"1.0\" encoding=\"utf-8\"?>\n",
       "<svg xmlns=\"http://www.w3.org/2000/svg\" xmlns:xlink=\"http://www.w3.org/1999/xlink\" width=\"600\" height=\"400\" viewBox=\"0 0 2400 1600\">\n",
       "<defs>\n",
       "  <clipPath id=\"clip770\">\n",
       "    <rect x=\"0\" y=\"0\" width=\"2400\" height=\"1600\"/>\n",
       "  </clipPath>\n",
       "</defs>\n",
       "<path clip-path=\"url(#clip770)\" d=\"M0 1600 L2400 1600 L2400 0 L0 0  Z\" fill=\"#ffffff\" fill-rule=\"evenodd\" fill-opacity=\"1\"/>\n",
       "<defs>\n",
       "  <clipPath id=\"clip771\">\n",
       "    <rect x=\"480\" y=\"0\" width=\"1681\" height=\"1600\"/>\n",
       "  </clipPath>\n",
       "</defs>\n",
       "<path clip-path=\"url(#clip770)\" d=\"M542.205 1486.45 L1981.41 1486.45 L1981.41 47.2441 L542.205 47.2441  Z\" fill=\"#ffffff\" fill-rule=\"evenodd\" fill-opacity=\"1\"/>\n",
       "<defs>\n",
       "  <clipPath id=\"clip772\">\n",
       "    <rect x=\"542\" y=\"47\" width=\"1440\" height=\"1440\"/>\n",
       "  </clipPath>\n",
       "</defs>\n",
       "<polyline clip-path=\"url(#clip772)\" style=\"stroke:#000000; stroke-linecap:round; stroke-linejoin:round; stroke-width:2; stroke-opacity:0.1; fill:none\" points=\"542.205,1486.45 542.205,47.2441 \"/>\n",
       "<polyline clip-path=\"url(#clip772)\" style=\"stroke:#000000; stroke-linecap:round; stroke-linejoin:round; stroke-width:2; stroke-opacity:0.1; fill:none\" points=\"898.443,1486.45 898.443,47.2441 \"/>\n",
       "<polyline clip-path=\"url(#clip772)\" style=\"stroke:#000000; stroke-linecap:round; stroke-linejoin:round; stroke-width:2; stroke-opacity:0.1; fill:none\" points=\"1254.68,1486.45 1254.68,47.2441 \"/>\n",
       "<polyline clip-path=\"url(#clip772)\" style=\"stroke:#000000; stroke-linecap:round; stroke-linejoin:round; stroke-width:2; stroke-opacity:0.1; fill:none\" points=\"1610.92,1486.45 1610.92,47.2441 \"/>\n",
       "<polyline clip-path=\"url(#clip772)\" style=\"stroke:#000000; stroke-linecap:round; stroke-linejoin:round; stroke-width:2; stroke-opacity:0.1; fill:none\" points=\"1967.16,1486.45 1967.16,47.2441 \"/>\n",
       "<polyline clip-path=\"url(#clip770)\" style=\"stroke:#000000; stroke-linecap:round; stroke-linejoin:round; stroke-width:4; stroke-opacity:1; fill:none\" points=\"542.205,1486.45 1981.41,1486.45 \"/>\n",
       "<polyline clip-path=\"url(#clip770)\" style=\"stroke:#000000; stroke-linecap:round; stroke-linejoin:round; stroke-width:4; stroke-opacity:1; fill:none\" points=\"542.205,1486.45 542.205,1467.55 \"/>\n",
       "<polyline clip-path=\"url(#clip770)\" style=\"stroke:#000000; stroke-linecap:round; stroke-linejoin:round; stroke-width:4; stroke-opacity:1; fill:none\" points=\"898.443,1486.45 898.443,1467.55 \"/>\n",
       "<polyline clip-path=\"url(#clip770)\" style=\"stroke:#000000; stroke-linecap:round; stroke-linejoin:round; stroke-width:4; stroke-opacity:1; fill:none\" points=\"1254.68,1486.45 1254.68,1467.55 \"/>\n",
       "<polyline clip-path=\"url(#clip770)\" style=\"stroke:#000000; stroke-linecap:round; stroke-linejoin:round; stroke-width:4; stroke-opacity:1; fill:none\" points=\"1610.92,1486.45 1610.92,1467.55 \"/>\n",
       "<polyline clip-path=\"url(#clip770)\" style=\"stroke:#000000; stroke-linecap:round; stroke-linejoin:round; stroke-width:4; stroke-opacity:1; fill:none\" points=\"1967.16,1486.45 1967.16,1467.55 \"/>\n",
       "<path clip-path=\"url(#clip770)\" d=\"M542.205 1517.37 Q538.594 1517.37 536.765 1520.93 Q534.959 1524.47 534.959 1531.6 Q534.959 1538.71 536.765 1542.27 Q538.594 1545.82 542.205 1545.82 Q545.839 1545.82 547.645 1542.27 Q549.473 1538.71 549.473 1531.6 Q549.473 1524.47 547.645 1520.93 Q545.839 1517.37 542.205 1517.37 M542.205 1513.66 Q548.015 1513.66 551.07 1518.27 Q554.149 1522.85 554.149 1531.6 Q554.149 1540.33 551.07 1544.94 Q548.015 1549.52 542.205 1549.52 Q536.395 1549.52 533.316 1544.94 Q530.26 1540.33 530.26 1531.6 Q530.26 1522.85 533.316 1518.27 Q536.395 1513.66 542.205 1513.66 Z\" fill=\"#000000\" fill-rule=\"nonzero\" fill-opacity=\"1\" /><path clip-path=\"url(#clip770)\" d=\"M873.143 1514.29 L891.499 1514.29 L891.499 1518.22 L877.425 1518.22 L877.425 1526.7 Q878.443 1526.35 879.462 1526.19 Q880.48 1526 881.499 1526 Q887.286 1526 890.666 1529.17 Q894.045 1532.34 894.045 1537.76 Q894.045 1543.34 890.573 1546.44 Q887.101 1549.52 880.781 1549.52 Q878.605 1549.52 876.337 1549.15 Q874.092 1548.78 871.684 1548.04 L871.684 1543.34 Q873.768 1544.47 875.99 1545.03 Q878.212 1545.58 880.689 1545.58 Q884.693 1545.58 887.031 1543.48 Q889.369 1541.37 889.369 1537.76 Q889.369 1534.15 887.031 1532.04 Q884.693 1529.94 880.689 1529.94 Q878.814 1529.94 876.939 1530.35 Q875.087 1530.77 873.143 1531.65 L873.143 1514.29 Z\" fill=\"#000000\" fill-rule=\"nonzero\" fill-opacity=\"1\" /><path clip-path=\"url(#clip770)\" d=\"M913.258 1517.37 Q909.647 1517.37 907.818 1520.93 Q906.013 1524.47 906.013 1531.6 Q906.013 1538.71 907.818 1542.27 Q909.647 1545.82 913.258 1545.82 Q916.892 1545.82 918.698 1542.27 Q920.527 1538.71 920.527 1531.6 Q920.527 1524.47 918.698 1520.93 Q916.892 1517.37 913.258 1517.37 M913.258 1513.66 Q919.068 1513.66 922.124 1518.27 Q925.202 1522.85 925.202 1531.6 Q925.202 1540.33 922.124 1544.94 Q919.068 1549.52 913.258 1549.52 Q907.448 1549.52 904.369 1544.94 Q901.314 1540.33 901.314 1531.6 Q901.314 1522.85 904.369 1518.27 Q907.448 1513.66 913.258 1513.66 Z\" fill=\"#000000\" fill-rule=\"nonzero\" fill-opacity=\"1\" /><path clip-path=\"url(#clip770)\" d=\"M1214.29 1544.91 L1221.93 1544.91 L1221.93 1518.55 L1213.62 1520.21 L1213.62 1515.95 L1221.88 1514.29 L1226.56 1514.29 L1226.56 1544.91 L1234.2 1544.91 L1234.2 1548.85 L1214.29 1548.85 L1214.29 1544.91 Z\" fill=\"#000000\" fill-rule=\"nonzero\" fill-opacity=\"1\" /><path clip-path=\"url(#clip770)\" d=\"M1253.64 1517.37 Q1250.03 1517.37 1248.2 1520.93 Q1246.39 1524.47 1246.39 1531.6 Q1246.39 1538.71 1248.2 1542.27 Q1250.03 1545.82 1253.64 1545.82 Q1257.27 1545.82 1259.08 1542.27 Q1260.91 1538.71 1260.91 1531.6 Q1260.91 1524.47 1259.08 1520.93 Q1257.27 1517.37 1253.64 1517.37 M1253.64 1513.66 Q1259.45 1513.66 1262.51 1518.27 Q1265.58 1522.85 1265.58 1531.6 Q1265.58 1540.33 1262.51 1544.94 Q1259.45 1549.52 1253.64 1549.52 Q1247.83 1549.52 1244.75 1544.94 Q1241.7 1540.33 1241.7 1531.6 Q1241.7 1522.85 1244.75 1518.27 Q1247.83 1513.66 1253.64 1513.66 Z\" fill=\"#000000\" fill-rule=\"nonzero\" fill-opacity=\"1\" /><path clip-path=\"url(#clip770)\" d=\"M1283.8 1517.37 Q1280.19 1517.37 1278.36 1520.93 Q1276.56 1524.47 1276.56 1531.6 Q1276.56 1538.71 1278.36 1542.27 Q1280.19 1545.82 1283.8 1545.82 Q1287.44 1545.82 1289.24 1542.27 Q1291.07 1538.71 1291.07 1531.6 Q1291.07 1524.47 1289.24 1520.93 Q1287.44 1517.37 1283.8 1517.37 M1283.8 1513.66 Q1289.61 1513.66 1292.67 1518.27 Q1295.75 1522.85 1295.75 1531.6 Q1295.75 1540.33 1292.67 1544.94 Q1289.61 1549.52 1283.8 1549.52 Q1277.99 1549.52 1274.91 1544.94 Q1271.86 1540.33 1271.86 1531.6 Q1271.86 1522.85 1274.91 1518.27 Q1277.99 1513.66 1283.8 1513.66 Z\" fill=\"#000000\" fill-rule=\"nonzero\" fill-opacity=\"1\" /><path clip-path=\"url(#clip770)\" d=\"M1570.53 1544.91 L1578.17 1544.91 L1578.17 1518.55 L1569.86 1520.21 L1569.86 1515.95 L1578.12 1514.29 L1582.8 1514.29 L1582.8 1544.91 L1590.43 1544.91 L1590.43 1548.85 L1570.53 1548.85 L1570.53 1544.91 Z\" fill=\"#000000\" fill-rule=\"nonzero\" fill-opacity=\"1\" /><path clip-path=\"url(#clip770)\" d=\"M1599.93 1514.29 L1618.28 1514.29 L1618.28 1518.22 L1604.21 1518.22 L1604.21 1526.7 Q1605.23 1526.35 1606.24 1526.19 Q1607.26 1526 1608.28 1526 Q1614.07 1526 1617.45 1529.17 Q1620.83 1532.34 1620.83 1537.76 Q1620.83 1543.34 1617.36 1546.44 Q1613.88 1549.52 1607.56 1549.52 Q1605.39 1549.52 1603.12 1549.15 Q1600.87 1548.78 1598.47 1548.04 L1598.47 1543.34 Q1600.55 1544.47 1602.77 1545.03 Q1604.99 1545.58 1607.47 1545.58 Q1611.48 1545.58 1613.81 1543.48 Q1616.15 1541.37 1616.15 1537.76 Q1616.15 1534.15 1613.81 1532.04 Q1611.48 1529.94 1607.47 1529.94 Q1605.6 1529.94 1603.72 1530.35 Q1601.87 1530.77 1599.93 1531.65 L1599.93 1514.29 Z\" fill=\"#000000\" fill-rule=\"nonzero\" fill-opacity=\"1\" /><path clip-path=\"url(#clip770)\" d=\"M1640.04 1517.37 Q1636.43 1517.37 1634.6 1520.93 Q1632.8 1524.47 1632.8 1531.6 Q1632.8 1538.71 1634.6 1542.27 Q1636.43 1545.82 1640.04 1545.82 Q1643.67 1545.82 1645.48 1542.27 Q1647.31 1538.71 1647.31 1531.6 Q1647.31 1524.47 1645.48 1520.93 Q1643.67 1517.37 1640.04 1517.37 M1640.04 1513.66 Q1645.85 1513.66 1648.91 1518.27 Q1651.99 1522.85 1651.99 1531.6 Q1651.99 1540.33 1648.91 1544.94 Q1645.85 1549.52 1640.04 1549.52 Q1634.23 1549.52 1631.15 1544.94 Q1628.1 1540.33 1628.1 1531.6 Q1628.1 1522.85 1631.15 1518.27 Q1634.23 1513.66 1640.04 1513.66 Z\" fill=\"#000000\" fill-rule=\"nonzero\" fill-opacity=\"1\" /><path clip-path=\"url(#clip770)\" d=\"M1930.85 1544.91 L1947.17 1544.91 L1947.17 1548.85 L1925.23 1548.85 L1925.23 1544.91 Q1927.89 1542.16 1932.47 1537.53 Q1937.08 1532.88 1938.26 1531.53 Q1940.5 1529.01 1941.38 1527.27 Q1942.29 1525.51 1942.29 1523.82 Q1942.29 1521.07 1940.34 1519.33 Q1938.42 1517.6 1935.32 1517.6 Q1933.12 1517.6 1930.67 1518.36 Q1928.24 1519.13 1925.46 1520.68 L1925.46 1515.95 Q1928.28 1514.82 1930.74 1514.24 Q1933.19 1513.66 1935.23 1513.66 Q1940.6 1513.66 1943.79 1516.35 Q1946.99 1519.03 1946.99 1523.52 Q1946.99 1525.65 1946.18 1527.57 Q1945.39 1529.47 1943.28 1532.07 Q1942.7 1532.74 1939.6 1535.95 Q1936.5 1539.15 1930.85 1544.91 Z\" fill=\"#000000\" fill-rule=\"nonzero\" fill-opacity=\"1\" /><path clip-path=\"url(#clip770)\" d=\"M1966.99 1517.37 Q1963.37 1517.37 1961.55 1520.93 Q1959.74 1524.47 1959.74 1531.6 Q1959.74 1538.71 1961.55 1542.27 Q1963.37 1545.82 1966.99 1545.82 Q1970.62 1545.82 1972.43 1542.27 Q1974.25 1538.71 1974.25 1531.6 Q1974.25 1524.47 1972.43 1520.93 Q1970.62 1517.37 1966.99 1517.37 M1966.99 1513.66 Q1972.8 1513.66 1975.85 1518.27 Q1978.93 1522.85 1978.93 1531.6 Q1978.93 1540.33 1975.85 1544.94 Q1972.8 1549.52 1966.99 1549.52 Q1961.18 1549.52 1958.1 1544.94 Q1955.04 1540.33 1955.04 1531.6 Q1955.04 1522.85 1958.1 1518.27 Q1961.18 1513.66 1966.99 1513.66 Z\" fill=\"#000000\" fill-rule=\"nonzero\" fill-opacity=\"1\" /><path clip-path=\"url(#clip770)\" d=\"M1997.15 1517.37 Q1993.54 1517.37 1991.71 1520.93 Q1989.9 1524.47 1989.9 1531.6 Q1989.9 1538.71 1991.71 1542.27 Q1993.54 1545.82 1997.15 1545.82 Q2000.78 1545.82 2002.59 1542.27 Q2004.42 1538.71 2004.42 1531.6 Q2004.42 1524.47 2002.59 1520.93 Q2000.78 1517.37 1997.15 1517.37 M1997.15 1513.66 Q2002.96 1513.66 2006.01 1518.27 Q2009.09 1522.85 2009.09 1531.6 Q2009.09 1540.33 2006.01 1544.94 Q2002.96 1549.52 1997.15 1549.52 Q1991.34 1549.52 1988.26 1544.94 Q1985.2 1540.33 1985.2 1531.6 Q1985.2 1522.85 1988.26 1518.27 Q1991.34 1513.66 1997.15 1513.66 Z\" fill=\"#000000\" fill-rule=\"nonzero\" fill-opacity=\"1\" /><polyline clip-path=\"url(#clip772)\" style=\"stroke:#000000; stroke-linecap:round; stroke-linejoin:round; stroke-width:2; stroke-opacity:0.1; fill:none\" points=\"542.205,1486.45 1981.41,1486.45 \"/>\n",
       "<polyline clip-path=\"url(#clip772)\" style=\"stroke:#000000; stroke-linecap:round; stroke-linejoin:round; stroke-width:2; stroke-opacity:0.1; fill:none\" points=\"542.205,1130.21 1981.41,1130.21 \"/>\n",
       "<polyline clip-path=\"url(#clip772)\" style=\"stroke:#000000; stroke-linecap:round; stroke-linejoin:round; stroke-width:2; stroke-opacity:0.1; fill:none\" points=\"542.205,773.971 1981.41,773.971 \"/>\n",
       "<polyline clip-path=\"url(#clip772)\" style=\"stroke:#000000; stroke-linecap:round; stroke-linejoin:round; stroke-width:2; stroke-opacity:0.1; fill:none\" points=\"542.205,417.732 1981.41,417.732 \"/>\n",
       "<polyline clip-path=\"url(#clip772)\" style=\"stroke:#000000; stroke-linecap:round; stroke-linejoin:round; stroke-width:2; stroke-opacity:0.1; fill:none\" points=\"542.205,61.4936 1981.41,61.4936 \"/>\n",
       "<polyline clip-path=\"url(#clip770)\" style=\"stroke:#000000; stroke-linecap:round; stroke-linejoin:round; stroke-width:4; stroke-opacity:1; fill:none\" points=\"542.205,1486.45 542.205,47.2441 \"/>\n",
       "<polyline clip-path=\"url(#clip770)\" style=\"stroke:#000000; stroke-linecap:round; stroke-linejoin:round; stroke-width:4; stroke-opacity:1; fill:none\" points=\"542.205,1486.45 554.67,1486.45 \"/>\n",
       "<polyline clip-path=\"url(#clip770)\" style=\"stroke:#000000; stroke-linecap:round; stroke-linejoin:round; stroke-width:4; stroke-opacity:1; fill:none\" points=\"542.205,1130.21 554.67,1130.21 \"/>\n",
       "<polyline clip-path=\"url(#clip770)\" style=\"stroke:#000000; stroke-linecap:round; stroke-linejoin:round; stroke-width:4; stroke-opacity:1; fill:none\" points=\"542.205,773.971 554.67,773.971 \"/>\n",
       "<polyline clip-path=\"url(#clip770)\" style=\"stroke:#000000; stroke-linecap:round; stroke-linejoin:round; stroke-width:4; stroke-opacity:1; fill:none\" points=\"542.205,417.732 554.67,417.732 \"/>\n",
       "<polyline clip-path=\"url(#clip770)\" style=\"stroke:#000000; stroke-linecap:round; stroke-linejoin:round; stroke-width:4; stroke-opacity:1; fill:none\" points=\"542.205,61.4936 554.67,61.4936 \"/>\n",
       "<path clip-path=\"url(#clip770)\" d=\"M494.26 1472.25 Q490.649 1472.25 488.821 1475.81 Q487.015 1479.35 487.015 1486.48 Q487.015 1493.59 488.821 1497.15 Q490.649 1500.7 494.26 1500.7 Q497.895 1500.7 499.7 1497.15 Q501.529 1493.59 501.529 1486.48 Q501.529 1479.35 499.7 1475.81 Q497.895 1472.25 494.26 1472.25 M494.26 1468.54 Q500.071 1468.54 503.126 1473.15 Q506.205 1477.73 506.205 1486.48 Q506.205 1495.21 503.126 1499.82 Q500.071 1504.4 494.26 1504.4 Q488.45 1504.4 485.372 1499.82 Q482.316 1495.21 482.316 1486.48 Q482.316 1477.73 485.372 1473.15 Q488.45 1468.54 494.26 1468.54 Z\" fill=\"#000000\" fill-rule=\"nonzero\" fill-opacity=\"1\" /><path clip-path=\"url(#clip770)\" d=\"M454.145 1112.93 L472.501 1112.93 L472.501 1116.86 L458.427 1116.86 L458.427 1125.34 Q459.446 1124.99 460.464 1124.83 Q461.483 1124.64 462.501 1124.64 Q468.288 1124.64 471.668 1127.81 Q475.048 1130.98 475.048 1136.4 Q475.048 1141.98 471.575 1145.08 Q468.103 1148.16 461.784 1148.16 Q459.608 1148.16 457.339 1147.79 Q455.094 1147.42 452.687 1146.68 L452.687 1141.98 Q454.77 1143.11 456.992 1143.67 Q459.214 1144.23 461.691 1144.23 Q465.696 1144.23 468.034 1142.12 Q470.372 1140.01 470.372 1136.4 Q470.372 1132.79 468.034 1130.68 Q465.696 1128.58 461.691 1128.58 Q459.816 1128.58 457.941 1128.99 Q456.089 1129.41 454.145 1130.29 L454.145 1112.93 Z\" fill=\"#000000\" fill-rule=\"nonzero\" fill-opacity=\"1\" /><path clip-path=\"url(#clip770)\" d=\"M494.26 1116.01 Q490.649 1116.01 488.821 1119.57 Q487.015 1123.11 487.015 1130.24 Q487.015 1137.35 488.821 1140.92 Q490.649 1144.46 494.26 1144.46 Q497.895 1144.46 499.7 1140.92 Q501.529 1137.35 501.529 1130.24 Q501.529 1123.11 499.7 1119.57 Q497.895 1116.01 494.26 1116.01 M494.26 1112.3 Q500.071 1112.3 503.126 1116.91 Q506.205 1121.49 506.205 1130.24 Q506.205 1138.97 503.126 1143.58 Q500.071 1148.16 494.26 1148.16 Q488.45 1148.16 485.372 1143.58 Q482.316 1138.97 482.316 1130.24 Q482.316 1121.49 485.372 1116.91 Q488.45 1112.3 494.26 1112.3 Z\" fill=\"#000000\" fill-rule=\"nonzero\" fill-opacity=\"1\" /><path clip-path=\"url(#clip770)\" d=\"M424.747 787.316 L432.386 787.316 L432.386 760.95 L424.076 762.617 L424.076 758.357 L432.339 756.691 L437.015 756.691 L437.015 787.316 L444.654 787.316 L444.654 791.251 L424.747 791.251 L424.747 787.316 Z\" fill=\"#000000\" fill-rule=\"nonzero\" fill-opacity=\"1\" /><path clip-path=\"url(#clip770)\" d=\"M464.099 759.769 Q460.487 759.769 458.659 763.334 Q456.853 766.876 456.853 774.005 Q456.853 781.112 458.659 784.677 Q460.487 788.218 464.099 788.218 Q467.733 788.218 469.538 784.677 Q471.367 781.112 471.367 774.005 Q471.367 766.876 469.538 763.334 Q467.733 759.769 464.099 759.769 M464.099 756.066 Q469.909 756.066 472.964 760.672 Q476.043 765.256 476.043 774.005 Q476.043 782.732 472.964 787.339 Q469.909 791.922 464.099 791.922 Q458.288 791.922 455.21 787.339 Q452.154 782.732 452.154 774.005 Q452.154 765.256 455.21 760.672 Q458.288 756.066 464.099 756.066 Z\" fill=\"#000000\" fill-rule=\"nonzero\" fill-opacity=\"1\" /><path clip-path=\"url(#clip770)\" d=\"M494.26 759.769 Q490.649 759.769 488.821 763.334 Q487.015 766.876 487.015 774.005 Q487.015 781.112 488.821 784.677 Q490.649 788.218 494.26 788.218 Q497.895 788.218 499.7 784.677 Q501.529 781.112 501.529 774.005 Q501.529 766.876 499.7 763.334 Q497.895 759.769 494.26 759.769 M494.26 756.066 Q500.071 756.066 503.126 760.672 Q506.205 765.256 506.205 774.005 Q506.205 782.732 503.126 787.339 Q500.071 791.922 494.26 791.922 Q488.45 791.922 485.372 787.339 Q482.316 782.732 482.316 774.005 Q482.316 765.256 485.372 760.672 Q488.45 756.066 494.26 756.066 Z\" fill=\"#000000\" fill-rule=\"nonzero\" fill-opacity=\"1\" /><path clip-path=\"url(#clip770)\" d=\"M424.747 431.077 L432.386 431.077 L432.386 404.711 L424.076 406.378 L424.076 402.119 L432.339 400.452 L437.015 400.452 L437.015 431.077 L444.654 431.077 L444.654 435.012 L424.747 435.012 L424.747 431.077 Z\" fill=\"#000000\" fill-rule=\"nonzero\" fill-opacity=\"1\" /><path clip-path=\"url(#clip770)\" d=\"M454.145 400.452 L472.501 400.452 L472.501 404.387 L458.427 404.387 L458.427 412.86 Q459.446 412.512 460.464 412.35 Q461.483 412.165 462.501 412.165 Q468.288 412.165 471.668 415.336 Q475.048 418.508 475.048 423.924 Q475.048 429.503 471.575 432.605 Q468.103 435.683 461.784 435.683 Q459.608 435.683 457.339 435.313 Q455.094 434.943 452.687 434.202 L452.687 429.503 Q454.77 430.637 456.992 431.193 Q459.214 431.748 461.691 431.748 Q465.696 431.748 468.034 429.642 Q470.372 427.535 470.372 423.924 Q470.372 420.313 468.034 418.207 Q465.696 416.1 461.691 416.1 Q459.816 416.1 457.941 416.517 Q456.089 416.934 454.145 417.813 L454.145 400.452 Z\" fill=\"#000000\" fill-rule=\"nonzero\" fill-opacity=\"1\" /><path clip-path=\"url(#clip770)\" d=\"M494.26 403.531 Q490.649 403.531 488.821 407.096 Q487.015 410.637 487.015 417.767 Q487.015 424.873 488.821 428.438 Q490.649 431.98 494.26 431.98 Q497.895 431.98 499.7 428.438 Q501.529 424.873 501.529 417.767 Q501.529 410.637 499.7 407.096 Q497.895 403.531 494.26 403.531 M494.26 399.827 Q500.071 399.827 503.126 404.434 Q506.205 409.017 506.205 417.767 Q506.205 426.494 503.126 431.1 Q500.071 435.683 494.26 435.683 Q488.45 435.683 485.372 431.1 Q482.316 426.494 482.316 417.767 Q482.316 409.017 485.372 404.434 Q488.45 399.827 494.26 399.827 Z\" fill=\"#000000\" fill-rule=\"nonzero\" fill-opacity=\"1\" /><path clip-path=\"url(#clip770)\" d=\"M427.964 74.8385 L444.284 74.8385 L444.284 78.7736 L422.339 78.7736 L422.339 74.8385 Q425.002 72.0839 429.585 67.4543 Q434.191 62.8015 435.372 61.4589 Q437.617 58.9358 438.497 57.1997 Q439.4 55.4404 439.4 53.7506 Q439.4 50.996 437.455 49.2599 Q435.534 47.5238 432.432 47.5238 Q430.233 47.5238 427.779 48.2877 Q425.349 49.0516 422.571 50.6025 L422.571 45.8803 Q425.395 44.746 427.849 44.1673 Q430.302 43.5886 432.339 43.5886 Q437.71 43.5886 440.904 46.2738 Q444.099 48.959 444.099 53.4497 Q444.099 55.5793 443.288 57.5006 Q442.501 59.3987 440.395 61.9913 Q439.816 62.6626 436.714 65.8802 Q433.613 69.0746 427.964 74.8385 Z\" fill=\"#000000\" fill-rule=\"nonzero\" fill-opacity=\"1\" /><path clip-path=\"url(#clip770)\" d=\"M464.099 47.2923 Q460.487 47.2923 458.659 50.8571 Q456.853 54.3988 456.853 61.5284 Q456.853 68.6348 458.659 72.1996 Q460.487 75.7412 464.099 75.7412 Q467.733 75.7412 469.538 72.1996 Q471.367 68.6348 471.367 61.5284 Q471.367 54.3988 469.538 50.8571 Q467.733 47.2923 464.099 47.2923 M464.099 43.5886 Q469.909 43.5886 472.964 48.1951 Q476.043 52.7784 476.043 61.5284 Q476.043 70.2552 472.964 74.8616 Q469.909 79.4449 464.099 79.4449 Q458.288 79.4449 455.21 74.8616 Q452.154 70.2552 452.154 61.5284 Q452.154 52.7784 455.21 48.1951 Q458.288 43.5886 464.099 43.5886 Z\" fill=\"#000000\" fill-rule=\"nonzero\" fill-opacity=\"1\" /><path clip-path=\"url(#clip770)\" d=\"M494.26 47.2923 Q490.649 47.2923 488.821 50.8571 Q487.015 54.3988 487.015 61.5284 Q487.015 68.6348 488.821 72.1996 Q490.649 75.7412 494.26 75.7412 Q497.895 75.7412 499.7 72.1996 Q501.529 68.6348 501.529 61.5284 Q501.529 54.3988 499.7 50.8571 Q497.895 47.2923 494.26 47.2923 M494.26 43.5886 Q500.071 43.5886 503.126 48.1951 Q506.205 52.7784 506.205 61.5284 Q506.205 70.2552 503.126 74.8616 Q500.071 79.4449 494.26 79.4449 Q488.45 79.4449 485.372 74.8616 Q482.316 70.2552 482.316 61.5284 Q482.316 52.7784 485.372 48.1951 Q488.45 43.5886 494.26 43.5886 Z\" fill=\"#000000\" fill-rule=\"nonzero\" fill-opacity=\"1\" /><polyline clip-path=\"url(#clip772)\" style=\"stroke:#009af9; stroke-linecap:round; stroke-linejoin:round; stroke-width:4; stroke-opacity:1; fill:none\" points=\"549.33,1479.32 556.454,1479.32 563.579,1479.32 570.704,1479.32 577.829,1479.32 584.953,1479.32 592.078,1479.32 599.203,1479.32 606.328,1472.2 606.328,1465.07 606.328,1457.95 606.328,1450.82 606.328,1443.7 606.328,1436.57 606.328,1429.45 606.328,1422.32 606.328,1415.2 606.328,1408.08 606.328,1400.95 606.328,1393.83 606.328,1386.7 606.328,1379.58 606.328,1372.45 606.328,1365.33 606.328,1358.2 606.328,1351.08 606.328,1343.95 606.328,1336.83 606.328,1329.7 606.328,1322.58 606.328,1315.45 606.328,1308.33 606.328,1301.2 606.328,1294.08 606.328,1286.95 606.328,1279.83 606.328,1272.7 606.328,1265.58 613.452,1258.46 620.577,1251.33 627.702,1251.33 634.827,1244.21 641.952,1237.08 649.076,1229.96 656.201,1222.83 663.326,1215.71 663.326,1208.58 670.451,1201.46 670.451,1194.33 677.575,1187.21 684.7,1180.08 691.825,1172.96 698.95,1172.96 706.075,1172.96 713.199,1172.96 720.324,1172.96 727.449,1172.96 734.574,1172.96 741.698,1172.96 748.823,1172.96 755.948,1172.96 763.073,1172.96 770.197,1172.96 777.322,1172.96 784.447,1172.96 791.572,1172.96 798.697,1172.96 805.821,1172.96 812.946,1172.96 820.071,1172.96 827.196,1172.96 834.32,1172.96 841.445,1165.83 848.57,1158.71 848.57,1151.58 848.57,1144.46 855.695,1137.33 862.819,1130.21 862.819,1123.08 862.819,1115.96 869.944,1108.84 877.069,1101.71 884.194,1101.71 891.319,1094.59 898.443,1087.46 905.568,1080.34 912.693,1073.21 919.818,1066.09 919.818,1058.96 919.818,1051.84 919.818,1044.71 926.942,1037.59 934.067,1030.46 934.067,1023.34 941.192,1016.21 941.192,1009.09 941.192,1001.96 941.192,994.839 941.192,987.714 941.192,980.589 941.192,973.464 948.317,966.34 955.442,966.34 962.566,966.34 969.691,966.34 976.816,966.34 983.941,959.215 983.941,952.09 983.941,944.965 983.941,937.84 983.941,930.716 983.941,923.591 983.941,916.466 983.941,909.341 983.941,902.217 983.941,895.092 983.941,887.967 991.065,880.842 998.19,873.718 1005.31,866.593 1012.44,866.593 1019.56,866.593 1026.69,866.593 1033.81,859.468 1040.94,852.343 1048.06,845.218 1055.19,845.218 1062.31,845.218 1069.44,845.218 1076.56,845.218 1083.69,845.218 1090.81,845.218 1097.94,845.218 1105.06,845.218 1112.19,845.218 1119.31,845.218 1126.44,845.218 1133.56,845.218 1140.69,838.094 1147.81,830.969 1154.94,823.844 1162.06,823.844 1169.18,816.719 1176.31,816.719 1183.43,816.719 1190.56,809.595 1197.68,809.595 1204.81,802.47 1211.93,802.47 1219.06,795.345 1226.18,795.345 1233.31,788.22 1240.43,781.096 1247.56,773.971 1254.68,766.846 1261.81,759.721 1268.93,752.596 1276.06,745.472 1283.18,738.347 1290.31,731.222 1297.43,724.097 1304.56,716.973 1311.68,716.973 1318.8,709.848 1325.93,702.723 1325.93,695.598 1325.93,688.474 1325.93,681.349 1333.05,674.224 1340.18,674.224 1347.3,667.099 1354.43,659.974 1361.55,652.85 1368.68,645.725 1375.8,638.6 1382.93,638.6 1390.05,631.475 1397.18,624.351 1404.3,617.226 1411.43,610.101 1411.43,602.976 1418.55,595.851 1425.68,588.727 1425.68,581.602 1425.68,574.477 1432.8,567.352 1439.93,567.352 1447.05,567.352 1454.18,567.352 1461.3,567.352 1468.43,567.352 1475.55,560.228 1482.67,553.103 1489.8,545.978 1496.92,538.853 1496.92,531.729 1496.92,524.604 1504.05,517.479 1511.17,517.479 1518.3,510.354 1525.42,503.229 1532.55,496.105 1539.67,496.105 1546.8,496.105 1553.92,496.105 1561.05,488.98 1568.17,481.855 1568.17,474.73 1568.17,467.606 1568.17,460.481 1568.17,453.356 1568.17,446.231 1575.3,439.107 1582.42,431.982 1589.55,424.857 1596.67,424.857 1603.8,417.732 1603.8,410.607 1603.8,403.483 1603.8,396.358 1610.92,389.233 1618.05,389.233 1625.17,389.233 1632.29,382.108 1639.42,374.984 1646.54,367.859 1646.54,360.734 1653.67,353.609 1660.79,346.484 1667.92,346.484 1675.04,339.36 1682.17,332.235 1689.29,325.11 1696.42,317.985 1703.54,317.985 1710.67,310.861 1717.79,303.736 1724.92,296.611 1724.92,289.486 1732.04,282.362 1739.17,275.237 1746.29,275.237 1753.42,268.112 1760.54,260.987 1760.54,253.862 1760.54,246.738 1767.67,239.613 1774.79,232.488 1781.91,232.488 1789.04,225.363 1796.16,218.239 1803.29,211.114 1810.41,203.989 1817.54,196.864 1824.66,189.74 1831.79,182.615 1838.91,175.49 1846.04,168.365 1853.16,161.24 1860.29,154.116 1867.41,146.991 1874.54,139.866 1881.66,132.741 1888.79,125.617 1895.91,125.617 1903.04,125.617 1910.16,125.617 1917.29,125.617 1924.41,125.617 1931.54,125.617 1938.66,118.492 1945.78,111.367 1945.78,104.242 1945.78,97.1175 1945.78,89.9927 1952.91,82.868 1960.03,75.7432 1967.16,68.6184 1967.16,61.4936 1974.28,54.3689 \"/>\n",
       "<polyline clip-path=\"url(#clip772)\" style=\"stroke:#e26f46; stroke-linecap:round; stroke-linejoin:round; stroke-width:4; stroke-opacity:1; fill:none\" points=\"549.33,1479.32 549.33,1472.2 549.33,1465.07 549.33,1457.95 549.33,1450.82 549.33,1443.7 549.33,1436.57 549.33,1429.45 549.33,1422.32 549.33,1415.2 549.33,1408.08 549.33,1400.95 549.33,1393.83 549.33,1386.7 549.33,1379.58 549.33,1372.45 549.33,1365.33 549.33,1358.2 549.33,1351.08 549.33,1343.95 549.33,1336.83 549.33,1329.7 549.33,1322.58 549.33,1315.45 549.33,1308.33 549.33,1301.2 549.33,1294.08 549.33,1286.95 549.33,1279.83 549.33,1272.7 549.33,1265.58 549.33,1258.46 556.454,1258.46 563.579,1258.46 570.704,1258.46 577.829,1258.46 584.953,1258.46 592.078,1258.46 599.203,1258.46 606.328,1258.46 613.452,1258.46 620.577,1251.33 627.702,1251.33 634.827,1244.21 641.952,1237.08 649.076,1229.96 656.201,1222.83 663.326,1215.71 663.326,1208.58 670.451,1201.46 670.451,1194.33 677.575,1187.21 684.7,1180.08 691.825,1172.96 698.95,1172.96 706.075,1172.96 713.199,1172.96 720.324,1172.96 727.449,1172.96 734.574,1172.96 741.698,1172.96 748.823,1172.96 755.948,1172.96 763.073,1172.96 770.197,1172.96 777.322,1172.96 784.447,1172.96 791.572,1172.96 798.697,1172.96 805.821,1172.96 812.946,1172.96 820.071,1172.96 827.196,1172.96 834.32,1172.96 841.445,1165.83 848.57,1158.71 848.57,1151.58 848.57,1144.46 855.695,1137.33 862.819,1130.21 862.819,1123.08 862.819,1115.96 869.944,1108.84 877.069,1101.71 884.194,1101.71 891.319,1094.59 898.443,1087.46 905.568,1080.34 912.693,1073.21 919.818,1066.09 919.818,1058.96 919.818,1051.84 919.818,1044.71 926.942,1037.59 934.067,1030.46 934.067,1023.34 941.192,1016.21 941.192,1009.09 941.192,1001.96 941.192,994.839 941.192,987.714 941.192,980.589 941.192,973.464 948.317,966.34 955.442,966.34 962.566,966.34 969.691,966.34 976.816,966.34 983.941,959.215 983.941,952.09 983.941,944.965 983.941,937.84 983.941,930.716 983.941,923.591 983.941,916.466 983.941,909.341 983.941,902.217 983.941,895.092 983.941,887.967 991.065,880.842 998.19,873.718 1005.31,866.593 1012.44,866.593 1019.56,866.593 1026.69,866.593 1033.81,859.468 1040.94,852.343 1048.06,845.218 1055.19,845.218 1062.31,845.218 1069.44,845.218 1076.56,845.218 1083.69,845.218 1090.81,845.218 1097.94,845.218 1105.06,845.218 1112.19,845.218 1119.31,845.218 1126.44,845.218 1133.56,845.218 1140.69,838.094 1147.81,830.969 1154.94,823.844 1162.06,823.844 1169.18,816.719 1176.31,816.719 1183.43,816.719 1190.56,809.595 1197.68,809.595 1204.81,802.47 1211.93,802.47 1219.06,795.345 1226.18,795.345 1233.31,788.22 1240.43,781.096 1247.56,773.971 1254.68,766.846 1261.81,759.721 1268.93,752.596 1276.06,745.472 1283.18,738.347 1290.31,731.222 1297.43,724.097 1304.56,716.973 1311.68,716.973 1318.8,709.848 1325.93,702.723 1325.93,695.598 1325.93,688.474 1325.93,681.349 1333.05,674.224 1340.18,674.224 1347.3,667.099 1354.43,659.974 1361.55,652.85 1368.68,645.725 1375.8,638.6 1382.93,638.6 1390.05,631.475 1397.18,624.351 1404.3,617.226 1411.43,610.101 1411.43,602.976 1418.55,595.851 1425.68,588.727 1425.68,581.602 1425.68,574.477 1432.8,567.352 1439.93,567.352 1447.05,567.352 1454.18,567.352 1461.3,567.352 1468.43,567.352 1475.55,560.228 1482.67,553.103 1489.8,545.978 1496.92,538.853 1496.92,531.729 1496.92,524.604 1504.05,517.479 1511.17,517.479 1518.3,510.354 1525.42,503.229 1532.55,496.105 1539.67,496.105 1546.8,496.105 1553.92,496.105 1561.05,488.98 1568.17,481.855 1568.17,474.73 1568.17,467.606 1568.17,460.481 1568.17,453.356 1568.17,446.231 1575.3,439.107 1582.42,431.982 1589.55,424.857 1596.67,424.857 1603.8,417.732 1603.8,410.607 1603.8,403.483 1603.8,396.358 1610.92,389.233 1618.05,389.233 1625.17,389.233 1632.29,382.108 1639.42,374.984 1646.54,367.859 1646.54,360.734 1653.67,353.609 1660.79,346.484 1667.92,346.484 1675.04,339.36 1682.17,332.235 1689.29,325.11 1696.42,317.985 1703.54,317.985 1710.67,310.861 1717.79,303.736 1724.92,296.611 1724.92,289.486 1732.04,282.362 1739.17,275.237 1746.29,275.237 1753.42,268.112 1760.54,260.987 1760.54,253.862 1760.54,246.738 1767.67,239.613 1774.79,232.488 1781.91,232.488 1789.04,225.363 1796.16,218.239 1803.29,211.114 1810.41,203.989 1817.54,196.864 1824.66,189.74 1831.79,182.615 1838.91,175.49 1846.04,168.365 1853.16,161.24 1860.29,154.116 1867.41,146.991 1874.54,139.866 1881.66,132.741 1888.79,125.617 1895.91,125.617 1903.04,125.617 1910.16,125.617 1917.29,125.617 1924.41,125.617 1931.54,125.617 1938.66,118.492 1945.78,111.367 1945.78,104.242 1945.78,97.1175 1945.78,89.9927 1952.91,82.868 1960.03,75.7432 1967.16,68.6184 1967.16,61.4936 1974.28,54.3689 \"/>\n",
       "<path clip-path=\"url(#clip770)\" d=\"M614.935 250.738 L1064.98 250.738 L1064.98 95.2176 L614.935 95.2176  Z\" fill=\"#ffffff\" fill-rule=\"evenodd\" fill-opacity=\"1\"/>\n",
       "<polyline clip-path=\"url(#clip770)\" style=\"stroke:#000000; stroke-linecap:round; stroke-linejoin:round; stroke-width:4; stroke-opacity:1; fill:none\" points=\"614.935,250.738 1064.98,250.738 1064.98,95.2176 614.935,95.2176 614.935,250.738 \"/>\n",
       "<polyline clip-path=\"url(#clip770)\" style=\"stroke:#009af9; stroke-linecap:round; stroke-linejoin:round; stroke-width:4; stroke-opacity:1; fill:none\" points=\"639.178,147.058 784.638,147.058 \"/>\n",
       "<path clip-path=\"url(#clip770)\" d=\"M827.793 142.347 L827.793 128.319 L832.052 128.319 L832.052 164.338 L827.793 164.338 L827.793 160.449 Q826.451 162.763 824.39 163.898 Q822.353 165.009 819.483 165.009 Q814.784 165.009 811.821 161.259 Q808.881 157.509 808.881 151.398 Q808.881 145.287 811.821 141.537 Q814.784 137.787 819.483 137.787 Q822.353 137.787 824.39 138.921 Q826.451 140.032 827.793 142.347 M813.279 151.398 Q813.279 156.097 815.201 158.782 Q817.145 161.444 820.525 161.444 Q823.904 161.444 825.849 158.782 Q827.793 156.097 827.793 151.398 Q827.793 146.699 825.849 144.037 Q823.904 141.352 820.525 141.352 Q817.145 141.352 815.201 144.037 Q813.279 146.699 813.279 151.398 Z\" fill=\"#000000\" fill-rule=\"nonzero\" fill-opacity=\"1\" /><path clip-path=\"url(#clip770)\" d=\"M845.038 131.051 L845.038 138.412 L853.812 138.412 L853.812 141.722 L845.038 141.722 L845.038 155.796 Q845.038 158.967 845.895 159.87 Q846.775 160.773 849.437 160.773 L853.812 160.773 L853.812 164.338 L849.437 164.338 Q844.506 164.338 842.631 162.509 Q840.756 160.657 840.756 155.796 L840.756 141.722 L837.631 141.722 L837.631 138.412 L840.756 138.412 L840.756 131.051 L845.038 131.051 Z\" fill=\"#000000\" fill-rule=\"nonzero\" fill-opacity=\"1\" /><path clip-path=\"url(#clip770)\" d=\"M856.937 138.412 L861.196 138.412 L866.52 158.643 L871.821 138.412 L876.844 138.412 L882.168 158.643 L887.469 138.412 L891.728 138.412 L884.946 164.338 L879.923 164.338 L874.344 143.088 L868.742 164.338 L863.719 164.338 L856.937 138.412 Z\" fill=\"#000000\" fill-rule=\"nonzero\" fill-opacity=\"1\" /><path clip-path=\"url(#clip770)\" d=\"M934.807 148.689 L934.807 164.338 L930.547 164.338 L930.547 148.828 Q930.547 145.148 929.112 143.319 Q927.677 141.49 924.807 141.49 Q921.358 141.49 919.367 143.69 Q917.376 145.889 917.376 149.685 L917.376 164.338 L913.094 164.338 L913.094 138.412 L917.376 138.412 L917.376 142.44 Q918.904 140.102 920.964 138.944 Q923.047 137.787 925.756 137.787 Q930.223 137.787 932.515 140.565 Q934.807 143.319 934.807 148.689 Z\" fill=\"#000000\" fill-rule=\"nonzero\" fill-opacity=\"1\" /><path clip-path=\"url(#clip770)\" d=\"M955.084 151.305 Q949.922 151.305 947.931 152.486 Q945.941 153.666 945.941 156.514 Q945.941 158.782 947.422 160.125 Q948.927 161.444 951.496 161.444 Q955.038 161.444 957.167 158.944 Q959.32 156.421 959.32 152.254 L959.32 151.305 L955.084 151.305 M963.579 149.546 L963.579 164.338 L959.32 164.338 L959.32 160.402 Q957.862 162.763 955.686 163.898 Q953.51 165.009 950.362 165.009 Q946.381 165.009 944.019 162.787 Q941.681 160.541 941.681 156.791 Q941.681 152.416 944.598 150.194 Q947.538 147.972 953.348 147.972 L959.32 147.972 L959.32 147.555 Q959.32 144.615 957.376 143.018 Q955.455 141.398 951.959 141.398 Q949.737 141.398 947.631 141.93 Q945.524 142.463 943.58 143.527 L943.58 139.592 Q945.918 138.69 948.117 138.25 Q950.316 137.787 952.399 137.787 Q958.024 137.787 960.802 140.703 Q963.579 143.62 963.579 149.546 Z\" fill=\"#000000\" fill-rule=\"nonzero\" fill-opacity=\"1\" /><path clip-path=\"url(#clip770)\" d=\"M972.353 138.412 L976.612 138.412 L976.612 164.338 L972.353 164.338 L972.353 138.412 M972.353 128.319 L976.612 128.319 L976.612 133.713 L972.353 133.713 L972.353 128.319 Z\" fill=\"#000000\" fill-rule=\"nonzero\" fill-opacity=\"1\" /><path clip-path=\"url(#clip770)\" d=\"M982.468 138.412 L986.982 138.412 L995.084 160.171 L1003.19 138.412 L1007.7 138.412 L997.977 164.338 L992.19 164.338 L982.468 138.412 Z\" fill=\"#000000\" fill-rule=\"nonzero\" fill-opacity=\"1\" /><path clip-path=\"url(#clip770)\" d=\"M1035.76 150.31 L1035.76 152.393 L1016.17 152.393 Q1016.45 156.791 1018.81 159.106 Q1021.19 161.398 1025.43 161.398 Q1027.88 161.398 1030.18 160.796 Q1032.49 160.194 1034.76 158.99 L1034.76 163.018 Q1032.47 163.99 1030.06 164.5 Q1027.65 165.009 1025.18 165.009 Q1018.97 165.009 1015.34 161.398 Q1011.73 157.787 1011.73 151.629 Q1011.73 145.264 1015.15 141.537 Q1018.6 137.787 1024.44 137.787 Q1029.67 137.787 1032.7 141.166 Q1035.76 144.523 1035.76 150.31 M1031.5 149.06 Q1031.45 145.565 1029.53 143.481 Q1027.63 141.398 1024.48 141.398 Q1020.92 141.398 1018.76 143.412 Q1016.63 145.426 1016.31 149.083 L1031.5 149.06 Z\" fill=\"#000000\" fill-rule=\"nonzero\" fill-opacity=\"1\" /><polyline clip-path=\"url(#clip770)\" style=\"stroke:#e26f46; stroke-linecap:round; stroke-linejoin:round; stroke-width:4; stroke-opacity:1; fill:none\" points=\"639.178,198.898 784.638,198.898 \"/>\n",
       "<path clip-path=\"url(#clip770)\" d=\"M827.793 194.187 L827.793 180.159 L832.052 180.159 L832.052 216.178 L827.793 216.178 L827.793 212.289 Q826.451 214.603 824.39 215.738 Q822.353 216.849 819.483 216.849 Q814.784 216.849 811.821 213.099 Q808.881 209.349 808.881 203.238 Q808.881 197.127 811.821 193.377 Q814.784 189.627 819.483 189.627 Q822.353 189.627 824.39 190.761 Q826.451 191.872 827.793 194.187 M813.279 203.238 Q813.279 207.937 815.201 210.622 Q817.145 213.284 820.525 213.284 Q823.904 213.284 825.849 210.622 Q827.793 207.937 827.793 203.238 Q827.793 198.539 825.849 195.877 Q823.904 193.192 820.525 193.192 Q817.145 193.192 815.201 195.877 Q813.279 198.539 813.279 203.238 Z\" fill=\"#000000\" fill-rule=\"nonzero\" fill-opacity=\"1\" /><path clip-path=\"url(#clip770)\" d=\"M845.038 182.891 L845.038 190.252 L853.812 190.252 L853.812 193.562 L845.038 193.562 L845.038 207.636 Q845.038 210.807 845.895 211.71 Q846.775 212.613 849.437 212.613 L853.812 212.613 L853.812 216.178 L849.437 216.178 Q844.506 216.178 842.631 214.349 Q840.756 212.497 840.756 207.636 L840.756 193.562 L837.631 193.562 L837.631 190.252 L840.756 190.252 L840.756 182.891 L845.038 182.891 Z\" fill=\"#000000\" fill-rule=\"nonzero\" fill-opacity=\"1\" /><path clip-path=\"url(#clip770)\" d=\"M856.937 190.252 L861.196 190.252 L866.52 210.483 L871.821 190.252 L876.844 190.252 L882.168 210.483 L887.469 190.252 L891.728 190.252 L884.946 216.178 L879.923 216.178 L874.344 194.928 L868.742 216.178 L863.719 216.178 L856.937 190.252 Z\" fill=\"#000000\" fill-rule=\"nonzero\" fill-opacity=\"1\" /><path clip-path=\"url(#clip770)\" d=\"M925.038 203.145 Q919.876 203.145 917.885 204.326 Q915.895 205.506 915.895 208.354 Q915.895 210.622 917.376 211.965 Q918.881 213.284 921.45 213.284 Q924.992 213.284 927.121 210.784 Q929.274 208.261 929.274 204.094 L929.274 203.145 L925.038 203.145 M933.533 201.386 L933.533 216.178 L929.274 216.178 L929.274 212.242 Q927.816 214.603 925.64 215.738 Q923.464 216.849 920.316 216.849 Q916.334 216.849 913.973 214.627 Q911.635 212.381 911.635 208.631 Q911.635 204.256 914.552 202.034 Q917.492 199.812 923.302 199.812 L929.274 199.812 L929.274 199.395 Q929.274 196.455 927.33 194.858 Q925.408 193.238 921.913 193.238 Q919.691 193.238 917.584 193.77 Q915.478 194.303 913.533 195.367 L913.533 191.432 Q915.871 190.53 918.07 190.09 Q920.27 189.627 922.353 189.627 Q927.978 189.627 930.756 192.543 Q933.533 195.46 933.533 201.386 Z\" fill=\"#000000\" fill-rule=\"nonzero\" fill-opacity=\"1\" /><path clip-path=\"url(#clip770)\" d=\"M957.33 194.233 Q956.612 193.817 955.755 193.631 Q954.922 193.423 953.904 193.423 Q950.293 193.423 948.348 195.784 Q946.427 198.122 946.427 202.52 L946.427 216.178 L942.144 216.178 L942.144 190.252 L946.427 190.252 L946.427 194.28 Q947.769 191.918 949.922 190.784 Q952.075 189.627 955.154 189.627 Q955.593 189.627 956.126 189.696 Q956.658 189.743 957.306 189.858 L957.33 194.233 Z\" fill=\"#000000\" fill-rule=\"nonzero\" fill-opacity=\"1\" /><path clip-path=\"url(#clip770)\" d=\"M975.987 194.233 Q975.269 193.817 974.413 193.631 Q973.579 193.423 972.561 193.423 Q968.95 193.423 967.005 195.784 Q965.084 198.122 965.084 202.52 L965.084 216.178 L960.802 216.178 L960.802 190.252 L965.084 190.252 L965.084 194.28 Q966.427 191.918 968.579 190.784 Q970.732 189.627 973.811 189.627 Q974.251 189.627 974.783 189.696 Q975.316 189.743 975.964 189.858 L975.987 194.233 Z\" fill=\"#000000\" fill-rule=\"nonzero\" fill-opacity=\"1\" /><path clip-path=\"url(#clip770)\" d=\"M989.459 193.238 Q986.033 193.238 984.042 195.923 Q982.052 198.585 982.052 203.238 Q982.052 207.891 984.019 210.576 Q986.01 213.238 989.459 213.238 Q992.862 213.238 994.852 210.553 Q996.843 207.867 996.843 203.238 Q996.843 198.631 994.852 195.946 Q992.862 193.238 989.459 193.238 M989.459 189.627 Q995.015 189.627 998.186 193.238 Q1001.36 196.849 1001.36 203.238 Q1001.36 209.604 998.186 213.238 Q995.015 216.849 989.459 216.849 Q983.88 216.849 980.709 213.238 Q977.561 209.604 977.561 203.238 Q977.561 196.849 980.709 193.238 Q983.88 189.627 989.459 189.627 Z\" fill=\"#000000\" fill-rule=\"nonzero\" fill-opacity=\"1\" /><path clip-path=\"url(#clip770)\" d=\"M1005.94 190.252 L1010.2 190.252 L1015.52 210.483 L1020.82 190.252 L1025.85 190.252 L1031.17 210.483 L1036.47 190.252 L1040.73 190.252 L1033.95 216.178 L1028.93 216.178 L1023.35 194.928 L1017.75 216.178 L1012.72 216.178 L1005.94 190.252 Z\" fill=\"#000000\" fill-rule=\"nonzero\" fill-opacity=\"1\" /><path clip-path=\"url(#clip770)\" d=\"M1610.92 678.931 L1615.6 678.931 L1615.6 713.491 L1610.92 713.491 L1610.92 678.931 Z\" fill=\"#000000\" fill-rule=\"nonzero\" fill-opacity=\"1\" /><path clip-path=\"url(#clip770)\" d=\"M1629.58 682.773 L1629.58 709.648 L1635.23 709.648 Q1642.38 709.648 1645.69 706.407 Q1649.02 703.167 1649.02 696.176 Q1649.02 689.232 1645.69 686.014 Q1642.38 682.773 1635.23 682.773 L1629.58 682.773 M1624.9 678.931 L1634.51 678.931 Q1644.55 678.931 1649.25 683.121 Q1653.95 687.287 1653.95 696.176 Q1653.95 705.111 1649.23 709.301 Q1644.51 713.491 1634.51 713.491 L1624.9 713.491 L1624.9 678.931 Z\" fill=\"#000000\" fill-rule=\"nonzero\" fill-opacity=\"1\" /><path clip-path=\"url(#clip770)\" d=\"M1752.73 707.611 L1757.61 707.611 L1757.61 713.491 L1752.73 713.491 L1752.73 707.611 M1752.73 688.977 L1757.61 688.977 L1757.61 694.857 L1752.73 694.857 L1752.73 688.977 Z\" fill=\"#000000\" fill-rule=\"nonzero\" fill-opacity=\"1\" /><path clip-path=\"url(#clip770)\" d=\"M1784.09 709.556 L1791.73 709.556 L1791.73 683.19 L1783.42 684.857 L1783.42 680.597 L1791.68 678.931 L1796.36 678.931 L1796.36 709.556 L1804 709.556 L1804 713.491 L1784.09 713.491 L1784.09 709.556 Z\" fill=\"#000000\" fill-rule=\"nonzero\" fill-opacity=\"1\" /><path clip-path=\"url(#clip770)\" d=\"M1823.44 682.009 Q1819.83 682.009 1818 685.574 Q1816.2 689.116 1816.2 696.245 Q1816.2 703.352 1818 706.917 Q1819.83 710.458 1823.44 710.458 Q1827.08 710.458 1828.88 706.917 Q1830.71 703.352 1830.71 696.245 Q1830.71 689.116 1828.88 685.574 Q1827.08 682.009 1823.44 682.009 M1823.44 678.306 Q1829.25 678.306 1832.31 682.912 Q1835.39 687.496 1835.39 696.245 Q1835.39 704.972 1832.31 709.579 Q1829.25 714.162 1823.44 714.162 Q1817.63 714.162 1814.55 709.579 Q1811.5 704.972 1811.5 696.245 Q1811.5 687.496 1814.55 682.912 Q1817.63 678.306 1823.44 678.306 Z\" fill=\"#000000\" fill-rule=\"nonzero\" fill-opacity=\"1\" /><path clip-path=\"url(#clip770)\" d=\"M1844.41 709.556 L1852.05 709.556 L1852.05 683.19 L1843.74 684.857 L1843.74 680.597 L1852.01 678.931 L1856.68 678.931 L1856.68 709.556 L1864.32 709.556 L1864.32 713.491 L1844.41 713.491 L1844.41 709.556 Z\" fill=\"#000000\" fill-rule=\"nonzero\" fill-opacity=\"1\" /><path clip-path=\"url(#clip770)\" d=\"M1610.92 730.771 L1617.22 730.771 L1632.54 759.683 L1632.54 730.771 L1637.08 730.771 L1637.08 765.331 L1630.78 765.331 L1615.46 736.419 L1615.46 765.331 L1610.92 765.331 L1610.92 730.771 Z\" fill=\"#000000\" fill-rule=\"nonzero\" fill-opacity=\"1\" /><path clip-path=\"url(#clip770)\" d=\"M1657.98 752.298 Q1652.82 752.298 1650.83 753.479 Q1648.84 754.66 1648.84 757.507 Q1648.84 759.775 1650.32 761.118 Q1651.82 762.437 1654.39 762.437 Q1657.93 762.437 1660.06 759.937 Q1662.22 757.414 1662.22 753.247 L1662.22 752.298 L1657.98 752.298 M1666.48 750.539 L1666.48 765.331 L1662.22 765.331 L1662.22 761.396 Q1660.76 763.757 1658.58 764.891 Q1656.41 766.002 1653.26 766.002 Q1649.28 766.002 1646.92 763.78 Q1644.58 761.534 1644.58 757.784 Q1644.58 753.41 1647.49 751.187 Q1650.43 748.965 1656.24 748.965 L1662.22 748.965 L1662.22 748.548 Q1662.22 745.609 1660.27 744.011 Q1658.35 742.391 1654.86 742.391 Q1652.63 742.391 1650.53 742.923 Q1648.42 743.456 1646.48 744.521 L1646.48 740.586 Q1648.81 739.683 1651.01 739.243 Q1653.21 738.78 1655.3 738.78 Q1660.92 738.78 1663.7 741.697 Q1666.48 744.613 1666.48 750.539 Z\" fill=\"#000000\" fill-rule=\"nonzero\" fill-opacity=\"1\" /><path clip-path=\"url(#clip770)\" d=\"M1695.43 744.382 Q1697.03 741.511 1699.25 740.146 Q1701.48 738.78 1704.48 738.78 Q1708.54 738.78 1710.73 741.627 Q1712.93 744.451 1712.93 749.683 L1712.93 765.331 L1708.65 765.331 L1708.65 749.822 Q1708.65 746.095 1707.33 744.289 Q1706.01 742.484 1703.3 742.484 Q1699.99 742.484 1698.07 744.683 Q1696.15 746.882 1696.15 750.678 L1696.15 765.331 L1691.87 765.331 L1691.87 749.822 Q1691.87 746.072 1690.55 744.289 Q1689.23 742.484 1686.48 742.484 Q1683.21 742.484 1681.29 744.706 Q1679.37 746.905 1679.37 750.678 L1679.37 765.331 L1675.09 765.331 L1675.09 739.405 L1679.37 739.405 L1679.37 743.433 Q1680.83 741.048 1682.86 739.914 Q1684.9 738.78 1687.7 738.78 Q1690.53 738.78 1692.49 740.215 Q1694.48 741.65 1695.43 744.382 Z\" fill=\"#000000\" fill-rule=\"nonzero\" fill-opacity=\"1\" /><path clip-path=\"url(#clip770)\" d=\"M1743.6 751.303 L1743.6 753.386 L1724.02 753.386 Q1724.3 757.784 1726.66 760.099 Q1729.04 762.391 1733.28 762.391 Q1735.73 762.391 1738.03 761.789 Q1740.34 761.187 1742.61 759.984 L1742.61 764.011 Q1740.32 764.984 1737.91 765.493 Q1735.5 766.002 1733.03 766.002 Q1726.82 766.002 1723.19 762.391 Q1719.58 758.78 1719.58 752.622 Q1719.58 746.257 1723 742.53 Q1726.45 738.78 1732.29 738.78 Q1737.52 738.78 1740.55 742.16 Q1743.6 745.516 1743.6 751.303 M1739.35 750.053 Q1739.3 746.558 1737.38 744.474 Q1735.48 742.391 1732.33 742.391 Q1728.77 742.391 1726.61 744.405 Q1724.48 746.419 1724.16 750.076 L1739.35 750.053 Z\" fill=\"#000000\" fill-rule=\"nonzero\" fill-opacity=\"1\" /><path clip-path=\"url(#clip770)\" d=\"M1766.75 759.451 L1771.64 759.451 L1771.64 765.331 L1766.75 765.331 L1766.75 759.451 M1766.75 740.817 L1771.64 740.817 L1771.64 746.697 L1766.75 746.697 L1766.75 740.817 Z\" fill=\"#000000\" fill-rule=\"nonzero\" fill-opacity=\"1\" /><path clip-path=\"url(#clip770)\" d=\"M1796.89 730.771 L1816.75 730.771 L1816.75 734.706 L1801.57 734.706 L1801.57 744.891 L1815.27 744.891 L1815.27 748.826 L1801.57 748.826 L1801.57 765.331 L1796.89 765.331 L1796.89 730.771 Z\" fill=\"#000000\" fill-rule=\"nonzero\" fill-opacity=\"1\" /><path clip-path=\"url(#clip770)\" d=\"M1820.94 755.099 L1820.94 739.405 L1825.2 739.405 L1825.2 754.937 Q1825.2 758.618 1826.64 760.47 Q1828.07 762.298 1830.94 762.298 Q1834.39 762.298 1836.38 760.099 Q1838.4 757.9 1838.4 754.104 L1838.4 739.405 L1842.66 739.405 L1842.66 765.331 L1838.4 765.331 L1838.4 761.349 Q1836.85 763.71 1834.78 764.868 Q1832.75 766.002 1830.04 766.002 Q1825.57 766.002 1823.26 763.224 Q1820.94 760.447 1820.94 755.099 M1831.66 738.78 L1831.66 738.78 Z\" fill=\"#000000\" fill-rule=\"nonzero\" fill-opacity=\"1\" /><path clip-path=\"url(#clip770)\" d=\"M1872.98 749.683 L1872.98 765.331 L1868.72 765.331 L1868.72 749.822 Q1868.72 746.141 1867.28 744.312 Q1865.85 742.484 1862.98 742.484 Q1859.53 742.484 1857.54 744.683 Q1855.55 746.882 1855.55 750.678 L1855.55 765.331 L1851.27 765.331 L1851.27 739.405 L1855.55 739.405 L1855.55 743.433 Q1857.08 741.095 1859.14 739.937 Q1861.22 738.78 1863.93 738.78 Q1868.4 738.78 1870.69 741.558 Q1872.98 744.312 1872.98 749.683 Z\" fill=\"#000000\" fill-rule=\"nonzero\" fill-opacity=\"1\" /><path clip-path=\"url(#clip770)\" d=\"M1898.53 752.067 Q1898.53 747.437 1896.61 744.891 Q1894.72 742.345 1891.27 742.345 Q1887.84 742.345 1885.92 744.891 Q1884.02 747.437 1884.02 752.067 Q1884.02 756.673 1885.92 759.22 Q1887.84 761.766 1891.27 761.766 Q1894.72 761.766 1896.61 759.22 Q1898.53 756.673 1898.53 752.067 M1902.79 762.113 Q1902.79 768.734 1899.85 771.951 Q1896.91 775.192 1890.85 775.192 Q1888.6 775.192 1886.61 774.845 Q1884.62 774.521 1882.75 773.826 L1882.75 769.683 Q1884.62 770.701 1886.45 771.187 Q1888.28 771.673 1890.18 771.673 Q1894.37 771.673 1896.45 769.474 Q1898.53 767.298 1898.53 762.877 L1898.53 760.771 Q1897.22 763.062 1895.16 764.197 Q1893.09 765.331 1890.22 765.331 Q1885.46 765.331 1882.54 761.697 Q1879.62 758.062 1879.62 752.067 Q1879.62 746.048 1882.54 742.414 Q1885.46 738.78 1890.22 738.78 Q1893.09 738.78 1895.16 739.914 Q1897.22 741.048 1898.53 743.34 L1898.53 739.405 L1902.79 739.405 L1902.79 762.113 Z\" fill=\"#000000\" fill-rule=\"nonzero\" fill-opacity=\"1\" /><path clip-path=\"url(#clip770)\" d=\"M1911.57 739.405 L1915.83 739.405 L1915.83 765.331 L1911.57 765.331 L1911.57 739.405 M1911.57 729.312 L1915.83 729.312 L1915.83 734.706 L1911.57 734.706 L1911.57 729.312 Z\" fill=\"#000000\" fill-rule=\"nonzero\" fill-opacity=\"1\" /><path clip-path=\"url(#clip770)\" d=\"M1610.92 782.611 L1640.16 782.611 L1640.16 786.546 L1627.89 786.546 L1627.89 817.171 L1623.19 817.171 L1623.19 786.546 L1610.92 786.546 L1610.92 782.611 Z\" fill=\"#000000\" fill-rule=\"nonzero\" fill-opacity=\"1\" /><path clip-path=\"url(#clip770)\" d=\"M1658.61 803.143 L1658.61 805.226 L1639.02 805.226 Q1639.3 809.624 1641.66 811.939 Q1644.05 814.231 1648.28 814.231 Q1650.74 814.231 1653.03 813.629 Q1655.34 813.027 1657.61 811.824 L1657.61 815.851 Q1655.32 816.824 1652.91 817.333 Q1650.5 817.842 1648.03 817.842 Q1641.82 817.842 1638.19 814.231 Q1634.58 810.62 1634.58 804.462 Q1634.58 798.097 1638 794.37 Q1641.45 790.62 1647.29 790.62 Q1652.52 790.62 1655.55 794 Q1658.61 797.356 1658.61 803.143 M1654.35 801.893 Q1654.3 798.398 1652.38 796.314 Q1650.48 794.231 1647.33 794.231 Q1643.77 794.231 1641.61 796.245 Q1639.49 798.259 1639.16 801.916 L1654.35 801.893 Z\" fill=\"#000000\" fill-rule=\"nonzero\" fill-opacity=\"1\" /><path clip-path=\"url(#clip770)\" d=\"M1682.12 792.009 L1682.12 796.037 Q1680.32 795.111 1678.37 794.648 Q1676.43 794.185 1674.35 794.185 Q1671.17 794.185 1669.58 795.157 Q1668 796.129 1668 798.074 Q1668 799.555 1669.14 800.412 Q1670.27 801.245 1673.7 802.009 L1675.16 802.333 Q1679.69 803.305 1681.59 805.087 Q1683.51 806.847 1683.51 810.018 Q1683.51 813.629 1680.64 815.736 Q1677.8 817.842 1672.8 817.842 Q1670.71 817.842 1668.44 817.425 Q1666.2 817.032 1663.7 816.222 L1663.7 811.824 Q1666.06 813.05 1668.35 813.675 Q1670.64 814.277 1672.89 814.277 Q1675.9 814.277 1677.52 813.259 Q1679.14 812.217 1679.14 810.342 Q1679.14 808.606 1677.96 807.68 Q1676.8 806.754 1672.84 805.898 L1671.36 805.55 Q1667.4 804.717 1665.64 803.004 Q1663.88 801.268 1663.88 798.259 Q1663.88 794.601 1666.48 792.611 Q1669.07 790.62 1673.84 790.62 Q1676.2 790.62 1678.28 790.967 Q1680.36 791.314 1682.12 792.009 Z\" fill=\"#000000\" fill-rule=\"nonzero\" fill-opacity=\"1\" /><path clip-path=\"url(#clip770)\" d=\"M1694.51 783.884 L1694.51 791.245 L1703.28 791.245 L1703.28 794.555 L1694.51 794.555 L1694.51 808.629 Q1694.51 811.8 1695.36 812.703 Q1696.24 813.606 1698.91 813.606 L1703.28 813.606 L1703.28 817.171 L1698.91 817.171 Q1693.98 817.171 1692.1 815.342 Q1690.23 813.49 1690.23 808.629 L1690.23 794.555 L1687.1 794.555 L1687.1 791.245 L1690.23 791.245 L1690.23 783.884 L1694.51 783.884 Z\" fill=\"#000000\" fill-rule=\"nonzero\" fill-opacity=\"1\" /><path clip-path=\"url(#clip770)\" d=\"M1740.48 792.009 L1740.48 796.037 Q1738.67 795.111 1736.73 794.648 Q1734.79 794.185 1732.7 794.185 Q1729.53 794.185 1727.93 795.157 Q1726.36 796.129 1726.36 798.074 Q1726.36 799.555 1727.49 800.412 Q1728.63 801.245 1732.05 802.009 L1733.51 802.333 Q1738.05 803.305 1739.95 805.087 Q1741.87 806.847 1741.87 810.018 Q1741.87 813.629 1739 815.736 Q1736.15 817.842 1731.15 817.842 Q1729.07 817.842 1726.8 817.425 Q1724.55 817.032 1722.05 816.222 L1722.05 811.824 Q1724.42 813.05 1726.71 813.675 Q1729 814.277 1731.24 814.277 Q1734.25 814.277 1735.87 813.259 Q1737.49 812.217 1737.49 810.342 Q1737.49 808.606 1736.31 807.68 Q1735.16 806.754 1731.2 805.898 L1729.72 805.55 Q1725.76 804.717 1724 803.004 Q1722.24 801.268 1722.24 798.259 Q1722.24 794.601 1724.83 792.611 Q1727.42 790.62 1732.19 790.62 Q1734.55 790.62 1736.64 790.967 Q1738.72 791.314 1740.48 792.009 Z\" fill=\"#000000\" fill-rule=\"nonzero\" fill-opacity=\"1\" /><path clip-path=\"url(#clip770)\" d=\"M1770.83 803.143 L1770.83 805.226 L1751.24 805.226 Q1751.52 809.624 1753.88 811.939 Q1756.27 814.231 1760.5 814.231 Q1762.96 814.231 1765.25 813.629 Q1767.56 813.027 1769.83 811.824 L1769.83 815.851 Q1767.54 816.824 1765.13 817.333 Q1762.73 817.842 1760.25 817.842 Q1754.04 817.842 1750.41 814.231 Q1746.8 810.62 1746.8 804.462 Q1746.8 798.097 1750.23 794.37 Q1753.67 790.62 1759.51 790.62 Q1764.74 790.62 1767.77 794 Q1770.83 797.356 1770.83 803.143 M1766.57 801.893 Q1766.52 798.398 1764.6 796.314 Q1762.7 794.231 1759.55 794.231 Q1755.99 794.231 1753.84 796.245 Q1751.71 798.259 1751.38 801.916 L1766.57 801.893 Z\" fill=\"#000000\" fill-rule=\"nonzero\" fill-opacity=\"1\" /><path clip-path=\"url(#clip770)\" d=\"M1792.84 795.226 Q1792.12 794.81 1791.27 794.625 Q1790.43 794.416 1789.41 794.416 Q1785.8 794.416 1783.86 796.777 Q1781.94 799.115 1781.94 803.513 L1781.94 817.171 L1777.66 817.171 L1777.66 791.245 L1781.94 791.245 L1781.94 795.273 Q1783.28 792.912 1785.43 791.777 Q1787.59 790.62 1790.66 790.62 Q1791.1 790.62 1791.64 790.689 Q1792.17 790.736 1792.82 790.851 L1792.84 795.226 Z\" fill=\"#000000\" fill-rule=\"nonzero\" fill-opacity=\"1\" /><path clip-path=\"url(#clip770)\" d=\"M1797.31 791.245 L1801.57 791.245 L1801.57 817.171 L1797.31 817.171 L1797.31 791.245 M1797.31 781.152 L1801.57 781.152 L1801.57 786.546 L1797.31 786.546 L1797.31 781.152 Z\" fill=\"#000000\" fill-rule=\"nonzero\" fill-opacity=\"1\" /><path clip-path=\"url(#clip770)\" d=\"M1832.66 803.143 L1832.66 805.226 L1813.07 805.226 Q1813.35 809.624 1815.71 811.939 Q1818.1 814.231 1822.33 814.231 Q1824.79 814.231 1827.08 813.629 Q1829.39 813.027 1831.66 811.824 L1831.66 815.851 Q1829.37 816.824 1826.96 817.333 Q1824.55 817.842 1822.08 817.842 Q1815.87 817.842 1812.24 814.231 Q1808.63 810.62 1808.63 804.462 Q1808.63 798.097 1812.05 794.37 Q1815.5 790.62 1821.34 790.62 Q1826.57 790.62 1829.6 794 Q1832.66 797.356 1832.66 803.143 M1828.4 801.893 Q1828.35 798.398 1826.43 796.314 Q1824.53 794.231 1821.38 794.231 Q1817.82 794.231 1815.66 796.245 Q1813.54 798.259 1813.21 801.916 L1828.4 801.893 Z\" fill=\"#000000\" fill-rule=\"nonzero\" fill-opacity=\"1\" /><path clip-path=\"url(#clip770)\" d=\"M1856.17 792.009 L1856.17 796.037 Q1854.37 795.111 1852.42 794.648 Q1850.48 794.185 1848.4 794.185 Q1845.22 794.185 1843.63 795.157 Q1842.05 796.129 1842.05 798.074 Q1842.05 799.555 1843.19 800.412 Q1844.32 801.245 1847.75 802.009 L1849.21 802.333 Q1853.74 803.305 1855.64 805.087 Q1857.56 806.847 1857.56 810.018 Q1857.56 813.629 1854.69 815.736 Q1851.85 817.842 1846.85 817.842 Q1844.76 817.842 1842.49 817.425 Q1840.25 817.032 1837.75 816.222 L1837.75 811.824 Q1840.11 813.05 1842.4 813.675 Q1844.69 814.277 1846.94 814.277 Q1849.95 814.277 1851.57 813.259 Q1853.19 812.217 1853.19 810.342 Q1853.19 808.606 1852.01 807.68 Q1850.85 806.754 1846.89 805.898 L1845.41 805.55 Q1841.45 804.717 1839.69 803.004 Q1837.93 801.268 1837.93 798.259 Q1837.93 794.601 1840.53 792.611 Q1843.12 790.62 1847.89 790.62 Q1850.25 790.62 1852.33 790.967 Q1854.41 791.314 1856.17 792.009 Z\" fill=\"#000000\" fill-rule=\"nonzero\" fill-opacity=\"1\" /><path clip-path=\"url(#clip770)\" d=\"M1894.18 798.537 Q1897.54 799.254 1899.41 801.523 Q1901.31 803.791 1901.31 807.125 Q1901.31 812.24 1897.79 815.041 Q1894.28 817.842 1887.79 817.842 Q1885.62 817.842 1883.3 817.402 Q1881.01 816.986 1878.56 816.129 L1878.56 811.615 Q1880.5 812.749 1882.82 813.328 Q1885.13 813.907 1887.66 813.907 Q1892.05 813.907 1894.34 812.171 Q1896.66 810.435 1896.66 807.125 Q1896.66 804.069 1894.51 802.356 Q1892.38 800.62 1888.56 800.62 L1884.53 800.62 L1884.53 796.777 L1888.74 796.777 Q1892.19 796.777 1894.02 795.412 Q1895.85 794.023 1895.85 791.43 Q1895.85 788.768 1893.95 787.356 Q1892.08 785.921 1888.56 785.921 Q1886.64 785.921 1884.44 786.338 Q1882.24 786.754 1879.6 787.634 L1879.6 783.467 Q1882.26 782.726 1884.58 782.356 Q1886.91 781.986 1888.97 781.986 Q1894.3 781.986 1897.4 784.416 Q1900.5 786.824 1900.5 790.944 Q1900.5 793.814 1898.86 795.805 Q1897.22 797.773 1894.18 798.537 Z\" fill=\"#000000\" fill-rule=\"nonzero\" fill-opacity=\"1\" /><path clip-path=\"url(#clip770)\" d=\"M1936.43 804.138 Q1931.27 804.138 1929.28 805.319 Q1927.28 806.5 1927.28 809.347 Q1927.28 811.615 1928.77 812.958 Q1930.27 814.277 1932.84 814.277 Q1936.38 814.277 1938.51 811.777 Q1940.66 809.254 1940.66 805.087 L1940.66 804.138 L1936.43 804.138 M1944.92 802.379 L1944.92 817.171 L1940.66 817.171 L1940.66 813.236 Q1939.21 815.597 1937.03 816.731 Q1934.85 817.842 1931.71 817.842 Q1927.72 817.842 1925.36 815.62 Q1923.03 813.374 1923.03 809.624 Q1923.03 805.25 1925.94 803.027 Q1928.88 800.805 1934.69 800.805 L1940.66 800.805 L1940.66 800.388 Q1940.66 797.449 1938.72 795.851 Q1936.8 794.231 1933.3 794.231 Q1931.08 794.231 1928.97 794.763 Q1926.87 795.296 1924.92 796.361 L1924.92 792.426 Q1927.26 791.523 1929.46 791.083 Q1931.66 790.62 1933.74 790.62 Q1939.37 790.62 1942.15 793.537 Q1944.92 796.453 1944.92 802.379 Z\" fill=\"#000000\" fill-rule=\"nonzero\" fill-opacity=\"1\" /><path clip-path=\"url(#clip770)\" d=\"M1975.25 801.523 L1975.25 817.171 L1970.99 817.171 L1970.99 801.662 Q1970.99 797.981 1969.55 796.152 Q1968.12 794.324 1965.25 794.324 Q1961.8 794.324 1959.81 796.523 Q1957.82 798.722 1957.82 802.518 L1957.82 817.171 L1953.53 817.171 L1953.53 791.245 L1957.82 791.245 L1957.82 795.273 Q1959.34 792.935 1961.4 791.777 Q1963.49 790.62 1966.2 790.62 Q1970.66 790.62 1972.96 793.398 Q1975.25 796.152 1975.25 801.523 Z\" fill=\"#000000\" fill-rule=\"nonzero\" fill-opacity=\"1\" /><path clip-path=\"url(#clip770)\" d=\"M2000.8 795.18 L2000.8 781.152 L2005.06 781.152 L2005.06 817.171 L2000.8 817.171 L2000.8 813.282 Q1999.46 815.597 1997.4 816.731 Q1995.36 817.842 1992.49 817.842 Q1987.79 817.842 1984.83 814.092 Q1981.89 810.342 1981.89 804.231 Q1981.89 798.12 1984.83 794.37 Q1987.79 790.62 1992.49 790.62 Q1995.36 790.62 1997.4 791.754 Q1999.46 792.865 2000.8 795.18 M1986.29 804.231 Q1986.29 808.93 1988.21 811.615 Q1990.15 814.277 1993.53 814.277 Q1996.91 814.277 1998.86 811.615 Q2000.8 808.93 2000.8 804.231 Q2000.8 799.532 1998.86 796.87 Q1996.91 794.185 1993.53 794.185 Q1990.15 794.185 1988.21 796.87 Q1986.29 799.532 1986.29 804.231 Z\" fill=\"#000000\" fill-rule=\"nonzero\" fill-opacity=\"1\" /><path clip-path=\"url(#clip770)\" d=\"M2029.55 782.611 L2047.91 782.611 L2047.91 786.546 L2033.83 786.546 L2033.83 795.018 Q2034.85 794.671 2035.87 794.509 Q2036.89 794.324 2037.91 794.324 Q2043.7 794.324 2047.08 797.495 Q2050.46 800.666 2050.46 806.083 Q2050.46 811.662 2046.98 814.763 Q2043.51 817.842 2037.19 817.842 Q2035.02 817.842 2032.75 817.472 Q2030.5 817.101 2028.09 816.361 L2028.09 811.662 Q2030.18 812.796 2032.4 813.351 Q2034.62 813.907 2037.1 813.907 Q2041.1 813.907 2043.44 811.8 Q2045.78 809.694 2045.78 806.083 Q2045.78 802.472 2043.44 800.365 Q2041.1 798.259 2037.1 798.259 Q2035.22 798.259 2033.35 798.675 Q2031.5 799.092 2029.55 799.972 L2029.55 782.611 Z\" fill=\"#000000\" fill-rule=\"nonzero\" fill-opacity=\"1\" /><path clip-path=\"url(#clip770)\" d=\"M1233.27 1125.5 L1233.27 1111.47 L1237.53 1111.47 L1237.53 1147.49 L1233.27 1147.49 L1233.27 1143.6 Q1231.93 1145.92 1229.87 1147.05 Q1227.83 1148.16 1224.96 1148.16 Q1220.26 1148.16 1217.3 1144.41 Q1214.36 1140.66 1214.36 1134.55 Q1214.36 1128.44 1217.3 1124.69 Q1220.26 1120.94 1224.96 1120.94 Q1227.83 1120.94 1229.87 1122.07 Q1231.93 1123.18 1233.27 1125.5 M1218.76 1134.55 Q1218.76 1139.25 1220.68 1141.93 Q1222.62 1144.6 1226 1144.6 Q1229.38 1144.6 1231.33 1141.93 Q1233.27 1139.25 1233.27 1134.55 Q1233.27 1129.85 1231.33 1127.19 Q1229.38 1124.5 1226 1124.5 Q1222.62 1124.5 1220.68 1127.19 Q1218.76 1129.85 1218.76 1134.55 Z\" fill=\"#000000\" fill-rule=\"nonzero\" fill-opacity=\"1\" /><path clip-path=\"url(#clip770)\" d=\"M1250.52 1114.2 L1250.52 1121.56 L1259.29 1121.56 L1259.29 1124.87 L1250.52 1124.87 L1250.52 1138.95 Q1250.52 1142.12 1251.37 1143.02 Q1252.25 1143.92 1254.92 1143.92 L1259.29 1143.92 L1259.29 1147.49 L1254.92 1147.49 Q1249.98 1147.49 1248.11 1145.66 Q1246.23 1143.81 1246.23 1138.95 L1246.23 1124.87 L1243.11 1124.87 L1243.11 1121.56 L1246.23 1121.56 L1246.23 1114.2 L1250.52 1114.2 Z\" fill=\"#000000\" fill-rule=\"nonzero\" fill-opacity=\"1\" /><path clip-path=\"url(#clip770)\" d=\"M1262.42 1121.56 L1266.67 1121.56 L1272 1141.79 L1277.3 1121.56 L1282.32 1121.56 L1287.65 1141.79 L1292.95 1121.56 L1297.21 1121.56 L1290.42 1147.49 L1285.4 1147.49 L1279.82 1126.24 L1274.22 1147.49 L1269.2 1147.49 L1262.42 1121.56 Z\" fill=\"#000000\" fill-rule=\"nonzero\" fill-opacity=\"1\" /><path clip-path=\"url(#clip770)\" d=\"M1340.29 1131.84 L1340.29 1147.49 L1336.03 1147.49 L1336.03 1131.98 Q1336.03 1128.3 1334.59 1126.47 Q1333.16 1124.64 1330.29 1124.64 Q1326.84 1124.64 1324.85 1126.84 Q1322.85 1129.04 1322.85 1132.84 L1322.85 1147.49 L1318.57 1147.49 L1318.57 1121.56 L1322.85 1121.56 L1322.85 1125.59 Q1324.38 1123.25 1326.44 1122.1 Q1328.53 1120.94 1331.23 1120.94 Q1335.7 1120.94 1337.99 1123.72 Q1340.29 1126.47 1340.29 1131.84 Z\" fill=\"#000000\" fill-rule=\"nonzero\" fill-opacity=\"1\" /><path clip-path=\"url(#clip770)\" d=\"M1360.56 1134.46 Q1355.4 1134.46 1353.41 1135.64 Q1351.42 1136.82 1351.42 1139.67 Q1351.42 1141.93 1352.9 1143.28 Q1354.41 1144.6 1356.98 1144.6 Q1360.52 1144.6 1362.65 1142.1 Q1364.8 1139.57 1364.8 1135.41 L1364.8 1134.46 L1360.56 1134.46 M1369.06 1132.7 L1369.06 1147.49 L1364.8 1147.49 L1364.8 1143.55 Q1363.34 1145.92 1361.16 1147.05 Q1358.99 1148.16 1355.84 1148.16 Q1351.86 1148.16 1349.5 1145.94 Q1347.16 1143.69 1347.16 1139.94 Q1347.16 1135.57 1350.08 1133.35 Q1353.02 1131.12 1358.83 1131.12 L1364.8 1131.12 L1364.8 1130.71 Q1364.8 1127.77 1362.85 1126.17 Q1360.93 1124.55 1357.44 1124.55 Q1355.22 1124.55 1353.11 1125.08 Q1351 1125.61 1349.06 1126.68 L1349.06 1122.74 Q1351.4 1121.84 1353.6 1121.4 Q1355.79 1120.94 1357.88 1120.94 Q1363.5 1120.94 1366.28 1123.86 Q1369.06 1126.77 1369.06 1132.7 Z\" fill=\"#000000\" fill-rule=\"nonzero\" fill-opacity=\"1\" /><path clip-path=\"url(#clip770)\" d=\"M1377.83 1121.56 L1382.09 1121.56 L1382.09 1147.49 L1377.83 1147.49 L1377.83 1121.56 M1377.83 1111.47 L1382.09 1111.47 L1382.09 1116.86 L1377.83 1116.86 L1377.83 1111.47 Z\" fill=\"#000000\" fill-rule=\"nonzero\" fill-opacity=\"1\" /><path clip-path=\"url(#clip770)\" d=\"M1387.95 1121.56 L1392.46 1121.56 L1400.56 1143.32 L1408.66 1121.56 L1413.18 1121.56 L1403.46 1147.49 L1397.67 1147.49 L1387.95 1121.56 Z\" fill=\"#000000\" fill-rule=\"nonzero\" fill-opacity=\"1\" /><path clip-path=\"url(#clip770)\" d=\"M1441.23 1133.46 L1441.23 1135.54 L1421.65 1135.54 Q1421.93 1139.94 1424.29 1142.26 Q1426.67 1144.55 1430.91 1144.55 Q1433.36 1144.55 1435.66 1143.95 Q1437.97 1143.35 1440.24 1142.14 L1440.24 1146.17 Q1437.95 1147.14 1435.54 1147.65 Q1433.13 1148.16 1430.66 1148.16 Q1424.45 1148.16 1420.82 1144.55 Q1417.21 1140.94 1417.21 1134.78 Q1417.21 1128.42 1420.63 1124.69 Q1424.08 1120.94 1429.91 1120.94 Q1435.15 1120.94 1438.18 1124.32 Q1441.23 1127.67 1441.23 1133.46 M1436.97 1132.21 Q1436.93 1128.72 1435.01 1126.63 Q1433.11 1124.55 1429.96 1124.55 Q1426.4 1124.55 1424.24 1126.56 Q1422.11 1128.58 1421.79 1132.23 L1436.97 1132.21 Z\" fill=\"#000000\" fill-rule=\"nonzero\" fill-opacity=\"1\" /><path clip-path=\"url(#clip770)\" d=\"M1463.85 1125.96 L1493.53 1125.96 L1493.53 1129.85 L1463.85 1129.85 L1463.85 1125.96 M1463.85 1135.41 L1493.53 1135.41 L1493.53 1139.34 L1463.85 1139.34 L1463.85 1135.41 Z\" fill=\"#000000\" fill-rule=\"nonzero\" fill-opacity=\"1\" /><path clip-path=\"url(#clip770)\" d=\"M1518.73 1112.93 L1537.09 1112.93 L1537.09 1116.86 L1523.02 1116.86 L1523.02 1125.34 Q1524.03 1124.99 1525.05 1124.83 Q1526.07 1124.64 1527.09 1124.64 Q1532.88 1124.64 1536.26 1127.81 Q1539.64 1130.98 1539.64 1136.4 Q1539.64 1141.98 1536.16 1145.08 Q1532.69 1148.16 1526.37 1148.16 Q1524.2 1148.16 1521.93 1147.79 Q1519.68 1147.42 1517.28 1146.68 L1517.28 1141.98 Q1519.36 1143.11 1521.58 1143.67 Q1523.8 1144.23 1526.28 1144.23 Q1530.28 1144.23 1532.62 1142.12 Q1534.96 1140.01 1534.96 1136.4 Q1534.96 1132.79 1532.62 1130.68 Q1530.28 1128.58 1526.28 1128.58 Q1524.4 1128.58 1522.53 1128.99 Q1520.68 1129.41 1518.73 1130.29 L1518.73 1112.93 Z\" fill=\"#000000\" fill-rule=\"nonzero\" fill-opacity=\"1\" /><path clip-path=\"url(#clip770)\" d=\"M1547.67 1112.93 L1569.89 1112.93 L1569.89 1114.92 L1557.34 1147.49 L1552.46 1147.49 L1564.27 1116.86 L1547.67 1116.86 L1547.67 1112.93 Z\" fill=\"#000000\" fill-rule=\"nonzero\" fill-opacity=\"1\" /><path clip-path=\"url(#clip770)\" d=\"M1579.01 1141.61 L1583.9 1141.61 L1583.9 1147.49 L1579.01 1147.49 L1579.01 1141.61 Z\" fill=\"#000000\" fill-rule=\"nonzero\" fill-opacity=\"1\" /><path clip-path=\"url(#clip770)\" d=\"M1604.66 1128.35 Q1601.51 1128.35 1599.66 1130.5 Q1597.83 1132.65 1597.83 1136.4 Q1597.83 1140.13 1599.66 1142.3 Q1601.51 1144.46 1604.66 1144.46 Q1607.81 1144.46 1609.64 1142.3 Q1611.49 1140.13 1611.49 1136.4 Q1611.49 1132.65 1609.64 1130.5 Q1607.81 1128.35 1604.66 1128.35 M1613.94 1113.69 L1613.94 1117.95 Q1612.18 1117.12 1610.38 1116.68 Q1608.59 1116.24 1606.83 1116.24 Q1602.21 1116.24 1599.75 1119.36 Q1597.32 1122.49 1596.97 1128.81 Q1598.34 1126.79 1600.4 1125.73 Q1602.46 1124.64 1604.94 1124.64 Q1610.14 1124.64 1613.15 1127.81 Q1616.19 1130.96 1616.19 1136.4 Q1616.19 1141.73 1613.04 1144.94 Q1609.89 1148.16 1604.66 1148.16 Q1598.66 1148.16 1595.49 1143.58 Q1592.32 1138.97 1592.32 1130.24 Q1592.32 1122.05 1596.21 1117.19 Q1600.1 1112.3 1606.65 1112.3 Q1608.41 1112.3 1610.19 1112.65 Q1612 1113 1613.94 1113.69 Z\" fill=\"#000000\" fill-rule=\"nonzero\" fill-opacity=\"1\" /><path clip-path=\"url(#clip770)\" d=\"M1634.24 1131.08 Q1630.91 1131.08 1628.99 1132.86 Q1627.09 1134.64 1627.09 1137.77 Q1627.09 1140.89 1628.99 1142.67 Q1630.91 1144.46 1634.24 1144.46 Q1637.58 1144.46 1639.5 1142.67 Q1641.42 1140.87 1641.42 1137.77 Q1641.42 1134.64 1639.5 1132.86 Q1637.6 1131.08 1634.24 1131.08 M1629.57 1129.09 Q1626.56 1128.35 1624.87 1126.29 Q1623.2 1124.23 1623.2 1121.26 Q1623.2 1117.12 1626.14 1114.71 Q1629.1 1112.3 1634.24 1112.3 Q1639.4 1112.3 1642.34 1114.71 Q1645.28 1117.12 1645.28 1121.26 Q1645.28 1124.23 1643.59 1126.29 Q1641.93 1128.35 1638.94 1129.09 Q1642.32 1129.87 1644.2 1132.17 Q1646.09 1134.46 1646.09 1137.77 Q1646.09 1142.79 1643.02 1145.48 Q1639.96 1148.16 1634.24 1148.16 Q1628.52 1148.16 1625.45 1145.48 Q1622.39 1142.79 1622.39 1137.77 Q1622.39 1134.46 1624.29 1132.17 Q1626.19 1129.87 1629.57 1129.09 M1627.85 1121.7 Q1627.85 1124.39 1629.52 1125.89 Q1631.21 1127.4 1634.24 1127.4 Q1637.25 1127.4 1638.94 1125.89 Q1640.65 1124.39 1640.65 1121.7 Q1640.65 1119.02 1638.94 1117.51 Q1637.25 1116.01 1634.24 1116.01 Q1631.21 1116.01 1629.52 1117.51 Q1627.85 1119.02 1627.85 1121.7 Z\" fill=\"#000000\" fill-rule=\"nonzero\" fill-opacity=\"1\" /><path clip-path=\"url(#clip770)\" d=\"M1664.98 1128.35 Q1661.83 1128.35 1659.98 1130.5 Q1658.15 1132.65 1658.15 1136.4 Q1658.15 1140.13 1659.98 1142.3 Q1661.83 1144.46 1664.98 1144.46 Q1668.13 1144.46 1669.96 1142.3 Q1671.81 1140.13 1671.81 1136.4 Q1671.81 1132.65 1669.96 1130.5 Q1668.13 1128.35 1664.98 1128.35 M1674.27 1113.69 L1674.27 1117.95 Q1672.51 1117.12 1670.7 1116.68 Q1668.92 1116.24 1667.16 1116.24 Q1662.53 1116.24 1660.08 1119.36 Q1657.64 1122.49 1657.3 1128.81 Q1658.66 1126.79 1660.72 1125.73 Q1662.78 1124.64 1665.26 1124.64 Q1670.47 1124.64 1673.48 1127.81 Q1676.51 1130.96 1676.51 1136.4 Q1676.51 1141.73 1673.36 1144.94 Q1670.21 1148.16 1664.98 1148.16 Q1658.99 1148.16 1655.82 1143.58 Q1652.64 1138.97 1652.64 1130.24 Q1652.64 1122.05 1656.53 1117.19 Q1660.42 1112.3 1666.97 1112.3 Q1668.73 1112.3 1670.52 1112.65 Q1672.32 1113 1674.27 1113.69 Z\" fill=\"#000000\" fill-rule=\"nonzero\" fill-opacity=\"1\" /><path clip-path=\"url(#clip770)\" d=\"M1683.39 1112.93 L1705.61 1112.93 L1705.61 1114.92 L1693.06 1147.49 L1688.18 1147.49 L1699.98 1116.86 L1683.39 1116.86 L1683.39 1112.93 Z\" fill=\"#000000\" fill-rule=\"nonzero\" fill-opacity=\"1\" /><path clip-path=\"url(#clip770)\" d=\"M1724.73 1116.01 Q1721.12 1116.01 1719.29 1119.57 Q1717.48 1123.11 1717.48 1130.24 Q1717.48 1137.35 1719.29 1140.92 Q1721.12 1144.46 1724.73 1144.46 Q1728.36 1144.46 1730.17 1140.92 Q1732 1137.35 1732 1130.24 Q1732 1123.11 1730.17 1119.57 Q1728.36 1116.01 1724.73 1116.01 M1724.73 1112.3 Q1730.54 1112.3 1733.59 1116.91 Q1736.67 1121.49 1736.67 1130.24 Q1736.67 1138.97 1733.59 1143.58 Q1730.54 1148.16 1724.73 1148.16 Q1718.92 1148.16 1715.84 1143.58 Q1712.78 1138.97 1712.78 1130.24 Q1712.78 1121.49 1715.84 1116.91 Q1718.92 1112.3 1724.73 1112.3 Z\" fill=\"#000000\" fill-rule=\"nonzero\" fill-opacity=\"1\" /><path clip-path=\"url(#clip770)\" d=\"M1743.71 1112.93 L1765.93 1112.93 L1765.93 1114.92 L1753.38 1147.49 L1748.5 1147.49 L1760.31 1116.86 L1743.71 1116.86 L1743.71 1112.93 Z\" fill=\"#000000\" fill-rule=\"nonzero\" fill-opacity=\"1\" /><path clip-path=\"url(#clip770)\" d=\"M1785.63 1128.35 Q1782.48 1128.35 1780.63 1130.5 Q1778.8 1132.65 1778.8 1136.4 Q1778.8 1140.13 1780.63 1142.3 Q1782.48 1144.46 1785.63 1144.46 Q1788.78 1144.46 1790.61 1142.3 Q1792.46 1140.13 1792.46 1136.4 Q1792.46 1132.65 1790.61 1130.5 Q1788.78 1128.35 1785.63 1128.35 M1794.91 1113.69 L1794.91 1117.95 Q1793.15 1117.12 1791.35 1116.68 Q1789.57 1116.24 1787.81 1116.24 Q1783.18 1116.24 1780.72 1119.36 Q1778.29 1122.49 1777.95 1128.81 Q1779.31 1126.79 1781.37 1125.73 Q1783.43 1124.64 1785.91 1124.64 Q1791.12 1124.64 1794.13 1127.81 Q1797.16 1130.96 1797.16 1136.4 Q1797.16 1141.73 1794.01 1144.94 Q1790.86 1148.16 1785.63 1148.16 Q1779.63 1148.16 1776.46 1143.58 Q1773.29 1138.97 1773.29 1130.24 Q1773.29 1122.05 1777.18 1117.19 Q1781.07 1112.3 1787.62 1112.3 Q1789.38 1112.3 1791.16 1112.65 Q1792.97 1113 1794.91 1113.69 Z\" fill=\"#000000\" fill-rule=\"nonzero\" fill-opacity=\"1\" /><path clip-path=\"url(#clip770)\" d=\"M1815.79 1128.35 Q1812.64 1128.35 1810.79 1130.5 Q1808.96 1132.65 1808.96 1136.4 Q1808.96 1140.13 1810.79 1142.3 Q1812.64 1144.46 1815.79 1144.46 Q1818.94 1144.46 1820.77 1142.3 Q1822.62 1140.13 1822.62 1136.4 Q1822.62 1132.65 1820.77 1130.5 Q1818.94 1128.35 1815.79 1128.35 M1825.07 1113.69 L1825.07 1117.95 Q1823.32 1117.12 1821.51 1116.68 Q1819.73 1116.24 1817.97 1116.24 Q1813.34 1116.24 1810.88 1119.36 Q1808.45 1122.49 1808.11 1128.81 Q1809.47 1126.79 1811.53 1125.73 Q1813.59 1124.64 1816.07 1124.64 Q1821.28 1124.64 1824.29 1127.81 Q1827.32 1130.96 1827.32 1136.4 Q1827.32 1141.73 1824.17 1144.94 Q1821.02 1148.16 1815.79 1148.16 Q1809.8 1148.16 1806.63 1143.58 Q1803.45 1138.97 1803.45 1130.24 Q1803.45 1122.05 1807.34 1117.19 Q1811.23 1112.3 1817.78 1112.3 Q1819.54 1112.3 1821.32 1112.65 Q1823.13 1113 1825.07 1113.69 Z\" fill=\"#000000\" fill-rule=\"nonzero\" fill-opacity=\"1\" /><path clip-path=\"url(#clip770)\" d=\"M1834.19 1112.93 L1856.42 1112.93 L1856.42 1114.92 L1843.87 1147.49 L1838.99 1147.49 L1850.79 1116.86 L1834.19 1116.86 L1834.19 1112.93 Z\" fill=\"#000000\" fill-rule=\"nonzero\" fill-opacity=\"1\" /><path clip-path=\"url(#clip770)\" d=\"M1869.56 1143.55 L1885.88 1143.55 L1885.88 1147.49 L1863.94 1147.49 L1863.94 1143.55 Q1866.6 1140.8 1871.19 1136.17 Q1875.79 1131.52 1876.97 1130.17 Q1879.22 1127.65 1880.1 1125.92 Q1881 1124.16 1881 1122.47 Q1881 1119.71 1879.06 1117.98 Q1877.13 1116.24 1874.03 1116.24 Q1871.83 1116.24 1869.38 1117 Q1866.95 1117.77 1864.17 1119.32 L1864.17 1114.6 Q1867 1113.46 1869.45 1112.88 Q1871.9 1112.3 1873.94 1112.3 Q1879.31 1112.3 1882.5 1114.99 Q1885.7 1117.67 1885.7 1122.17 Q1885.7 1124.29 1884.89 1126.22 Q1884.1 1128.11 1882 1130.71 Q1881.42 1131.38 1878.31 1134.6 Q1875.21 1137.79 1869.56 1143.55 Z\" fill=\"#000000\" fill-rule=\"nonzero\" fill-opacity=\"1\" /><path clip-path=\"url(#clip770)\" d=\"M1895.84 1146.77 L1895.84 1142.51 Q1897.6 1143.35 1899.4 1143.79 Q1901.21 1144.23 1902.94 1144.23 Q1907.57 1144.23 1910 1141.12 Q1912.46 1138 1912.81 1131.66 Q1911.46 1133.65 1909.4 1134.71 Q1907.34 1135.78 1904.84 1135.78 Q1899.66 1135.78 1896.62 1132.65 Q1893.62 1129.5 1893.62 1124.06 Q1893.62 1118.74 1896.76 1115.52 Q1899.91 1112.3 1905.14 1112.3 Q1911.14 1112.3 1914.29 1116.91 Q1917.46 1121.49 1917.46 1130.24 Q1917.46 1138.42 1913.57 1143.3 Q1909.7 1148.16 1903.15 1148.16 Q1901.39 1148.16 1899.59 1147.81 Q1897.78 1147.47 1895.84 1146.77 M1905.14 1132.12 Q1908.29 1132.12 1910.12 1129.97 Q1911.97 1127.81 1911.97 1124.06 Q1911.97 1120.34 1910.12 1118.18 Q1908.29 1116.01 1905.14 1116.01 Q1902 1116.01 1900.14 1118.18 Q1898.31 1120.34 1898.31 1124.06 Q1898.31 1127.81 1900.14 1129.97 Q1902 1132.12 1905.14 1132.12 Z\" fill=\"#000000\" fill-rule=\"nonzero\" fill-opacity=\"1\" /><path clip-path=\"url(#clip770)\" d=\"M1935.86 1116.01 Q1932.25 1116.01 1930.42 1119.57 Q1928.62 1123.11 1928.62 1130.24 Q1928.62 1137.35 1930.42 1140.92 Q1932.25 1144.46 1935.86 1144.46 Q1939.5 1144.46 1941.3 1140.92 Q1943.13 1137.35 1943.13 1130.24 Q1943.13 1123.11 1941.3 1119.57 Q1939.5 1116.01 1935.86 1116.01 M1935.86 1112.3 Q1941.67 1112.3 1944.73 1116.91 Q1947.81 1121.49 1947.81 1130.24 Q1947.81 1138.97 1944.73 1143.58 Q1941.67 1148.16 1935.86 1148.16 Q1930.05 1148.16 1926.97 1143.58 Q1923.92 1138.97 1923.92 1130.24 Q1923.92 1121.49 1926.97 1116.91 Q1930.05 1112.3 1935.86 1112.3 Z\" fill=\"#000000\" fill-rule=\"nonzero\" fill-opacity=\"1\" /><path clip-path=\"url(#clip770)\" d=\"M1970.19 1128.86 Q1973.55 1129.57 1975.42 1131.84 Q1977.32 1134.11 1977.32 1137.44 Q1977.32 1142.56 1973.8 1145.36 Q1970.28 1148.16 1963.8 1148.16 Q1961.62 1148.16 1959.31 1147.72 Q1957.02 1147.3 1954.56 1146.45 L1954.56 1141.93 Q1956.51 1143.07 1958.82 1143.65 Q1961.14 1144.23 1963.66 1144.23 Q1968.06 1144.23 1970.35 1142.49 Q1972.67 1140.75 1972.67 1137.44 Q1972.67 1134.39 1970.51 1132.67 Q1968.38 1130.94 1964.56 1130.94 L1960.54 1130.94 L1960.54 1127.1 L1964.75 1127.1 Q1968.2 1127.1 1970.03 1125.73 Q1971.86 1124.34 1971.86 1121.75 Q1971.86 1119.09 1969.96 1117.67 Q1968.08 1116.24 1964.56 1116.24 Q1962.64 1116.24 1960.44 1116.66 Q1958.24 1117.07 1955.61 1117.95 L1955.61 1113.79 Q1958.27 1113.05 1960.58 1112.67 Q1962.92 1112.3 1964.98 1112.3 Q1970.31 1112.3 1973.41 1114.73 Q1976.51 1117.14 1976.51 1121.26 Q1976.51 1124.13 1974.87 1126.12 Q1973.22 1128.09 1970.19 1128.86 Z\" fill=\"#000000\" fill-rule=\"nonzero\" fill-opacity=\"1\" /><path clip-path=\"url(#clip770)\" d=\"M2000.35 1128.86 Q2003.71 1129.57 2005.58 1131.84 Q2007.48 1134.11 2007.48 1137.44 Q2007.48 1142.56 2003.96 1145.36 Q2000.44 1148.16 1993.96 1148.16 Q1991.79 1148.16 1989.47 1147.72 Q1987.18 1147.3 1984.73 1146.45 L1984.73 1141.93 Q1986.67 1143.07 1988.99 1143.65 Q1991.3 1144.23 1993.82 1144.23 Q1998.22 1144.23 2000.51 1142.49 Q2002.83 1140.75 2002.83 1137.44 Q2002.83 1134.39 2000.68 1132.67 Q1998.55 1130.94 1994.73 1130.94 L1990.7 1130.94 L1990.7 1127.1 L1994.91 1127.1 Q1998.36 1127.1 2000.19 1125.73 Q2002.02 1124.34 2002.02 1121.75 Q2002.02 1119.09 2000.12 1117.67 Q1998.24 1116.24 1994.73 1116.24 Q1992.8 1116.24 1990.61 1116.66 Q1988.41 1117.07 1985.77 1117.95 L1985.77 1113.79 Q1988.43 1113.05 1990.74 1112.67 Q1993.08 1112.3 1995.14 1112.3 Q2000.47 1112.3 2003.57 1114.73 Q2006.67 1117.14 2006.67 1121.26 Q2006.67 1124.13 2005.03 1126.12 Q2003.38 1128.09 2000.35 1128.86 Z\" fill=\"#000000\" fill-rule=\"nonzero\" fill-opacity=\"1\" /><path clip-path=\"url(#clip770)\" d=\"M1230.77 1196.75 L1230.77 1182.72 L1235.03 1182.72 L1235.03 1218.74 L1230.77 1218.74 L1230.77 1214.85 Q1229.43 1217.16 1227.37 1218.3 Q1225.33 1219.41 1222.46 1219.41 Q1217.76 1219.41 1214.8 1215.66 Q1211.86 1211.91 1211.86 1205.8 Q1211.86 1199.69 1214.8 1195.94 Q1217.76 1192.19 1222.46 1192.19 Q1225.33 1192.19 1227.37 1193.32 Q1229.43 1194.43 1230.77 1196.75 M1216.26 1205.8 Q1216.26 1210.5 1218.18 1213.18 Q1220.12 1215.84 1223.5 1215.84 Q1226.88 1215.84 1228.83 1213.18 Q1230.77 1210.5 1230.77 1205.8 Q1230.77 1201.1 1228.83 1198.44 Q1226.88 1195.75 1223.5 1195.75 Q1220.12 1195.75 1218.18 1198.44 Q1216.26 1201.1 1216.26 1205.8 Z\" fill=\"#000000\" fill-rule=\"nonzero\" fill-opacity=\"1\" /><path clip-path=\"url(#clip770)\" d=\"M1248.02 1185.45 L1248.02 1192.81 L1256.79 1192.81 L1256.79 1196.12 L1248.02 1196.12 L1248.02 1210.2 Q1248.02 1213.37 1248.87 1214.27 Q1249.75 1215.17 1252.42 1215.17 L1256.79 1215.17 L1256.79 1218.74 L1252.42 1218.74 Q1247.48 1218.74 1245.61 1216.91 Q1243.73 1215.06 1243.73 1210.2 L1243.73 1196.12 L1240.61 1196.12 L1240.61 1192.81 L1243.73 1192.81 L1243.73 1185.45 L1248.02 1185.45 Z\" fill=\"#000000\" fill-rule=\"nonzero\" fill-opacity=\"1\" /><path clip-path=\"url(#clip770)\" d=\"M1259.92 1192.81 L1264.17 1192.81 L1269.5 1213.04 L1274.8 1192.81 L1279.82 1192.81 L1285.15 1213.04 L1290.45 1192.81 L1294.71 1192.81 L1287.92 1218.74 L1282.9 1218.74 L1277.32 1197.49 L1271.72 1218.74 L1266.7 1218.74 L1259.92 1192.81 Z\" fill=\"#000000\" fill-rule=\"nonzero\" fill-opacity=\"1\" /><path clip-path=\"url(#clip770)\" d=\"M1328.02 1205.7 Q1322.85 1205.7 1320.86 1206.89 Q1318.87 1208.07 1318.87 1210.91 Q1318.87 1213.18 1320.35 1214.52 Q1321.86 1215.84 1324.43 1215.84 Q1327.97 1215.84 1330.1 1213.34 Q1332.25 1210.82 1332.25 1206.65 L1332.25 1205.7 L1328.02 1205.7 M1336.51 1203.95 L1336.51 1218.74 L1332.25 1218.74 L1332.25 1214.8 Q1330.79 1217.16 1328.62 1218.3 Q1326.44 1219.41 1323.29 1219.41 Q1319.31 1219.41 1316.95 1217.19 Q1314.61 1214.94 1314.61 1211.19 Q1314.61 1206.82 1317.53 1204.59 Q1320.47 1202.37 1326.28 1202.37 L1332.25 1202.37 L1332.25 1201.95 Q1332.25 1199.01 1330.31 1197.42 Q1328.39 1195.8 1324.89 1195.8 Q1322.67 1195.8 1320.56 1196.33 Q1318.46 1196.86 1316.51 1197.93 L1316.51 1193.99 Q1318.85 1193.09 1321.05 1192.65 Q1323.25 1192.19 1325.33 1192.19 Q1330.96 1192.19 1333.73 1195.1 Q1336.51 1198.02 1336.51 1203.95 Z\" fill=\"#000000\" fill-rule=\"nonzero\" fill-opacity=\"1\" /><path clip-path=\"url(#clip770)\" d=\"M1360.31 1196.79 Q1359.59 1196.38 1358.73 1196.19 Q1357.9 1195.98 1356.88 1195.98 Q1353.27 1195.98 1351.33 1198.34 Q1349.41 1200.68 1349.41 1205.08 L1349.41 1218.74 L1345.12 1218.74 L1345.12 1192.81 L1349.41 1192.81 L1349.41 1196.84 Q1350.75 1194.48 1352.9 1193.34 Q1355.05 1192.19 1358.13 1192.19 Q1358.57 1192.19 1359.1 1192.26 Q1359.64 1192.3 1360.29 1192.42 L1360.31 1196.79 Z\" fill=\"#000000\" fill-rule=\"nonzero\" fill-opacity=\"1\" /><path clip-path=\"url(#clip770)\" d=\"M1378.97 1196.79 Q1378.25 1196.38 1377.39 1196.19 Q1376.56 1195.98 1375.54 1195.98 Q1371.93 1195.98 1369.98 1198.34 Q1368.06 1200.68 1368.06 1205.08 L1368.06 1218.74 L1363.78 1218.74 L1363.78 1192.81 L1368.06 1192.81 L1368.06 1196.84 Q1369.41 1194.48 1371.56 1193.34 Q1373.71 1192.19 1376.79 1192.19 Q1377.23 1192.19 1377.76 1192.26 Q1378.29 1192.3 1378.94 1192.42 L1378.97 1196.79 Z\" fill=\"#000000\" fill-rule=\"nonzero\" fill-opacity=\"1\" /><path clip-path=\"url(#clip770)\" d=\"M1392.44 1195.8 Q1389.01 1195.8 1387.02 1198.48 Q1385.03 1201.14 1385.03 1205.8 Q1385.03 1210.45 1387 1213.14 Q1388.99 1215.8 1392.44 1215.8 Q1395.84 1215.8 1397.83 1213.11 Q1399.82 1210.43 1399.82 1205.8 Q1399.82 1201.19 1397.83 1198.51 Q1395.84 1195.8 1392.44 1195.8 M1392.44 1192.19 Q1397.99 1192.19 1401.16 1195.8 Q1404.34 1199.41 1404.34 1205.8 Q1404.34 1212.16 1401.16 1215.8 Q1397.99 1219.41 1392.44 1219.41 Q1386.86 1219.41 1383.69 1215.8 Q1380.54 1212.16 1380.54 1205.8 Q1380.54 1199.41 1383.69 1195.8 Q1386.86 1192.19 1392.44 1192.19 Z\" fill=\"#000000\" fill-rule=\"nonzero\" fill-opacity=\"1\" /><path clip-path=\"url(#clip770)\" d=\"M1408.92 1192.81 L1413.18 1192.81 L1418.5 1213.04 L1423.8 1192.81 L1428.83 1192.81 L1434.15 1213.04 L1439.45 1192.81 L1443.71 1192.81 L1436.93 1218.74 L1431.91 1218.74 L1426.33 1197.49 L1420.72 1218.74 L1415.7 1218.74 L1408.92 1192.81 Z\" fill=\"#000000\" fill-rule=\"nonzero\" fill-opacity=\"1\" /><path clip-path=\"url(#clip770)\" d=\"M1465.79 1197.21 L1495.47 1197.21 L1495.47 1201.1 L1465.79 1201.1 L1465.79 1197.21 M1465.79 1206.65 L1495.47 1206.65 L1495.47 1210.59 L1465.79 1210.59 L1465.79 1206.65 Z\" fill=\"#000000\" fill-rule=\"nonzero\" fill-opacity=\"1\" /><path clip-path=\"url(#clip770)\" d=\"M1520.68 1184.18 L1539.03 1184.18 L1539.03 1188.11 L1524.96 1188.11 L1524.96 1196.58 Q1525.98 1196.24 1527 1196.08 Q1528.02 1195.89 1529.03 1195.89 Q1534.82 1195.89 1538.2 1199.06 Q1541.58 1202.23 1541.58 1207.65 Q1541.58 1213.23 1538.11 1216.33 Q1534.64 1219.41 1528.32 1219.41 Q1526.14 1219.41 1523.87 1219.04 Q1521.63 1218.67 1519.22 1217.93 L1519.22 1213.23 Q1521.3 1214.36 1523.53 1214.92 Q1525.75 1215.47 1528.22 1215.47 Q1532.23 1215.47 1534.57 1213.37 Q1536.9 1211.26 1536.9 1207.65 Q1536.9 1204.04 1534.57 1201.93 Q1532.23 1199.83 1528.22 1199.83 Q1526.35 1199.83 1524.47 1200.24 Q1522.62 1200.66 1520.68 1201.54 L1520.68 1184.18 Z\" fill=\"#000000\" fill-rule=\"nonzero\" fill-opacity=\"1\" /><path clip-path=\"url(#clip770)\" d=\"M1549.61 1184.18 L1571.84 1184.18 L1571.84 1186.17 L1559.29 1218.74 L1554.4 1218.74 L1566.21 1188.11 L1549.61 1188.11 L1549.61 1184.18 Z\" fill=\"#000000\" fill-rule=\"nonzero\" fill-opacity=\"1\" /><path clip-path=\"url(#clip770)\" d=\"M1580.96 1212.86 L1585.84 1212.86 L1585.84 1218.74 L1580.96 1218.74 L1580.96 1212.86 Z\" fill=\"#000000\" fill-rule=\"nonzero\" fill-opacity=\"1\" /><path clip-path=\"url(#clip770)\" d=\"M1600.05 1214.8 L1616.37 1214.8 L1616.37 1218.74 L1594.43 1218.74 L1594.43 1214.8 Q1597.09 1212.05 1601.67 1207.42 Q1606.28 1202.76 1607.46 1201.42 Q1609.71 1198.9 1610.58 1197.16 Q1611.49 1195.4 1611.49 1193.71 Q1611.49 1190.96 1609.54 1189.22 Q1607.62 1187.49 1604.52 1187.49 Q1602.32 1187.49 1599.87 1188.25 Q1597.44 1189.01 1594.66 1190.57 L1594.66 1185.84 Q1597.48 1184.71 1599.94 1184.13 Q1602.39 1183.55 1604.43 1183.55 Q1609.8 1183.55 1612.99 1186.24 Q1616.19 1188.92 1616.19 1193.41 Q1616.19 1195.54 1615.38 1197.46 Q1614.59 1199.36 1612.48 1201.95 Q1611.9 1202.63 1608.8 1205.84 Q1605.7 1209.04 1600.05 1214.8 Z\" fill=\"#000000\" fill-rule=\"nonzero\" fill-opacity=\"1\" /><path clip-path=\"url(#clip770)\" d=\"M1640.35 1200.1 Q1643.71 1200.82 1645.58 1203.09 Q1647.48 1205.36 1647.48 1208.69 Q1647.48 1213.81 1643.96 1216.61 Q1640.45 1219.41 1633.96 1219.41 Q1631.79 1219.41 1629.47 1218.97 Q1627.18 1218.55 1624.73 1217.7 L1624.73 1213.18 Q1626.67 1214.32 1628.99 1214.89 Q1631.3 1215.47 1633.83 1215.47 Q1638.22 1215.47 1640.52 1213.74 Q1642.83 1212 1642.83 1208.69 Q1642.83 1205.64 1640.68 1203.92 Q1638.55 1202.19 1634.73 1202.19 L1630.7 1202.19 L1630.7 1198.34 L1634.91 1198.34 Q1638.36 1198.34 1640.19 1196.98 Q1642.02 1195.59 1642.02 1193 Q1642.02 1190.33 1640.12 1188.92 Q1638.25 1187.49 1634.73 1187.49 Q1632.81 1187.49 1630.61 1187.9 Q1628.41 1188.32 1625.77 1189.2 L1625.77 1185.03 Q1628.43 1184.29 1630.75 1183.92 Q1633.08 1183.55 1635.14 1183.55 Q1640.47 1183.55 1643.57 1185.98 Q1646.67 1188.39 1646.67 1192.51 Q1646.67 1195.38 1645.03 1197.37 Q1643.39 1199.34 1640.35 1200.1 Z\" fill=\"#000000\" fill-rule=\"nonzero\" fill-opacity=\"1\" /><path clip-path=\"url(#clip770)\" d=\"M1666.35 1202.33 Q1663.02 1202.33 1661.09 1204.11 Q1659.2 1205.89 1659.2 1209.01 Q1659.2 1212.14 1661.09 1213.92 Q1663.02 1215.7 1666.35 1215.7 Q1669.68 1215.7 1671.6 1213.92 Q1673.52 1212.12 1673.52 1209.01 Q1673.52 1205.89 1671.6 1204.11 Q1669.7 1202.33 1666.35 1202.33 M1661.67 1200.33 Q1658.66 1199.59 1656.97 1197.53 Q1655.31 1195.47 1655.31 1192.51 Q1655.31 1188.37 1658.25 1185.96 Q1661.21 1183.55 1666.35 1183.55 Q1671.51 1183.55 1674.45 1185.96 Q1677.39 1188.37 1677.39 1192.51 Q1677.39 1195.47 1675.7 1197.53 Q1674.03 1199.59 1671.05 1200.33 Q1674.43 1201.12 1676.3 1203.41 Q1678.2 1205.7 1678.2 1209.01 Q1678.2 1214.04 1675.12 1216.72 Q1672.07 1219.41 1666.35 1219.41 Q1660.63 1219.41 1657.55 1216.72 Q1654.5 1214.04 1654.5 1209.01 Q1654.5 1205.7 1656.39 1203.41 Q1658.29 1201.12 1661.67 1200.33 M1659.96 1192.95 Q1659.96 1195.64 1661.63 1197.14 Q1663.32 1198.64 1666.35 1198.64 Q1669.36 1198.64 1671.05 1197.14 Q1672.76 1195.64 1672.76 1192.95 Q1672.76 1190.26 1671.05 1188.76 Q1669.36 1187.26 1666.35 1187.26 Q1663.32 1187.26 1661.63 1188.76 Q1659.96 1190.26 1659.96 1192.95 Z\" fill=\"#000000\" fill-rule=\"nonzero\" fill-opacity=\"1\" /><path clip-path=\"url(#clip770)\" d=\"M1686.65 1218.02 L1686.65 1213.76 Q1688.41 1214.59 1690.21 1215.03 Q1692.02 1215.47 1693.76 1215.47 Q1698.39 1215.47 1700.82 1212.37 Q1703.27 1209.25 1703.62 1202.9 Q1702.27 1204.89 1700.21 1205.96 Q1698.15 1207.02 1695.65 1207.02 Q1690.47 1207.02 1687.44 1203.9 Q1684.43 1200.75 1684.43 1195.31 Q1684.43 1189.99 1687.58 1186.77 Q1690.72 1183.55 1695.95 1183.55 Q1701.95 1183.55 1705.1 1188.16 Q1708.27 1192.74 1708.27 1201.49 Q1708.27 1209.66 1704.38 1214.55 Q1700.51 1219.41 1693.96 1219.41 Q1692.2 1219.41 1690.4 1219.06 Q1688.59 1218.71 1686.65 1218.02 M1695.95 1203.37 Q1699.1 1203.37 1700.93 1201.21 Q1702.78 1199.06 1702.78 1195.31 Q1702.78 1191.58 1700.93 1189.43 Q1699.1 1187.26 1695.95 1187.26 Q1692.81 1187.26 1690.95 1189.43 Q1689.13 1191.58 1689.13 1195.31 Q1689.13 1199.06 1690.95 1201.21 Q1692.81 1203.37 1695.95 1203.37 Z\" fill=\"#000000\" fill-rule=\"nonzero\" fill-opacity=\"1\" /><path clip-path=\"url(#clip770)\" d=\"M1716.72 1184.18 L1735.07 1184.18 L1735.07 1188.11 L1721 1188.11 L1721 1196.58 Q1722.02 1196.24 1723.04 1196.08 Q1724.06 1195.89 1725.07 1195.89 Q1730.86 1195.89 1734.24 1199.06 Q1737.62 1202.23 1737.62 1207.65 Q1737.62 1213.23 1734.15 1216.33 Q1730.68 1219.41 1724.36 1219.41 Q1722.18 1219.41 1719.91 1219.04 Q1717.67 1218.67 1715.26 1217.93 L1715.26 1213.23 Q1717.34 1214.36 1719.57 1214.92 Q1721.79 1215.47 1724.26 1215.47 Q1728.27 1215.47 1730.61 1213.37 Q1732.95 1211.26 1732.95 1207.65 Q1732.95 1204.04 1730.61 1201.93 Q1728.27 1199.83 1724.26 1199.83 Q1722.39 1199.83 1720.51 1200.24 Q1718.66 1200.66 1716.72 1201.54 L1716.72 1184.18 Z\" fill=\"#000000\" fill-rule=\"nonzero\" fill-opacity=\"1\" /><path clip-path=\"url(#clip770)\" d=\"M1747.64 1214.8 L1755.28 1214.8 L1755.28 1188.44 L1746.97 1190.1 L1746.97 1185.84 L1755.24 1184.18 L1759.91 1184.18 L1759.91 1214.8 L1767.55 1214.8 L1767.55 1218.74 L1747.64 1218.74 L1747.64 1214.8 Z\" fill=\"#000000\" fill-rule=\"nonzero\" fill-opacity=\"1\" /><path clip-path=\"url(#clip770)\" d=\"M1787 1187.26 Q1783.38 1187.26 1781.56 1190.82 Q1779.75 1194.36 1779.75 1201.49 Q1779.75 1208.6 1781.56 1212.16 Q1783.38 1215.7 1787 1215.7 Q1790.63 1215.7 1792.44 1212.16 Q1794.26 1208.6 1794.26 1201.49 Q1794.26 1194.36 1792.44 1190.82 Q1790.63 1187.26 1787 1187.26 M1787 1183.55 Q1792.81 1183.55 1795.86 1188.16 Q1798.94 1192.74 1798.94 1201.49 Q1798.94 1210.22 1795.86 1214.83 Q1792.81 1219.41 1787 1219.41 Q1781.19 1219.41 1778.11 1214.83 Q1775.05 1210.22 1775.05 1201.49 Q1775.05 1192.74 1778.11 1188.16 Q1781.19 1183.55 1787 1183.55 Z\" fill=\"#000000\" fill-rule=\"nonzero\" fill-opacity=\"1\" /><path clip-path=\"url(#clip770)\" d=\"M1807.97 1214.8 L1815.61 1214.8 L1815.61 1188.44 L1807.3 1190.1 L1807.3 1185.84 L1815.56 1184.18 L1820.24 1184.18 L1820.24 1214.8 L1827.88 1214.8 L1827.88 1218.74 L1807.97 1218.74 L1807.97 1214.8 Z\" fill=\"#000000\" fill-rule=\"nonzero\" fill-opacity=\"1\" /><path clip-path=\"url(#clip770)\" d=\"M1838.13 1214.8 L1845.77 1214.8 L1845.77 1188.44 L1837.46 1190.1 L1837.46 1185.84 L1845.72 1184.18 L1850.4 1184.18 L1850.4 1214.8 L1858.04 1214.8 L1858.04 1218.74 L1838.13 1218.74 L1838.13 1214.8 Z\" fill=\"#000000\" fill-rule=\"nonzero\" fill-opacity=\"1\" /><path clip-path=\"url(#clip770)\" d=\"M1868.29 1214.8 L1875.93 1214.8 L1875.93 1188.44 L1867.62 1190.1 L1867.62 1185.84 L1875.88 1184.18 L1880.56 1184.18 L1880.56 1214.8 L1888.2 1214.8 L1888.2 1218.74 L1868.29 1218.74 L1868.29 1214.8 Z\" fill=\"#000000\" fill-rule=\"nonzero\" fill-opacity=\"1\" /><path clip-path=\"url(#clip770)\" d=\"M1897.69 1184.18 L1916.05 1184.18 L1916.05 1188.11 L1901.97 1188.11 L1901.97 1196.58 Q1902.99 1196.24 1904.01 1196.08 Q1905.03 1195.89 1906.05 1195.89 Q1911.83 1195.89 1915.21 1199.06 Q1918.59 1202.23 1918.59 1207.65 Q1918.59 1213.23 1915.12 1216.33 Q1911.65 1219.41 1905.33 1219.41 Q1903.15 1219.41 1900.88 1219.04 Q1898.64 1218.67 1896.23 1217.93 L1896.23 1213.23 Q1898.31 1214.36 1900.54 1214.92 Q1902.76 1215.47 1905.24 1215.47 Q1909.24 1215.47 1911.58 1213.37 Q1913.92 1211.26 1913.92 1207.65 Q1913.92 1204.04 1911.58 1201.93 Q1909.24 1199.83 1905.24 1199.83 Q1903.36 1199.83 1901.49 1200.24 Q1899.63 1200.66 1897.69 1201.54 L1897.69 1184.18 Z\" fill=\"#000000\" fill-rule=\"nonzero\" fill-opacity=\"1\" /><path clip-path=\"url(#clip770)\" d=\"M1926.62 1184.18 L1948.85 1184.18 L1948.85 1186.17 L1936.3 1218.74 L1931.42 1218.74 L1943.22 1188.11 L1926.62 1188.11 L1926.62 1184.18 Z\" fill=\"#000000\" fill-rule=\"nonzero\" fill-opacity=\"1\" /><path clip-path=\"url(#clip770)\" d=\"M1967.97 1187.26 Q1964.36 1187.26 1962.53 1190.82 Q1960.72 1194.36 1960.72 1201.49 Q1960.72 1208.6 1962.53 1212.16 Q1964.36 1215.7 1967.97 1215.7 Q1971.6 1215.7 1973.41 1212.16 Q1975.24 1208.6 1975.24 1201.49 Q1975.24 1194.36 1973.41 1190.82 Q1971.6 1187.26 1967.97 1187.26 M1967.97 1183.55 Q1973.78 1183.55 1976.83 1188.16 Q1979.91 1192.74 1979.91 1201.49 Q1979.91 1210.22 1976.83 1214.83 Q1973.78 1219.41 1967.97 1219.41 Q1962.16 1219.41 1959.08 1214.83 Q1956.02 1210.22 1956.02 1201.49 Q1956.02 1192.74 1959.08 1188.16 Q1962.16 1183.55 1967.97 1183.55 Z\" fill=\"#000000\" fill-rule=\"nonzero\" fill-opacity=\"1\" /><path clip-path=\"url(#clip770)\" d=\"M1998.13 1202.33 Q1994.8 1202.33 1992.87 1204.11 Q1990.98 1205.89 1990.98 1209.01 Q1990.98 1212.14 1992.87 1213.92 Q1994.8 1215.7 1998.13 1215.7 Q2001.46 1215.7 2003.38 1213.92 Q2005.3 1212.12 2005.3 1209.01 Q2005.3 1205.89 2003.38 1204.11 Q2001.49 1202.33 1998.13 1202.33 M1993.45 1200.33 Q1990.44 1199.59 1988.75 1197.53 Q1987.09 1195.47 1987.09 1192.51 Q1987.09 1188.37 1990.03 1185.96 Q1992.99 1183.55 1998.13 1183.55 Q2003.29 1183.55 2006.23 1185.96 Q2009.17 1188.37 2009.17 1192.51 Q2009.17 1195.47 2007.48 1197.53 Q2005.81 1199.59 2002.83 1200.33 Q2006.21 1201.12 2008.08 1203.41 Q2009.98 1205.7 2009.98 1209.01 Q2009.98 1214.04 2006.9 1216.72 Q2003.85 1219.41 1998.13 1219.41 Q1992.41 1219.41 1989.33 1216.72 Q1986.28 1214.04 1986.28 1209.01 Q1986.28 1205.7 1988.18 1203.41 Q1990.07 1201.12 1993.45 1200.33 M1991.74 1192.95 Q1991.74 1195.64 1993.41 1197.14 Q1995.1 1198.64 1998.13 1198.64 Q2001.14 1198.64 2002.83 1197.14 Q2004.54 1195.64 2004.54 1192.95 Q2004.54 1190.26 2002.83 1188.76 Q2001.14 1187.26 1998.13 1187.26 Q1995.1 1187.26 1993.41 1188.76 Q1991.74 1190.26 1991.74 1192.95 Z\" fill=\"#000000\" fill-rule=\"nonzero\" fill-opacity=\"1\" /></svg>\n"
      ]
     },
     "execution_count": 20,
     "metadata": {},
     "output_type": "execute_result"
    }
   ],
   "source": [
    "a = 3\n",
    "b = 5\n",
    "\n",
    "A = TEST[a,:]\n",
    "B = TEST[b,:]\n",
    "\n",
    "println(\"C_$a = \",TEST_labels[a],\"\\nC_$b = \",TEST_labels[b])\n",
    "\n",
    "\n",
    "dtw1, i1, j1  = dtw(A, B)\n",
    "dtw2, i2, j2  = dtw_naive(A, B)\n",
    "dtw3, i3, j3  = dtw_arrow(A, B)\n",
    "\n",
    "println(\"dtw1 = $dtw1\\ndtw2 = $dtw2\\ndtw3 = $dtw3\")\n",
    "\n",
    "#plot(i1, j1, ratio=1)\n",
    "fig = plot()\n",
    "plot!(i2, j2, ratio=1, label=\"dtw naive\")\n",
    "plot!(i3, j3, ratio=1, label=\"dtw arrow\")\n",
    "z = 202\n",
    "xlims!(0,z)\n",
    "ylims!(0,z)\n",
    "\n",
    "annotate!(150, 100, (\"ID      : 101\\nName : Fungi\\nTest series $a and $b\\n\", :left, 8))\n",
    "annotate!(150, 50, (\"dtw naive = $dtw2\", 8))\n",
    "annotate!(150, 40, (\"dtw arrow = $dtw3\", 8))"
   ]
  },
  {
   "cell_type": "code",
   "execution_count": 14,
   "id": "5b8326d7-4a5c-4166-89e1-d9ea7cba9168",
   "metadata": {
    "tags": []
   },
   "outputs": [
    {
     "data": {
      "text/plain": [
       "4-element Vector{Vector{Int64}}:\n",
       " [1, 1]\n",
       " [2, 1]\n",
       " [3, 1]\n",
       " [4, 1]"
      ]
     },
     "metadata": {},
     "output_type": "display_data"
    },
    {
     "data": {
      "text/plain": [
       "4-element Vector{Vector{Int64}}:\n",
       " [1, 1]\n",
       " [2, 1]\n",
       " [3, 1]\n",
       " [4, 1]"
      ]
     },
     "metadata": {},
     "output_type": "display_data"
    },
    {
     "data": {
      "text/plain": [
       "4-element Vector{Vector{Int64}}:\n",
       " [1, 1]\n",
       " [1, 2]\n",
       " [1, 3]\n",
       " [1, 4]"
      ]
     },
     "metadata": {},
     "output_type": "display_data"
    }
   ],
   "source": [
    "display([[i1[k],j1[k]] for k =1:4])\n",
    "display([[i2[k],j2[k]] for k =1:4])\n",
    "display([[i3[k],j3[k]] for k =1:4])"
   ]
  },
  {
   "cell_type": "code",
   "execution_count": 2,
   "id": "d1d8ead6-474f-4ea0-9fb1-4044c87d5ad6",
   "metadata": {
    "tags": []
   },
   "outputs": [
    {
     "data": {
      "text/plain": [
       "false"
      ]
     },
     "execution_count": 2,
     "metadata": {},
     "output_type": "execute_result"
    }
   ],
   "source": [
    "i=0\n",
    "j=3\n",
    "(i>0)&&(j>0)"
   ]
  }
 ],
 "metadata": {
  "kernelspec": {
   "display_name": "Julia 1.8.4",
   "language": "julia",
   "name": "julia-1.8"
  },
  "language_info": {
   "file_extension": ".jl",
   "mimetype": "application/julia",
   "name": "julia",
   "version": "1.8.4"
  }
 },
 "nbformat": 4,
 "nbformat_minor": 5
}
