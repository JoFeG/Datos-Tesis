{
 "cells": [
  {
   "cell_type": "code",
   "execution_count": 3,
   "id": "85402766-196b-4f6c-a7f0-3bc1e65eee6e",
   "metadata": {},
   "outputs": [],
   "source": [
    "using Symbolics\n",
    "using LinearAlgebra"
   ]
  },
  {
   "cell_type": "code",
   "execution_count": 22,
   "id": "c3b26b8a-8155-48e8-9432-71c1b5a41b06",
   "metadata": {},
   "outputs": [
    {
     "data": {
      "text/latex": [
       "$$ \\begin{equation}\n",
       "\\left[\n",
       "\\begin{array}{cc}\n",
       "\\left(  - \\frac{1}{3} \\left( x{{_1}}ˏ{_1} + x{{_1}}ˏ{_2} + x{{_1}}ˏ{_3} \\right) + x{{_1}}ˏ{_1} \\right)^{2} + \\left(  - \\frac{1}{3} \\left( x{{_1}}ˏ{_1} + x{{_1}}ˏ{_2} + x{{_1}}ˏ{_3} \\right) + x{{_1}}ˏ{_2} \\right)^{2} + \\left(  - \\frac{1}{3} \\left( x{{_1}}ˏ{_1} + x{{_1}}ˏ{_2} + x{{_1}}ˏ{_3} \\right) + x{{_1}}ˏ{_3} \\right)^{2} & \\left(  - \\frac{1}{3} \\left( x{{_1}}ˏ{_1} + x{{_1}}ˏ{_2} + x{{_1}}ˏ{_3} \\right) + x{{_1}}ˏ{_1} \\right) \\left(  - \\frac{1}{3} \\left( x{{_2}}ˏ{_1} + x{{_2}}ˏ{_2} + x{{_2}}ˏ{_3} \\right) + x{{_2}}ˏ{_1} \\right) + \\left(  - \\frac{1}{3} \\left( x{{_1}}ˏ{_1} + x{{_1}}ˏ{_2} + x{{_1}}ˏ{_3} \\right) + x{{_1}}ˏ{_2} \\right) \\left(  - \\frac{1}{3} \\left( x{{_2}}ˏ{_1} + x{{_2}}ˏ{_2} + x{{_2}}ˏ{_3} \\right) + x{{_2}}ˏ{_2} \\right) + \\left(  - \\frac{1}{3} \\left( x{{_1}}ˏ{_1} + x{{_1}}ˏ{_2} + x{{_1}}ˏ{_3} \\right) + x{{_1}}ˏ{_3} \\right) \\left(  - \\frac{1}{3} \\left( x{{_2}}ˏ{_1} + x{{_2}}ˏ{_2} + x{{_2}}ˏ{_3} \\right) + x{{_2}}ˏ{_3} \\right) \\\\\n",
       "\\left(  - \\frac{1}{3} \\left( x{{_1}}ˏ{_1} + x{{_1}}ˏ{_2} + x{{_1}}ˏ{_3} \\right) + x{{_1}}ˏ{_1} \\right) \\left(  - \\frac{1}{3} \\left( x{{_2}}ˏ{_1} + x{{_2}}ˏ{_2} + x{{_2}}ˏ{_3} \\right) + x{{_2}}ˏ{_1} \\right) + \\left(  - \\frac{1}{3} \\left( x{{_1}}ˏ{_1} + x{{_1}}ˏ{_2} + x{{_1}}ˏ{_3} \\right) + x{{_1}}ˏ{_2} \\right) \\left(  - \\frac{1}{3} \\left( x{{_2}}ˏ{_1} + x{{_2}}ˏ{_2} + x{{_2}}ˏ{_3} \\right) + x{{_2}}ˏ{_2} \\right) + \\left(  - \\frac{1}{3} \\left( x{{_1}}ˏ{_1} + x{{_1}}ˏ{_2} + x{{_1}}ˏ{_3} \\right) + x{{_1}}ˏ{_3} \\right) \\left(  - \\frac{1}{3} \\left( x{{_2}}ˏ{_1} + x{{_2}}ˏ{_2} + x{{_2}}ˏ{_3} \\right) + x{{_2}}ˏ{_3} \\right) & \\left(  - \\frac{1}{3} \\left( x{{_2}}ˏ{_1} + x{{_2}}ˏ{_2} + x{{_2}}ˏ{_3} \\right) + x{{_2}}ˏ{_1} \\right)^{2} + \\left(  - \\frac{1}{3} \\left( x{{_2}}ˏ{_1} + x{{_2}}ˏ{_2} + x{{_2}}ˏ{_3} \\right) + x{{_2}}ˏ{_2} \\right)^{2} + \\left(  - \\frac{1}{3} \\left( x{{_2}}ˏ{_1} + x{{_2}}ˏ{_2} + x{{_2}}ˏ{_3} \\right) + x{{_2}}ˏ{_3} \\right)^{2} \\\\\n",
       "\\end{array}\n",
       "\\right]\n",
       "\\end{equation}\n",
       " $$"
      ],
      "text/plain": [
       "2×2 Matrix{Num}:\n",
       "                                                                                                                                              (x[1, 1] - (1//3)*(x[1, 1] + x[1, 2] + x[1, 3]))^2 + (x[1, 2] - (1//3)*(x[1, 1] + x[1, 2] + x[1, 3]))^2 + (x[1, 3] - (1//3)*(x[1, 1] + x[1, 2] + x[1, 3]))^2  …  (x[1, 1] - (1//3)*(x[1, 1] + x[1, 2] + x[1, 3]))*(x[2, 1] - (1//3)*(x[2, 1] + x[2, 2] + x[2, 3])) + (x[1, 2] - (1//3)*(x[1, 1] + x[1, 2] + x[1, 3]))*(x[2, 2] - (1//3)*(x[2, 1] + x[2, 2] + x[2, 3])) + (x[1, 3] - (1//3)*(x[1, 1] + x[1, 2] + x[1, 3]))*(x[2, 3] - (1//3)*(x[2, 1] + x[2, 2] + x[2, 3]))\n",
       " (x[1, 1] - (1//3)*(x[1, 1] + x[1, 2] + x[1, 3]))*(x[2, 1] - (1//3)*(x[2, 1] + x[2, 2] + x[2, 3])) + (x[1, 2] - (1//3)*(x[1, 1] + x[1, 2] + x[1, 3]))*(x[2, 2] - (1//3)*(x[2, 1] + x[2, 2] + x[2, 3])) + (x[1, 3] - (1//3)*(x[1, 1] + x[1, 2] + x[1, 3]))*(x[2, 3] - (1//3)*(x[2, 1] + x[2, 2] + x[2, 3]))                                                                                                                                                  (x[2, 1] - (1//3)*(x[2, 1] + x[2, 2] + x[2, 3]))^2 + (x[2, 2] - (1//3)*(x[2, 1] + x[2, 2] + x[2, 3]))^2 + (x[2, 3] - (1//3)*(x[2, 1] + x[2, 2] + x[2, 3]))^2"
      ]
     },
     "execution_count": 22,
     "metadata": {},
     "output_type": "execute_result"
    }
   ],
   "source": [
    "@variables x[1:2,1:3]\n",
    "x = collect(x)\n",
    "barx = sum(x,dims=2)./3\n",
    "R = (x-barx*ones(1,3))*(x-barx*ones(1,3))'"
   ]
  },
  {
   "cell_type": "code",
   "execution_count": 24,
   "id": "849a9c3e-d14f-48be-bc54-42cc6b4a5c94",
   "metadata": {},
   "outputs": [
    {
     "data": {
      "text/latex": [
       "$$ \\begin{equation}\n",
       "\\left(  - \\frac{1}{3} \\left( x{{_1}}ˏ{_1} + x{{_1}}ˏ{_2} + x{{_1}}ˏ{_3} \\right) + x{{_1}}ˏ{_1} \\right)^{2} + \\left(  - \\frac{1}{3} \\left( x{{_1}}ˏ{_1} + x{{_1}}ˏ{_2} + x{{_1}}ˏ{_3} \\right) + x{{_1}}ˏ{_2} \\right)^{2} + \\left(  - \\frac{1}{3} \\left( x{{_1}}ˏ{_1} + x{{_1}}ˏ{_2} + x{{_1}}ˏ{_3} \\right) + x{{_1}}ˏ{_3} \\right)^{2} + \\left(  - \\frac{1}{3} \\left( x{{_2}}ˏ{_1} + x{{_2}}ˏ{_2} + x{{_2}}ˏ{_3} \\right) + x{{_2}}ˏ{_1} \\right)^{2} + \\left(  - \\frac{1}{3} \\left( x{{_2}}ˏ{_1} + x{{_2}}ˏ{_2} + x{{_2}}ˏ{_3} \\right) + x{{_2}}ˏ{_2} \\right)^{2} + \\left(  - \\frac{1}{3} \\left( x{{_2}}ˏ{_1} + x{{_2}}ˏ{_2} + x{{_2}}ˏ{_3} \\right) + x{{_2}}ˏ{_3} \\right)^{2}\n",
       "\\end{equation}\n",
       " $$"
      ],
      "text/plain": [
       "(x[1, 1] - (1//3)*(x[1, 1] + x[1, 2] + x[1, 3]))^2 + (x[1, 2] - (1//3)*(x[1, 1] + x[1, 2] + x[1, 3]))^2 + (x[1, 3] - (1//3)*(x[1, 1] + x[1, 2] + x[1, 3]))^2 + (x[2, 1] - (1//3)*(x[2, 1] + x[2, 2] + x[2, 3]))^2 + (x[2, 2] - (1//3)*(x[2, 1] + x[2, 2] + x[2, 3]))^2 + (x[2, 3] - (1//3)*(x[2, 1] + x[2, 2] + x[2, 3]))^2"
      ]
     },
     "execution_count": 24,
     "metadata": {},
     "output_type": "execute_result"
    }
   ],
   "source": [
    "trR = tr(R)"
   ]
  },
  {
   "cell_type": "code",
   "execution_count": 28,
   "id": "ef0f9f90-a290-4f3c-93f1-9cade68256dc",
   "metadata": {},
   "outputs": [
    {
     "data": {
      "text/latex": [
       "$$ \\begin{equation}\n",
       "\\frac{2}{3} \\left( x{{_1}}ˏ{_1}^{2} + x{{_1}}ˏ{_2}^{2} + x{{_1}}ˏ{_3}^{2} + x{{_2}}ˏ{_1}^{2} + x{{_2}}ˏ{_2}^{2} + x{{_2}}ˏ{_3}^{2} \\right) - \\frac{2}{3} \\left( x{{_1}}ˏ{_2} + x{{_1}}ˏ{_3} \\right) x{{_1}}ˏ{_1} - \\frac{2}{3} x{{_1}}ˏ{_2} x{{_1}}ˏ{_3} - \\frac{2}{3} \\left( x{{_2}}ˏ{_2} + x{{_2}}ˏ{_3} \\right) x{{_2}}ˏ{_1} - \\frac{2}{3} x{{_2}}ˏ{_2} x{{_2}}ˏ{_3}\n",
       "\\end{equation}\n",
       " $$"
      ],
      "text/plain": [
       "(2//3)*(x[1, 1]^2 + x[1, 2]^2 + x[1, 3]^2 + x[2, 1]^2 + x[2, 2]^2 + x[2, 3]^2) - (2//3)*(x[1, 2] + x[1, 3])*x[1, 1] - (2//3)*x[1, 2]*x[1, 3] - (2//3)*(x[2, 2] + x[2, 3])*x[2, 1] - (2//3)*x[2, 2]*x[2, 3]"
      ]
     },
     "execution_count": 28,
     "metadata": {},
     "output_type": "execute_result"
    }
   ],
   "source": [
    "simplify(simplify(trR; expand=true); expand=false)"
   ]
  },
  {
   "cell_type": "code",
   "execution_count": 3,
   "id": "b194bc0a-2d13-4b5d-bc3c-6ed455ee1117",
   "metadata": {},
   "outputs": [],
   "source": [
    "#=-------------------------\n",
    "Todo esto es un comentario\n",
    "-------------------------=#"
   ]
  }
 ],
 "metadata": {
  "kernelspec": {
   "display_name": "Julia 1.4.1",
   "language": "julia",
   "name": "julia-1.4"
  },
  "language_info": {
   "file_extension": ".jl",
   "mimetype": "application/julia",
   "name": "julia",
   "version": "1.6.1"
  }
 },
 "nbformat": 4,
 "nbformat_minor": 5
}
